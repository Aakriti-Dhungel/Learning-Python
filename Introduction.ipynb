{
  "nbformat": 4,
  "nbformat_minor": 0,
  "metadata": {
    "colab": {
      "provenance": [],
      "authorship_tag": "ABX9TyOJrCJ+Op0K6/8WXsbekH2c",
      "include_colab_link": true
    },
    "kernelspec": {
      "name": "python3",
      "display_name": "Python 3"
    },
    "language_info": {
      "name": "python"
    }
  },
  "cells": [
    {
      "cell_type": "markdown",
      "metadata": {
        "id": "view-in-github",
        "colab_type": "text"
      },
      "source": [
        "<a href=\"https://colab.research.google.com/github/Aakriti-Dhungel/Learning-Python/blob/main/Introduction.ipynb\" target=\"_parent\"><img src=\"https://colab.research.google.com/assets/colab-badge.svg\" alt=\"Open In Colab\"/></a>"
      ]
    },
    {
      "cell_type": "markdown",
      "source": [
        "Python is a popular programming language that is widely used in web development, data science, artificial intelligence, and many other fields."
      ],
      "metadata": {
        "id": "Vh4eRZ3JXrBa"
      }
    },
    {
      "cell_type": "code",
      "source": [
        "print(\"Hello, World!\")"
      ],
      "metadata": {
        "colab": {
          "base_uri": "https://localhost:8080/"
        },
        "id": "8ECE6OdwXu-Y",
        "outputId": "62c37b71-7f4a-4be7-9e57-894a73f41a8d"
      },
      "execution_count": null,
      "outputs": [
        {
          "output_type": "stream",
          "name": "stdout",
          "text": [
            "Hello, World!\n"
          ]
        }
      ]
    },
    {
      "cell_type": "code",
      "source": [
        "print(\"Welcome to Python Learning\")"
      ],
      "metadata": {
        "colab": {
          "base_uri": "https://localhost:8080/"
        },
        "id": "WahhvH6dX-1Z",
        "outputId": "dc476878-34ca-4d37-e127-30f14b4713be"
      },
      "execution_count": null,
      "outputs": [
        {
          "output_type": "stream",
          "name": "stdout",
          "text": [
            "Welcome to Python Learning\n"
          ]
        }
      ]
    },
    {
      "cell_type": "markdown",
      "source": [
        "python is case sensitive  ,\n",
        "extra spaces or differences in capitalization"
      ],
      "metadata": {
        "id": "a4SA6lFuYMH4"
      }
    },
    {
      "cell_type": "code",
      "source": [
        "print(\"welcome\")"
      ],
      "metadata": {
        "colab": {
          "base_uri": "https://localhost:8080/"
        },
        "id": "mUwbJghxYKlK",
        "outputId": "3003808a-05b7-4358-bb8c-780671e143eb"
      },
      "execution_count": null,
      "outputs": [
        {
          "output_type": "stream",
          "name": "stdout",
          "text": [
            "welcome\n"
          ]
        }
      ]
    },
    {
      "cell_type": "markdown",
      "source": [
        "**Number and String**"
      ],
      "metadata": {
        "id": "qbBuAP-LYdAn"
      }
    },
    {
      "cell_type": "markdown",
      "source": [
        "Number can be integer , float , positive ,negative\n",
        "In Python, text wrapped inside quotation marks are called strings. can use single quote or double quote"
      ],
      "metadata": {
        "id": "NsA3RxjIY2Ev"
      }
    },
    {
      "cell_type": "code",
      "source": [
        "print(\"Python\")\n",
        "print(5)\n",
        "print(11)\n",
        "print(\"How are you?\")\n",
        "print(10 + 15)"
      ],
      "metadata": {
        "colab": {
          "base_uri": "https://localhost:8080/"
        },
        "id": "tj9-p288Yi9I",
        "outputId": "b7c951a8-55e3-42ac-87fe-50275fd0f7f8"
      },
      "execution_count": null,
      "outputs": [
        {
          "output_type": "stream",
          "name": "stdout",
          "text": [
            "Python\n",
            "5\n",
            "11\n",
            "How are you?\n",
            "25\n"
          ]
        }
      ]
    },
    {
      "cell_type": "markdown",
      "source": [
        "## **Comments**"
      ],
      "metadata": {
        "id": "8Eyr02usZsAS"
      }
    },
    {
      "cell_type": "code",
      "source": [
        "In Python, we use # to create comments."
      ],
      "metadata": {
        "id": "VwazG2_VZz9u"
      },
      "execution_count": null,
      "outputs": []
    },
    {
      "cell_type": "code",
      "source": [
        "# print(\"Hello World\")\n",
        "print(5)"
      ],
      "metadata": {
        "colab": {
          "base_uri": "https://localhost:8080/"
        },
        "id": "7Xfws6QxaLIY",
        "outputId": "4bd327b4-7187-4065-ce55-83fa2a428744"
      },
      "execution_count": null,
      "outputs": [
        {
          "output_type": "stream",
          "name": "stdout",
          "text": [
            "5\n"
          ]
        }
      ]
    },
    {
      "cell_type": "markdown",
      "source": [
        "## **Variables**"
      ],
      "metadata": {
        "id": "qFkfWGS7aNYL"
      }
    },
    {
      "cell_type": "markdown",
      "source": [
        "Create variables\n",
        "Print variables\n",
        "Change the values assigned to variables"
      ],
      "metadata": {
        "id": "jB9cC52MaWJ8"
      }
    },
    {
      "cell_type": "code",
      "source": [
        "# Create a variable\n",
        "greeting = \"Merry Christmas\"\n",
        "\n",
        "# Display the variable\n",
        "print(greeting)"
      ],
      "metadata": {
        "colab": {
          "base_uri": "https://localhost:8080/"
        },
        "id": "VM4Yzd7OaVYJ",
        "outputId": "0b16ef9c-c89c-499e-b9c5-1651bf8229b9"
      },
      "execution_count": null,
      "outputs": [
        {
          "output_type": "stream",
          "name": "stdout",
          "text": [
            "Merry Christmas\n"
          ]
        }
      ]
    },
    {
      "cell_type": "code",
      "source": [
        "greeting = \"Merry Christmas\"\n",
        "\n",
        "print(\"greeting\")   # Output: greeting\n",
        "print(greeting)     # Output: Merry Christmas"
      ],
      "metadata": {
        "colab": {
          "base_uri": "https://localhost:8080/"
        },
        "id": "LIMDaptzasSV",
        "outputId": "8969b3c1-7cbb-4200-e7e1-21634378e56e"
      },
      "execution_count": null,
      "outputs": [
        {
          "output_type": "stream",
          "name": "stdout",
          "text": [
            "greeting\n",
            "Merry Christmas\n"
          ]
        }
      ]
    },
    {
      "cell_type": "code",
      "source": [
        "name = \"Jack\"\n",
        "\n",
        "print(name)\n",
        "print(\"Jackie\")"
      ],
      "metadata": {
        "colab": {
          "base_uri": "https://localhost:8080/"
        },
        "id": "_TJu18Eaa1oL",
        "outputId": "b94f64c9-51f7-47d7-daad-7f77c450c265"
      },
      "execution_count": null,
      "outputs": [
        {
          "output_type": "stream",
          "name": "stdout",
          "text": [
            "Jack\n",
            "Jackie\n"
          ]
        }
      ]
    },
    {
      "cell_type": "code",
      "source": [
        "# Create the salary variable\n",
        "salary=4950.5\n",
        "\n",
        "# Print the variable\n",
        "print(salary)"
      ],
      "metadata": {
        "colab": {
          "base_uri": "https://localhost:8080/"
        },
        "id": "k6kuRl8DbC5J",
        "outputId": "2d6e8b10-f790-47a7-b658-e2c5e2d693ca"
      },
      "execution_count": null,
      "outputs": [
        {
          "output_type": "stream",
          "name": "stdout",
          "text": [
            "4950.5\n"
          ]
        }
      ]
    },
    {
      "cell_type": "markdown",
      "source": [
        "# Change Values Stored in Variables\n"
      ],
      "metadata": {
        "id": "ls8-MN3cbLhJ"
      }
    },
    {
      "cell_type": "code",
      "source": [
        "age = 25\n",
        "print(age)\n",
        "\n",
        "age = 100\n",
        "print(age)"
      ],
      "metadata": {
        "colab": {
          "base_uri": "https://localhost:8080/"
        },
        "id": "UEpqc1anbSXe",
        "outputId": "778596b0-c6d2-4672-8371-7b021c28b9fd"
      },
      "execution_count": null,
      "outputs": [
        {
          "output_type": "stream",
          "name": "stdout",
          "text": [
            "25\n",
            "100\n"
          ]
        }
      ]
    },
    {
      "cell_type": "code",
      "source": [
        "#Change Values Stored in a Variable\n",
        "# Assign 25 to the variable var\n",
        "var = 25\n",
        "\n",
        "# Print var\n",
        "print(var)\n",
        "# Assign \"John\" to the variable var\n",
        "var = \"John\"\n",
        "# Print var again\n",
        "print(var)"
      ],
      "metadata": {
        "colab": {
          "base_uri": "https://localhost:8080/"
        },
        "id": "mX60PhWobhoA",
        "outputId": "79b71303-cd88-4f40-c4bc-2a9e3893a6f9"
      },
      "execution_count": null,
      "outputs": [
        {
          "output_type": "stream",
          "name": "stdout",
          "text": [
            "25\n",
            "John\n"
          ]
        }
      ]
    },
    {
      "cell_type": "code",
      "source": [
        "#Assign Value of One Variable to Another\n",
        "color1 = \"blue\"\n",
        "print(color1)   # Output: blue\n",
        "\n",
        "color2 = \"pink\"\n",
        "\n",
        "# Assign the value stored in color2 to color1\n",
        "color1 = color2\n",
        "\n",
        "print(color1)  # Output: pink\n",
        "print(color2)  # Output: pink"
      ],
      "metadata": {
        "colab": {
          "base_uri": "https://localhost:8080/"
        },
        "id": "pIVfh3Dgb0a4",
        "outputId": "8397399a-fd1d-4bf8-fbc6-376937f3b4ae"
      },
      "execution_count": null,
      "outputs": [
        {
          "output_type": "stream",
          "name": "stdout",
          "text": [
            "blue\n",
            "pink\n",
            "pink\n"
          ]
        }
      ]
    },
    {
      "cell_type": "code",
      "source": [
        "# Create the favorite_food variable\n",
        "favorite_food = \"steak\"\n",
        "\n",
        "# Print the favorite_food variable\n",
        "print(favorite_food)\n",
        "# Create the food variable\n",
        "food = \"pizza\"\n",
        "# Assign food to favorite_food\n",
        "favorite_food = food\n",
        "# Print the favorite_food variable\n",
        "print(favorite_food)"
      ],
      "metadata": {
        "colab": {
          "base_uri": "https://localhost:8080/"
        },
        "id": "iUUvtZ5HcdQn",
        "outputId": "98d28817-fd4a-4d2a-80c7-1732e4803d9e"
      },
      "execution_count": null,
      "outputs": [
        {
          "output_type": "stream",
          "name": "stdout",
          "text": [
            "steak\n",
            "pizza\n"
          ]
        }
      ]
    },
    {
      "cell_type": "code",
      "source": [
        "city = \"San Francisco\"\n",
        "\n",
        "# Print the value stored in the city variable\n",
        "print(city)   # Output: San Francisco\n",
        "\n",
        "# Print the \"city\" string\n",
        "print(\"city\")   # Output: city"
      ],
      "metadata": {
        "colab": {
          "base_uri": "https://localhost:8080/"
        },
        "id": "AGLo0lB5cpEC",
        "outputId": "fd379f5a-3b5d-485f-a007-38287ed5d0ad"
      },
      "execution_count": null,
      "outputs": [
        {
          "output_type": "stream",
          "name": "stdout",
          "text": [
            "San Francisco\n",
            "city\n"
          ]
        }
      ]
    },
    {
      "cell_type": "markdown",
      "source": [
        "## **0utput**\n",
        "Introduction to Output"
      ],
      "metadata": {
        "id": "0ouFCUq7cxAD"
      }
    },
    {
      "cell_type": "code",
      "source": [
        "# Print an integer\n",
        "print(34)    # Output: 34\n",
        "\n",
        "# Print a string\n",
        "print(\"Squid Game\")    # Output: Squid Game\n",
        "\n",
        "# Create a variable\n",
        "city = \"London\"\n",
        "\n",
        "# Print the city variable\n",
        "print(city)     # Output: London"
      ],
      "metadata": {
        "colab": {
          "base_uri": "https://localhost:8080/"
        },
        "id": "MpAOEPhGc6QX",
        "outputId": "929edfc0-06b9-4b8e-f48d-8791b3eda966"
      },
      "execution_count": null,
      "outputs": [
        {
          "output_type": "stream",
          "name": "stdout",
          "text": [
            "34\n",
            "Squid Game\n",
            "London\n"
          ]
        }
      ]
    },
    {
      "cell_type": "code",
      "source": [
        "name = \"Jack\"\n",
        "print(\"Name:\", name)"
      ],
      "metadata": {
        "colab": {
          "base_uri": "https://localhost:8080/"
        },
        "id": "IaZzrpiMdN0A",
        "outputId": "4073f8e1-b90c-4309-8b28-97df20b49f9b"
      },
      "execution_count": null,
      "outputs": [
        {
          "output_type": "stream",
          "name": "stdout",
          "text": [
            "Name: Jack\n"
          ]
        }
      ]
    },
    {
      "cell_type": "code",
      "source": [
        "# Print a String and a Number\n",
        "# Create the variable age\n",
        "age = 19\n",
        "\n",
        "# Create the message variable\n",
        "message = \"My age is:\"\n",
        "\n",
        "# Print message and age variables\n",
        "print(message,age)"
      ],
      "metadata": {
        "id": "fzbpmPm6deo0"
      },
      "execution_count": null,
      "outputs": []
    },
    {
      "cell_type": "markdown",
      "source": [
        "**Print Newline (Enter Key)**\n"
      ],
      "metadata": {
        "id": "gzgdtJwgdn1E"
      }
    },
    {
      "cell_type": "code",
      "source": [
        "print(\"Welcome to Programiz\\n\\nThe Amazing Spider-Man\")"
      ],
      "metadata": {
        "colab": {
          "base_uri": "https://localhost:8080/"
        },
        "id": "yGBtm-ctdsPt",
        "outputId": "070a284e-29e4-4575-8c86-81eb57a26cad"
      },
      "execution_count": null,
      "outputs": [
        {
          "output_type": "stream",
          "name": "stdout",
          "text": [
            "Welcome to Programiz\n",
            "\n",
            "The Amazing Spider-Man\n"
          ]
        }
      ]
    },
    {
      "cell_type": "code",
      "source": [
        "print(\"Hey\\nHow are you\")"
      ],
      "metadata": {
        "colab": {
          "base_uri": "https://localhost:8080/"
        },
        "id": "sVuKUUJPeEGM",
        "outputId": "b1aac66e-e9c2-4ced-c3c6-d261d08cb49f"
      },
      "execution_count": null,
      "outputs": [
        {
          "output_type": "stream",
          "name": "stdout",
          "text": [
            "Hey\n",
            "How are you\n"
          ]
        }
      ]
    },
    {
      "cell_type": "markdown",
      "source": [
        "**Python f-strings**\n",
        "\n",
        "\n",
        "```\n",
        "# This is formatted as code\n",
        "```\n",
        "\n",
        "\n",
        "printing multiple values and variables."
      ],
      "metadata": {
        "id": "eNmuPcGCeJrn"
      }
    },
    {
      "cell_type": "code",
      "source": [
        "print(f\"Hello\")\n"
      ],
      "metadata": {
        "colab": {
          "base_uri": "https://localhost:8080/"
        },
        "id": "Ob5BKJtLeZMs",
        "outputId": "438b3f1d-9492-46f9-cbca-636975b4951b"
      },
      "execution_count": null,
      "outputs": [
        {
          "output_type": "stream",
          "name": "stdout",
          "text": [
            "Hello\n"
          ]
        }
      ]
    },
    {
      "cell_type": "code",
      "source": [
        "# Print Variables Using f-strings\n",
        "name = \"Alice\"\n",
        "location = \"Wonderland\"\n",
        "\n",
        "print(f\"My name is {name} and I live in {location}.\")"
      ],
      "metadata": {
        "colab": {
          "base_uri": "https://localhost:8080/"
        },
        "id": "fhnB8pzbeeB1",
        "outputId": "8c037b73-0d24-45f8-f05b-411003189b50"
      },
      "execution_count": null,
      "outputs": [
        {
          "output_type": "stream",
          "name": "stdout",
          "text": [
            "My name is Alice and I live in Wonderland.\n"
          ]
        }
      ]
    },
    {
      "cell_type": "code",
      "source": [
        "title = \"The Great Gatsby\"\n",
        "author = \"Fitzgerald\"\n",
        "\n",
        "# Write your code below\n",
        "print(f\"{title} by {author}.\")"
      ],
      "metadata": {
        "colab": {
          "base_uri": "https://localhost:8080/"
        },
        "id": "0iKwI76Je4nO",
        "outputId": "4e6afbb1-781e-40ca-8aa8-e620f616791e"
      },
      "execution_count": null,
      "outputs": [
        {
          "output_type": "stream",
          "name": "stdout",
          "text": [
            "The Great Gatsby by Fitzgerald.\n"
          ]
        }
      ]
    },
    {
      "cell_type": "markdown",
      "source": [
        "**Common Mistakes Python f-strings**\n",
        "1. Spelling Error\n",
        "\n",
        "2. Adding Spaces at the Beginning\n",
        "\n",
        "3. Error because of Quotation Marks\n",
        "\n",
        "4. Forgetting Commas in the print() Function\n",
        "\n",
        "5. Forgetting to use f in a f-string\n",
        "\n"
      ],
      "metadata": {
        "id": "jGH1sjWde953"
      }
    },
    {
      "cell_type": "code",
      "source": [
        "from google.colab import drive\n",
        "drive.mount('/content/drive')"
      ],
      "metadata": {
        "id": "t7L4d265i-2V"
      },
      "execution_count": null,
      "outputs": []
    },
    {
      "cell_type": "markdown",
      "source": [
        "## **Arithmetic Operators**\n"
      ],
      "metadata": {
        "id": "H_WChQtwfapP"
      }
    },
    {
      "cell_type": "code",
      "source": [],
      "metadata": {
        "id": "4pkg9MHNfPr_"
      },
      "execution_count": null,
      "outputs": []
    }
  ]
}