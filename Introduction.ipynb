{
  "nbformat": 4,
  "nbformat_minor": 0,
  "metadata": {
    "colab": {
      "provenance": [],
      "authorship_tag": "ABX9TyOYjhiStmshdZ7ToGuZdsZ3",
      "include_colab_link": true
    },
    "kernelspec": {
      "name": "python3",
      "display_name": "Python 3"
    },
    "language_info": {
      "name": "python"
    }
  },
  "cells": [
    {
      "cell_type": "markdown",
      "metadata": {
        "id": "view-in-github",
        "colab_type": "text"
      },
      "source": [
        "<a href=\"https://colab.research.google.com/github/Aakriti-Dhungel/Learning-Python/blob/main/Introduction.ipynb\" target=\"_parent\"><img src=\"https://colab.research.google.com/assets/colab-badge.svg\" alt=\"Open In Colab\"/></a>"
      ]
    },
    {
      "cell_type": "markdown",
      "source": [
        "Python is a popular programming language that is widely used in web development, data science, artificial intelligence, and many other fields."
      ],
      "metadata": {
        "id": "Vh4eRZ3JXrBa"
      }
    },
    {
      "cell_type": "code",
      "source": [
        "print(\"Hello, World!\")"
      ],
      "metadata": {
        "colab": {
          "base_uri": "https://localhost:8080/"
        },
        "id": "8ECE6OdwXu-Y",
        "outputId": "62c37b71-7f4a-4be7-9e57-894a73f41a8d"
      },
      "execution_count": null,
      "outputs": [
        {
          "output_type": "stream",
          "name": "stdout",
          "text": [
            "Hello, World!\n"
          ]
        }
      ]
    },
    {
      "cell_type": "code",
      "source": [
        "print(\"Welcome to Python Learning\")"
      ],
      "metadata": {
        "colab": {
          "base_uri": "https://localhost:8080/"
        },
        "id": "WahhvH6dX-1Z",
        "outputId": "dc476878-34ca-4d37-e127-30f14b4713be"
      },
      "execution_count": null,
      "outputs": [
        {
          "output_type": "stream",
          "name": "stdout",
          "text": [
            "Welcome to Python Learning\n"
          ]
        }
      ]
    },
    {
      "cell_type": "markdown",
      "source": [
        "python is case sensitive  ,\n",
        "extra spaces or differences in capitalization"
      ],
      "metadata": {
        "id": "a4SA6lFuYMH4"
      }
    },
    {
      "cell_type": "code",
      "source": [
        "print(\"welcome\")"
      ],
      "metadata": {
        "colab": {
          "base_uri": "https://localhost:8080/"
        },
        "id": "mUwbJghxYKlK",
        "outputId": "3003808a-05b7-4358-bb8c-780671e143eb"
      },
      "execution_count": null,
      "outputs": [
        {
          "output_type": "stream",
          "name": "stdout",
          "text": [
            "welcome\n"
          ]
        }
      ]
    },
    {
      "cell_type": "markdown",
      "source": [
        "**Number and String**"
      ],
      "metadata": {
        "id": "qbBuAP-LYdAn"
      }
    },
    {
      "cell_type": "markdown",
      "source": [
        "Number can be integer , float , positive ,negative\n",
        "In Python, text wrapped inside quotation marks are called strings. can use single quote or double quote"
      ],
      "metadata": {
        "id": "NsA3RxjIY2Ev"
      }
    },
    {
      "cell_type": "code",
      "source": [
        "print(\"Python\")\n",
        "print(5)\n",
        "print(11)\n",
        "print(\"How are you?\")\n",
        "print(10 + 15)"
      ],
      "metadata": {
        "colab": {
          "base_uri": "https://localhost:8080/"
        },
        "id": "tj9-p288Yi9I",
        "outputId": "b7c951a8-55e3-42ac-87fe-50275fd0f7f8"
      },
      "execution_count": null,
      "outputs": [
        {
          "output_type": "stream",
          "name": "stdout",
          "text": [
            "Python\n",
            "5\n",
            "11\n",
            "How are you?\n",
            "25\n"
          ]
        }
      ]
    },
    {
      "cell_type": "markdown",
      "source": [
        "## **Comments**"
      ],
      "metadata": {
        "id": "8Eyr02usZsAS"
      }
    },
    {
      "cell_type": "code",
      "source": [
        "In Python, we use # to create comments."
      ],
      "metadata": {
        "id": "VwazG2_VZz9u"
      },
      "execution_count": null,
      "outputs": []
    },
    {
      "cell_type": "code",
      "source": [
        "# print(\"Hello World\")\n",
        "print(5)"
      ],
      "metadata": {
        "colab": {
          "base_uri": "https://localhost:8080/"
        },
        "id": "7Xfws6QxaLIY",
        "outputId": "4bd327b4-7187-4065-ce55-83fa2a428744"
      },
      "execution_count": null,
      "outputs": [
        {
          "output_type": "stream",
          "name": "stdout",
          "text": [
            "5\n"
          ]
        }
      ]
    },
    {
      "cell_type": "markdown",
      "source": [
        "## **Variables**"
      ],
      "metadata": {
        "id": "qFkfWGS7aNYL"
      }
    },
    {
      "cell_type": "markdown",
      "source": [
        "Create variables\n",
        "Print variables\n",
        "Change the values assigned to variables"
      ],
      "metadata": {
        "id": "jB9cC52MaWJ8"
      }
    },
    {
      "cell_type": "code",
      "source": [
        "# Create a variable\n",
        "greeting = \"Merry Christmas\"\n",
        "\n",
        "# Display the variable\n",
        "print(greeting)"
      ],
      "metadata": {
        "colab": {
          "base_uri": "https://localhost:8080/"
        },
        "id": "VM4Yzd7OaVYJ",
        "outputId": "0b16ef9c-c89c-499e-b9c5-1651bf8229b9"
      },
      "execution_count": null,
      "outputs": [
        {
          "output_type": "stream",
          "name": "stdout",
          "text": [
            "Merry Christmas\n"
          ]
        }
      ]
    },
    {
      "cell_type": "code",
      "source": [
        "greeting = \"Merry Christmas\"\n",
        "\n",
        "print(\"greeting\")   # Output: greeting\n",
        "print(greeting)     # Output: Merry Christmas"
      ],
      "metadata": {
        "colab": {
          "base_uri": "https://localhost:8080/"
        },
        "id": "LIMDaptzasSV",
        "outputId": "8969b3c1-7cbb-4200-e7e1-21634378e56e"
      },
      "execution_count": null,
      "outputs": [
        {
          "output_type": "stream",
          "name": "stdout",
          "text": [
            "greeting\n",
            "Merry Christmas\n"
          ]
        }
      ]
    },
    {
      "cell_type": "code",
      "source": [
        "name = \"Jack\"\n",
        "\n",
        "print(name)\n",
        "print(\"Jackie\")"
      ],
      "metadata": {
        "colab": {
          "base_uri": "https://localhost:8080/"
        },
        "id": "_TJu18Eaa1oL",
        "outputId": "b94f64c9-51f7-47d7-daad-7f77c450c265"
      },
      "execution_count": null,
      "outputs": [
        {
          "output_type": "stream",
          "name": "stdout",
          "text": [
            "Jack\n",
            "Jackie\n"
          ]
        }
      ]
    },
    {
      "cell_type": "code",
      "source": [
        "# Create the salary variable\n",
        "salary=4950.5\n",
        "\n",
        "# Print the variable\n",
        "print(salary)"
      ],
      "metadata": {
        "colab": {
          "base_uri": "https://localhost:8080/"
        },
        "id": "k6kuRl8DbC5J",
        "outputId": "2d6e8b10-f790-47a7-b658-e2c5e2d693ca"
      },
      "execution_count": null,
      "outputs": [
        {
          "output_type": "stream",
          "name": "stdout",
          "text": [
            "4950.5\n"
          ]
        }
      ]
    },
    {
      "cell_type": "markdown",
      "source": [
        "# Change Values Stored in Variables\n"
      ],
      "metadata": {
        "id": "ls8-MN3cbLhJ"
      }
    },
    {
      "cell_type": "code",
      "source": [
        "age = 25\n",
        "print(age)\n",
        "\n",
        "age = 100\n",
        "print(age)"
      ],
      "metadata": {
        "colab": {
          "base_uri": "https://localhost:8080/"
        },
        "id": "UEpqc1anbSXe",
        "outputId": "778596b0-c6d2-4672-8371-7b021c28b9fd"
      },
      "execution_count": null,
      "outputs": [
        {
          "output_type": "stream",
          "name": "stdout",
          "text": [
            "25\n",
            "100\n"
          ]
        }
      ]
    },
    {
      "cell_type": "code",
      "source": [
        "#Change Values Stored in a Variable\n",
        "# Assign 25 to the variable var\n",
        "var = 25\n",
        "\n",
        "# Print var\n",
        "print(var)\n",
        "# Assign \"John\" to the variable var\n",
        "var = \"John\"\n",
        "# Print var again\n",
        "print(var)"
      ],
      "metadata": {
        "colab": {
          "base_uri": "https://localhost:8080/"
        },
        "id": "mX60PhWobhoA",
        "outputId": "79b71303-cd88-4f40-c4bc-2a9e3893a6f9"
      },
      "execution_count": null,
      "outputs": [
        {
          "output_type": "stream",
          "name": "stdout",
          "text": [
            "25\n",
            "John\n"
          ]
        }
      ]
    },
    {
      "cell_type": "code",
      "source": [
        "#Assign Value of One Variable to Another\n",
        "color1 = \"blue\"\n",
        "print(color1)   # Output: blue\n",
        "\n",
        "color2 = \"pink\"\n",
        "\n",
        "# Assign the value stored in color2 to color1\n",
        "color1 = color2\n",
        "\n",
        "print(color1)  # Output: pink\n",
        "print(color2)  # Output: pink"
      ],
      "metadata": {
        "colab": {
          "base_uri": "https://localhost:8080/"
        },
        "id": "pIVfh3Dgb0a4",
        "outputId": "8397399a-fd1d-4bf8-fbc6-376937f3b4ae"
      },
      "execution_count": null,
      "outputs": [
        {
          "output_type": "stream",
          "name": "stdout",
          "text": [
            "blue\n",
            "pink\n",
            "pink\n"
          ]
        }
      ]
    },
    {
      "cell_type": "code",
      "source": [
        "# Create the favorite_food variable\n",
        "favorite_food = \"steak\"\n",
        "\n",
        "# Print the favorite_food variable\n",
        "print(favorite_food)\n",
        "# Create the food variable\n",
        "food = \"pizza\"\n",
        "# Assign food to favorite_food\n",
        "favorite_food = food\n",
        "# Print the favorite_food variable\n",
        "print(favorite_food)"
      ],
      "metadata": {
        "colab": {
          "base_uri": "https://localhost:8080/"
        },
        "id": "iUUvtZ5HcdQn",
        "outputId": "98d28817-fd4a-4d2a-80c7-1732e4803d9e"
      },
      "execution_count": null,
      "outputs": [
        {
          "output_type": "stream",
          "name": "stdout",
          "text": [
            "steak\n",
            "pizza\n"
          ]
        }
      ]
    },
    {
      "cell_type": "code",
      "source": [
        "city = \"San Francisco\"\n",
        "\n",
        "# Print the value stored in the city variable\n",
        "print(city)   # Output: San Francisco\n",
        "\n",
        "# Print the \"city\" string\n",
        "print(\"city\")   # Output: city"
      ],
      "metadata": {
        "colab": {
          "base_uri": "https://localhost:8080/"
        },
        "id": "AGLo0lB5cpEC",
        "outputId": "fd379f5a-3b5d-485f-a007-38287ed5d0ad"
      },
      "execution_count": null,
      "outputs": [
        {
          "output_type": "stream",
          "name": "stdout",
          "text": [
            "San Francisco\n",
            "city\n"
          ]
        }
      ]
    },
    {
      "cell_type": "markdown",
      "source": [
        "## **0utput**\n",
        "Introduction to Output"
      ],
      "metadata": {
        "id": "0ouFCUq7cxAD"
      }
    },
    {
      "cell_type": "code",
      "source": [
        "# Print an integer\n",
        "print(34)    # Output: 34\n",
        "\n",
        "# Print a string\n",
        "print(\"Squid Game\")    # Output: Squid Game\n",
        "\n",
        "# Create a variable\n",
        "city = \"London\"\n",
        "\n",
        "# Print the city variable\n",
        "print(city)     # Output: London"
      ],
      "metadata": {
        "colab": {
          "base_uri": "https://localhost:8080/"
        },
        "id": "MpAOEPhGc6QX",
        "outputId": "929edfc0-06b9-4b8e-f48d-8791b3eda966"
      },
      "execution_count": null,
      "outputs": [
        {
          "output_type": "stream",
          "name": "stdout",
          "text": [
            "34\n",
            "Squid Game\n",
            "London\n"
          ]
        }
      ]
    },
    {
      "cell_type": "code",
      "source": [
        "name = \"Jack\"\n",
        "print(\"Name:\", name)"
      ],
      "metadata": {
        "colab": {
          "base_uri": "https://localhost:8080/"
        },
        "id": "IaZzrpiMdN0A",
        "outputId": "4073f8e1-b90c-4309-8b28-97df20b49f9b"
      },
      "execution_count": null,
      "outputs": [
        {
          "output_type": "stream",
          "name": "stdout",
          "text": [
            "Name: Jack\n"
          ]
        }
      ]
    },
    {
      "cell_type": "code",
      "source": [
        "# Print a String and a Number\n",
        "# Create the variable age\n",
        "age = 19\n",
        "\n",
        "# Create the message variable\n",
        "message = \"My age is:\"\n",
        "\n",
        "# Print message and age variables\n",
        "print(message,age)"
      ],
      "metadata": {
        "id": "fzbpmPm6deo0"
      },
      "execution_count": null,
      "outputs": []
    },
    {
      "cell_type": "markdown",
      "source": [
        "**Print Newline (Enter Key)**\n"
      ],
      "metadata": {
        "id": "gzgdtJwgdn1E"
      }
    },
    {
      "cell_type": "code",
      "source": [
        "print(\"Welcome to Programiz\\n\\nThe Amazing Spider-Man\")"
      ],
      "metadata": {
        "colab": {
          "base_uri": "https://localhost:8080/"
        },
        "id": "yGBtm-ctdsPt",
        "outputId": "070a284e-29e4-4575-8c86-81eb57a26cad"
      },
      "execution_count": null,
      "outputs": [
        {
          "output_type": "stream",
          "name": "stdout",
          "text": [
            "Welcome to Programiz\n",
            "\n",
            "The Amazing Spider-Man\n"
          ]
        }
      ]
    },
    {
      "cell_type": "code",
      "source": [
        "print(\"Hey\\nHow are you\")"
      ],
      "metadata": {
        "colab": {
          "base_uri": "https://localhost:8080/"
        },
        "id": "sVuKUUJPeEGM",
        "outputId": "b1aac66e-e9c2-4ced-c3c6-d261d08cb49f"
      },
      "execution_count": null,
      "outputs": [
        {
          "output_type": "stream",
          "name": "stdout",
          "text": [
            "Hey\n",
            "How are you\n"
          ]
        }
      ]
    },
    {
      "cell_type": "markdown",
      "source": [
        "**Python f-strings**\n",
        "\n",
        "\n",
        "```\n",
        "# This is formatted as code\n",
        "```\n",
        "\n",
        "\n",
        "printing multiple values and variables."
      ],
      "metadata": {
        "id": "eNmuPcGCeJrn"
      }
    },
    {
      "cell_type": "code",
      "source": [
        "print(f\"Hello\")\n"
      ],
      "metadata": {
        "colab": {
          "base_uri": "https://localhost:8080/"
        },
        "id": "Ob5BKJtLeZMs",
        "outputId": "438b3f1d-9492-46f9-cbca-636975b4951b"
      },
      "execution_count": null,
      "outputs": [
        {
          "output_type": "stream",
          "name": "stdout",
          "text": [
            "Hello\n"
          ]
        }
      ]
    },
    {
      "cell_type": "code",
      "source": [
        "# Print Variables Using f-strings\n",
        "name = \"Alice\"\n",
        "location = \"Wonderland\"\n",
        "\n",
        "print(f\"My name is {name} and I live in {location}.\")"
      ],
      "metadata": {
        "colab": {
          "base_uri": "https://localhost:8080/"
        },
        "id": "fhnB8pzbeeB1",
        "outputId": "8c037b73-0d24-45f8-f05b-411003189b50"
      },
      "execution_count": null,
      "outputs": [
        {
          "output_type": "stream",
          "name": "stdout",
          "text": [
            "My name is Alice and I live in Wonderland.\n"
          ]
        }
      ]
    },
    {
      "cell_type": "code",
      "source": [
        "title = \"The Great Gatsby\"\n",
        "author = \"Fitzgerald\"\n",
        "\n",
        "# Write your code below\n",
        "print(f\"{title} by {author}.\")"
      ],
      "metadata": {
        "colab": {
          "base_uri": "https://localhost:8080/"
        },
        "id": "0iKwI76Je4nO",
        "outputId": "4e6afbb1-781e-40ca-8aa8-e620f616791e"
      },
      "execution_count": null,
      "outputs": [
        {
          "output_type": "stream",
          "name": "stdout",
          "text": [
            "The Great Gatsby by Fitzgerald.\n"
          ]
        }
      ]
    },
    {
      "cell_type": "markdown",
      "source": [
        "**Common Mistakes Python f-strings**\n",
        "1. Spelling Error\n",
        "\n",
        "2. Adding Spaces at the Beginning\n",
        "\n",
        "3. Error because of Quotation Marks\n",
        "\n",
        "4. Forgetting Commas in the print() Function\n",
        "\n",
        "5. Forgetting to use f in a f-string\n",
        "\n"
      ],
      "metadata": {
        "id": "jGH1sjWde953"
      }
    },
    {
      "cell_type": "code",
      "source": [
        "from google.colab import drive\n",
        "drive.mount('/content/drive')"
      ],
      "metadata": {
        "id": "t7L4d265i-2V"
      },
      "execution_count": null,
      "outputs": []
    },
    {
      "cell_type": "markdown",
      "source": [
        "## **Arithmetic Operators**\n"
      ],
      "metadata": {
        "id": "H_WChQtwfapP"
      }
    },
    {
      "cell_type": "markdown",
      "source": [
        "Operator\tSyntax\tMeaning\n",
        "  *\tx + y\tAddition\n",
        "  * x - y\tSubtraction\n",
        "  * x * y\tMultiplication\n",
        "  * x / y\tDivision\n",
        "  * x % y\tRemainder\n",
        "  * x // y\tQuotient\n",
        "  * x ** y Exponentiation"
      ],
      "metadata": {
        "id": "xaD0IKnft9Pc"
      }
    },
    {
      "cell_type": "code",
      "source": [
        "x = 10\n",
        "y = 20\n",
        "\n",
        "# Use + to perform addition\n",
        "total = x + y + 30\n",
        "\n",
        "print(total)    # Output: 60\n",
        "\n",
        "print(x + y)    # Output: 30"
      ],
      "metadata": {
        "id": "4pkg9MHNfPr_",
        "colab": {
          "base_uri": "https://localhost:8080/"
        },
        "outputId": "6aae53a0-ef09-4f8d-a10a-aa5bdb9fd245"
      },
      "execution_count": 3,
      "outputs": [
        {
          "output_type": "stream",
          "name": "stdout",
          "text": [
            "60\n",
            "30\n"
          ]
        }
      ]
    },
    {
      "cell_type": "code",
      "source": [
        "x = 10\n",
        "y = 6\n",
        "\n",
        "result = x - y\n",
        "print(result)    # Output: 4"
      ],
      "metadata": {
        "colab": {
          "base_uri": "https://localhost:8080/"
        },
        "id": "VGZ72IgHwBZr",
        "outputId": "b9369fc2-5c62-406c-d1d7-1c1e1f513dde"
      },
      "execution_count": 4,
      "outputs": [
        {
          "output_type": "stream",
          "name": "stdout",
          "text": [
            "4\n"
          ]
        }
      ]
    },
    {
      "cell_type": "code",
      "source": [
        "# Create the cost_price variable\n",
        "cost_price =25\n",
        "# Create the selling_price variable\n",
        "selling_price =35\n",
        "\n",
        "# Compute the profit and print it\n",
        "profit = selling_price - cost_price\n",
        "print(profit)"
      ],
      "metadata": {
        "colab": {
          "base_uri": "https://localhost:8080/"
        },
        "id": "lUhQmryGwU3v",
        "outputId": "e8687f1d-0137-4d8c-9e16-ba9662d96916"
      },
      "execution_count": 5,
      "outputs": [
        {
          "output_type": "stream",
          "name": "stdout",
          "text": [
            "10\n"
          ]
        }
      ]
    },
    {
      "cell_type": "code",
      "source": [
        "number1 = 5\n",
        "number2 = 10\n",
        "\n",
        "# Compute the product of number1 and number2\n",
        "product = number1 * number2\n",
        "print(product)\n",
        " #Another\n",
        "number = 5.5\n",
        "\n",
        "# Compute the product of number and 10\n",
        "product = number * 10\n",
        "print(product)"
      ],
      "metadata": {
        "colab": {
          "base_uri": "https://localhost:8080/"
        },
        "id": "cE7sScAHwbVg",
        "outputId": "e27af01f-32b4-4167-fc92-34cacb025414"
      },
      "execution_count": 7,
      "outputs": [
        {
          "output_type": "stream",
          "name": "stdout",
          "text": [
            "50\n",
            "55.0\n"
          ]
        }
      ]
    },
    {
      "cell_type": "code",
      "source": [
        "number = 25\n",
        "\n",
        "result = number / 4\n",
        "print(result)\n",
        "\n",
        "result = number / 5\n",
        "print(result)"
      ],
      "metadata": {
        "colab": {
          "base_uri": "https://localhost:8080/"
        },
        "id": "vfT4ImHtwpxN",
        "outputId": "cd3482d0-b572-403b-e305-e1bf366f8e66"
      },
      "execution_count": 9,
      "outputs": [
        {
          "output_type": "stream",
          "name": "stdout",
          "text": [
            "6.25\n",
            "5.0\n"
          ]
        }
      ]
    },
    {
      "cell_type": "markdown",
      "source": [
        "The / operator always returns a floating-point value. In the above program, 25 / 5 results in 5.0 and not 5."
      ],
      "metadata": {
        "id": "eQjl4V1Twy7q"
      }
    },
    {
      "cell_type": "markdown",
      "source": [
        "# Quotient and Remainder`"
      ],
      "metadata": {
        "id": "__MU4jHjw8-y"
      }
    },
    {
      "cell_type": "code",
      "source": [
        "divisor = 4\n",
        "dividend = 25\n",
        "\n",
        "# Compute quotient\n",
        "quotient = dividend // divisor\n",
        "\n",
        "print(quotient)    # Output: 6"
      ],
      "metadata": {
        "colab": {
          "base_uri": "https://localhost:8080/"
        },
        "id": "1OmQrGplxBCa",
        "outputId": "b7c19406-ff10-450e-a720-c0252cfdac02"
      },
      "execution_count": 11,
      "outputs": [
        {
          "output_type": "stream",
          "name": "stdout",
          "text": [
            "6\n"
          ]
        }
      ]
    },
    {
      "cell_type": "code",
      "source": [
        "divisor = 4\n",
        "dividend = 25\n",
        "\n",
        "# compute remainder\n",
        "remainder = dividend % divisor\n",
        "\n",
        "print(remainder)    # Output: 1"
      ],
      "metadata": {
        "colab": {
          "base_uri": "https://localhost:8080/"
        },
        "id": "_qqaCgQFxF6u",
        "outputId": "946e953c-ebad-4e42-e525-09399a7f96ff"
      },
      "execution_count": 10,
      "outputs": [
        {
          "output_type": "stream",
          "name": "stdout",
          "text": [
            "1\n"
          ]
        }
      ]
    },
    {
      "cell_type": "markdown",
      "source": [
        "Write a program to divide pens among students.\n",
        "\n",
        "Imagine you have to divide 14 pens among 3 students equally. Your task is to find out:\n",
        "\n",
        "How many pens each student would get when divided equally?\n",
        "The number of pens left over (if any)."
      ],
      "metadata": {
        "id": "VFdp6XJ0x_0d"
      }
    },
    {
      "cell_type": "code",
      "source": [
        "# Create pen_number and student_number variables\n",
        "pen_number = 14\n",
        "student_number =3\n",
        "# Compute the number of pens each student will get and print it\n",
        "# Hint: find the quotient\n",
        "pens = pen_number // student_number\n",
        "print(\"Pens for each student:\",pens)\n",
        "# Compute and print the number of remaining pens\n",
        "# Hint: find the remainder\n",
        "pens = pen_number % student_number\n",
        "print(\"Remaining pens:\",pens)"
      ],
      "metadata": {
        "colab": {
          "base_uri": "https://localhost:8080/"
        },
        "id": "vFEdYEOayCl8",
        "outputId": "43b94ec1-a358-4183-db63-929e44c45252"
      },
      "execution_count": 12,
      "outputs": [
        {
          "output_type": "stream",
          "name": "stdout",
          "text": [
            "Pens for each student: 4\n",
            "Remaining pens: 2\n"
          ]
        }
      ]
    },
    {
      "cell_type": "code",
      "source": [
        "# ** Operator\n",
        "\n",
        "base = 4\n",
        "power = 3\n",
        "\n",
        "result = base ** power\n",
        "print(result)\n",
        "\n",
        "base = 2.5\n",
        "power = 3\n",
        "\n",
        "result = base ** power\n",
        "print(result)\n"
      ],
      "metadata": {
        "colab": {
          "base_uri": "https://localhost:8080/"
        },
        "id": "bXvzSFgAyIWO",
        "outputId": "b9112b0a-0f42-4574-b4e0-9af7a8aa69a6"
      },
      "execution_count": 13,
      "outputs": [
        {
          "output_type": "stream",
          "name": "stdout",
          "text": [
            "64\n",
            "15.625\n"
          ]
        }
      ]
    },
    {
      "cell_type": "markdown",
      "source": [
        "Write a program to find the volume of a cube.\n",
        "\n",
        "Create a variable named length and assign it the value 5.\n",
        "Calculate the volume of the cube using its length.\n",
        "Print the volume.\n",
        "Hint: The volume of a cube is calculated as:\n",
        "\n",
        "volume = length^3"
      ],
      "metadata": {
        "id": "oAY7cCu8ygOh"
      }
    },
    {
      "cell_type": "code",
      "source": [
        "length = 5\n",
        "\n",
        "# Calculate the volume\n",
        "volume = length **3\n",
        "# Print the volume\n",
        "print(volume)"
      ],
      "metadata": {
        "colab": {
          "base_uri": "https://localhost:8080/"
        },
        "id": "k0LxFGGNyoTf",
        "outputId": "643dd227-8600-432d-978d-c8221ee645c9"
      },
      "execution_count": 14,
      "outputs": [
        {
          "output_type": "stream",
          "name": "stdout",
          "text": [
            "125\n"
          ]
        }
      ]
    },
    {
      "cell_type": "code",
      "source": [
        "# Using Parentheses in Arithmetic Operations\n",
        "result = 2 * 5 - 10 / 5\n",
        "print(result)\n",
        "\n",
        "result = (2 * 5) - (10 / 5)\n",
        "print(result)"
      ],
      "metadata": {
        "colab": {
          "base_uri": "https://localhost:8080/"
        },
        "id": "DKqRbYRWy6NU",
        "outputId": "e6c6e559-54b2-4c85-cdad-d2afade446ea"
      },
      "execution_count": 15,
      "outputs": [
        {
          "output_type": "stream",
          "name": "stdout",
          "text": [
            "8.0\n",
            "8.0\n"
          ]
        }
      ]
    },
    {
      "cell_type": "markdown",
      "source": [
        "Write a program to calculate the final amount you have to pay for your tuition fee if you make an early payment.\n",
        "\n",
        "Suppose you are a university student and you need to pay 1536 dollars as your tuition fee.\n",
        "\n",
        "The college is offering a 10% discount on early payments.To solve this problem,\n",
        "\n",
        "Create a variable named fee and assign 1536 to it.\n",
        "Create another variable discount_percent and assign 10 to it.\n",
        "Compute the discount by using the formula (discount_percent / 100) * fee and assign it to the discount variable.\n",
        "Compute and print the fee you have to pay by subtracting discount from fee."
      ],
      "metadata": {
        "id": "U8Cf8ETKzaRT"
      }
    },
    {
      "cell_type": "code",
      "source": [
        "# Create the fee and discount_percent variables\n",
        "fee = 1536\n",
        "discount_percent = 10\n",
        "\n",
        "# Compute discount and assign it to the discount variable\n",
        "discount = (discount_percent / 100) * fee\n",
        "# Compute and print the fee you have to pay\n",
        "print(fee - discount)"
      ],
      "metadata": {
        "colab": {
          "base_uri": "https://localhost:8080/"
        },
        "id": "QYEV31U-zd53",
        "outputId": "9a3ea819-1731-4abd-d27c-e48408ce8df8"
      },
      "execution_count": 16,
      "outputs": [
        {
          "output_type": "stream",
          "name": "stdout",
          "text": [
            "1382.4\n"
          ]
        }
      ]
    },
    {
      "cell_type": "markdown",
      "source": [
        "Arithmetic Assignment Operators\n"
      ],
      "metadata": {
        "id": "Tcj9E1-szkpX"
      }
    },
    {
      "cell_type": "code",
      "source": [
        "total = 10\n",
        "\n",
        "# Equivalent to: total = total + 5\n",
        "total += 5\n",
        "\n",
        "print(total)"
      ],
      "metadata": {
        "colab": {
          "base_uri": "https://localhost:8080/"
        },
        "id": "pKOvbim0zocC",
        "outputId": "54ec538e-1758-47f8-b626-228383e6f2e3"
      },
      "execution_count": 17,
      "outputs": [
        {
          "output_type": "stream",
          "name": "stdout",
          "text": [
            "15\n"
          ]
        }
      ]
    },
    {
      "cell_type": "markdown",
      "source": [
        "## **Data Conversion**\n",
        "Integer - 5, -6, 17, 0.\n",
        "Float - 5.6, 0.0, -7.84, 16.0.\n",
        "String - \"hello there\", \"5\", \"Number is 5.0\"."
      ],
      "metadata": {
        "id": "7o9eMHayztsB"
      }
    },
    {
      "cell_type": "code",
      "source": [
        "float_number = 15.0\n",
        "# Convert float to integer\n",
        "integer_number = int(float_number)\n",
        "print(integer_number)   # Output: 15"
      ],
      "metadata": {
        "colab": {
          "base_uri": "https://localhost:8080/"
        },
        "id": "TQOS70I00BUL",
        "outputId": "ebe07216-9de8-476b-92c6-06b8608d9d3f"
      },
      "execution_count": 18,
      "outputs": [
        {
          "output_type": "stream",
          "name": "stdout",
          "text": [
            "15\n"
          ]
        }
      ]
    },
    {
      "cell_type": "code",
      "source": [
        "string_number = \"15\"\n",
        "\n",
        "# Convert string to integer\n",
        "# integer_number will contain 15\n",
        "integer_number = int(string_number)\n",
        "\n",
        "print(integer_number)   # Output: 15"
      ],
      "metadata": {
        "colab": {
          "base_uri": "https://localhost:8080/"
        },
        "id": "X92YdFHL0IPo",
        "outputId": "e50d77d6-4854-4648-ceba-e475b708d249"
      },
      "execution_count": 19,
      "outputs": [
        {
          "output_type": "stream",
          "name": "stdout",
          "text": [
            "15\n"
          ]
        }
      ]
    },
    {
      "cell_type": "markdown",
      "source": [
        " Note: If the int() function cannot convert the string to its equivalent integer, we will get an error."
      ],
      "metadata": {
        "id": "HrGU3NI-0L2T"
      }
    },
    {
      "cell_type": "code",
      "source": [
        "#Error Converting String to Integer\n",
        "string_number = \"Howdy!\"\n",
        "# Convert string to integer\n",
        "integer_number = int(string_number)    # Error!\n",
        "print(integer_number)"
      ],
      "metadata": {
        "colab": {
          "base_uri": "https://localhost:8080/",
          "height": 193
        },
        "collapsed": true,
        "id": "gdtVJa6P0OEU",
        "outputId": "e3df1626-3ee8-48b5-ec2b-c659288e7758"
      },
      "execution_count": 20,
      "outputs": [
        {
          "output_type": "error",
          "ename": "ValueError",
          "evalue": "invalid literal for int() with base 10: 'Howdy!'",
          "traceback": [
            "\u001b[0;31m---------------------------------------------------------------------------\u001b[0m",
            "\u001b[0;31mValueError\u001b[0m                                Traceback (most recent call last)",
            "\u001b[0;32m<ipython-input-20-702fe4b17ffd>\u001b[0m in \u001b[0;36m<cell line: 0>\u001b[0;34m()\u001b[0m\n\u001b[1;32m      2\u001b[0m \u001b[0mstring_number\u001b[0m \u001b[0;34m=\u001b[0m \u001b[0;34m\"Howdy!\"\u001b[0m\u001b[0;34m\u001b[0m\u001b[0;34m\u001b[0m\u001b[0m\n\u001b[1;32m      3\u001b[0m \u001b[0;31m# Convert string to integer\u001b[0m\u001b[0;34m\u001b[0m\u001b[0;34m\u001b[0m\u001b[0m\n\u001b[0;32m----> 4\u001b[0;31m \u001b[0minteger_number\u001b[0m \u001b[0;34m=\u001b[0m \u001b[0mint\u001b[0m\u001b[0;34m(\u001b[0m\u001b[0mstring_number\u001b[0m\u001b[0;34m)\u001b[0m    \u001b[0;31m# Error!\u001b[0m\u001b[0;34m\u001b[0m\u001b[0;34m\u001b[0m\u001b[0m\n\u001b[0m\u001b[1;32m      5\u001b[0m \u001b[0mprint\u001b[0m\u001b[0;34m(\u001b[0m\u001b[0minteger_number\u001b[0m\u001b[0;34m)\u001b[0m\u001b[0;34m\u001b[0m\u001b[0;34m\u001b[0m\u001b[0m\n",
            "\u001b[0;31mValueError\u001b[0m: invalid literal for int() with base 10: 'Howdy!'"
          ]
        }
      ]
    },
    {
      "cell_type": "code",
      "source": [
        "# Convert to float\n",
        "#int to float\n",
        "integer_number = -15\n",
        "# Convert integer to float\n",
        "float_number = float(integer_number)\n",
        "print(float_number)   # Output: -15.0\n",
        "\n",
        "#string to float\n",
        "string_number = \"-15.65\"\n",
        "# Convert string to float\n",
        "float_number = float(string_number)\n",
        "print(float_number)   # Output: -15.65\n",
        "# Similar to int(), if the float() function cannot convert the string to its equivalent floating-point number, we will get an error."
      ],
      "metadata": {
        "id": "FRDGEwYZ0iVS"
      },
      "execution_count": null,
      "outputs": []
    },
    {
      "cell_type": "markdown",
      "source": [
        "Write a program to convert a variable of one type to another.\n",
        "\n",
        "Create a variable named x and assign a string value \"5\" to it.\n",
        "Create another variable y and assign \"10\" to it.\n",
        "Convert the values stored in x and y to integers and multiply them.\n",
        "Print the result."
      ],
      "metadata": {
        "id": "YyB1D1Rn1DkT"
      }
    },
    {
      "cell_type": "code",
      "source": [
        "# Create variables x and y\n",
        "x =\"5\"\n",
        "y= \"10\"\n",
        "# Convert values stored in x and y to integers and multiply them\n",
        "x =int(x)\n",
        "y= int(y)\n",
        "\n",
        "# Print the result\n",
        "print(x*y)"
      ],
      "metadata": {
        "colab": {
          "base_uri": "https://localhost:8080/"
        },
        "id": "SLUJaRES1GiZ",
        "outputId": "b618abf3-4ead-40f4-cab9-88667c1822b6"
      },
      "execution_count": 21,
      "outputs": [
        {
          "output_type": "stream",
          "name": "stdout",
          "text": [
            "50\n"
          ]
        }
      ]
    },
    {
      "cell_type": "markdown",
      "source": [
        "Converting to string"
      ],
      "metadata": {
        "id": "gI4wy6h61Kvs"
      }
    },
    {
      "cell_type": "code",
      "source": [
        "number = 5.5\n",
        "number_str = str(5.5)\n",
        "\n",
        "print(number_str)"
      ],
      "metadata": {
        "colab": {
          "base_uri": "https://localhost:8080/"
        },
        "id": "G1CrCPoc1MvP",
        "outputId": "20e93b2b-eb96-441b-851a-f048030928e2"
      },
      "execution_count": 22,
      "outputs": [
        {
          "output_type": "stream",
          "name": "stdout",
          "text": [
            "5.5\n"
          ]
        }
      ]
    },
    {
      "cell_type": "markdown",
      "source": [
        "Implicit Type Conversion\n"
      ],
      "metadata": {
        "id": "dDfjRLd71Qcq"
      }
    },
    {
      "cell_type": "code",
      "source": [
        "number_integer = 123\n",
        "number_float = 1.23\n",
        "# Add an integer and a float\n",
        "result = number_integer + number_float\n",
        "print(result)"
      ],
      "metadata": {
        "colab": {
          "base_uri": "https://localhost:8080/"
        },
        "id": "mdU1tc3Y1Wnf",
        "outputId": "a891bc51-cc55-4526-e24f-657074b2ff2a"
      },
      "execution_count": 23,
      "outputs": [
        {
          "output_type": "stream",
          "name": "stdout",
          "text": [
            "124.23\n"
          ]
        }
      ]
    },
    {
      "cell_type": "code",
      "source": [
        "var = \"25.0\"\n",
        "number = float(var)\n",
        "result = number - 15\n",
        "print(result)"
      ],
      "metadata": {
        "colab": {
          "base_uri": "https://localhost:8080/"
        },
        "id": "aBt60U3t1dis",
        "outputId": "2efcb6e2-8525-4629-e691-5389799e5c5e"
      },
      "execution_count": 24,
      "outputs": [
        {
          "output_type": "stream",
          "name": "stdout",
          "text": [
            "10.0\n"
          ]
        }
      ]
    },
    {
      "cell_type": "markdown",
      "source": [
        "# **Get User Input**"
      ],
      "metadata": {
        "id": "YBDRq5yE1j49"
      }
    },
    {
      "cell_type": "code",
      "source": [
        "name = input(\"Enter your name: \")\n",
        "print(\"Your name is\", name)"
      ],
      "metadata": {
        "colab": {
          "base_uri": "https://localhost:8080/"
        },
        "id": "FfLYjleE1qmc",
        "outputId": "c7fff668-d05c-464a-9ac2-5e975cf566c9"
      },
      "execution_count": 25,
      "outputs": [
        {
          "output_type": "stream",
          "name": "stdout",
          "text": [
            "Enter your name: Hello\n",
            "Your name is Hello\n"
          ]
        }
      ]
    },
    {
      "cell_type": "markdown",
      "source": [
        "User Input Without Prompt"
      ],
      "metadata": {
        "id": "NCEpCQf91yHK"
      }
    },
    {
      "cell_type": "code",
      "source": [
        "full_name = input()\n",
        "print(\"Full Name:\", full_name)"
      ],
      "metadata": {
        "colab": {
          "base_uri": "https://localhost:8080/"
        },
        "id": "pWP8TYsN10rL",
        "outputId": "c4167b75-cbdf-42a6-df30-6e0708da900f"
      },
      "execution_count": 26,
      "outputs": [
        {
          "output_type": "stream",
          "name": "stdout",
          "text": [
            "World\n",
            "Full Name: World\n"
          ]
        }
      ]
    },
    {
      "cell_type": "markdown",
      "source": [
        "Write a program to get user input.\n",
        "\n",
        "Get the first name of the user and store it in the first_name variable.\n",
        "Get the last name of the user and store it in the last_name variable."
      ],
      "metadata": {
        "id": "QWGFrdO02LgR"
      }
    },
    {
      "cell_type": "code",
      "source": [
        "# Get the first name from the user\n",
        "first_name = input()\n",
        "# Get the last name from the user\n",
        "last_name = input()\n",
        "# Print the full name\n",
        "print(f\"First Name: {first_name}\")\n",
        "print(f\"Last Name: {last_name}\")"
      ],
      "metadata": {
        "colab": {
          "base_uri": "https://localhost:8080/"
        },
        "id": "1M88y_rH2Tf0",
        "outputId": "cbc6cce6-5a93-465b-c0db-70c14de520d7"
      },
      "execution_count": 27,
      "outputs": [
        {
          "output_type": "stream",
          "name": "stdout",
          "text": [
            "Aakriti\n",
            "Dhungel\n",
            "First Name: Aakriti\n",
            "Last Name: Dhungel\n"
          ]
        }
      ]
    },
    {
      "cell_type": "markdown",
      "source": [
        "Input function always take input as string so if we need other data type then we take using following method"
      ],
      "metadata": {
        "id": "S6b6xQcO2otD"
      }
    },
    {
      "cell_type": "code",
      "source": [
        "# Program to multiply numbers entered by the user\n",
        "# Take inputs from the user\n",
        "number1 = input(\"Enter a number: \")\n",
        "number2 = input(\"Enter another number: \")\n",
        "\n",
        "# Convert strings to floating-point numbers\n",
        "number1 = float(number1)\n",
        "number2 = float(number2)\n",
        "\n",
        "product = number1 * number2\n",
        "print(\"Product:\", product)"
      ],
      "metadata": {
        "colab": {
          "base_uri": "https://localhost:8080/"
        },
        "id": "Vf-iFFTg232b",
        "outputId": "81234dcc-738a-405d-c537-16c884b6f449"
      },
      "execution_count": 28,
      "outputs": [
        {
          "output_type": "stream",
          "name": "stdout",
          "text": [
            "Enter a number: 5\n",
            "Enter another number: 10\n",
            "Product: 50.0\n"
          ]
        }
      ]
    },
    {
      "cell_type": "markdown",
      "source": [
        "**Another Method**"
      ],
      "metadata": {
        "id": "CI8nrMCF3CPb"
      }
    },
    {
      "cell_type": "code",
      "source": [
        "# Program to multiply numbers entered by the user\n",
        "\n",
        "# Take inputs from the user\n",
        "number1 = float(input(\"Enter a number: \"))\n",
        "number2 = float(input(\"Enter another number: \"))\n",
        "\n",
        "product = number1 * number2\n",
        "print(\"Product:\", product)"
      ],
      "metadata": {
        "colab": {
          "base_uri": "https://localhost:8080/"
        },
        "collapsed": true,
        "id": "UPf0HZ_I3FOh",
        "outputId": "253668ae-c1a8-47f1-9e4b-64bd506ed406"
      },
      "execution_count": 32,
      "outputs": [
        {
          "output_type": "stream",
          "name": "stdout",
          "text": [
            "Enter a number: 5\n",
            "Enter another number: 5\n",
            "Product: 25.0\n"
          ]
        }
      ]
    },
    {
      "cell_type": "code",
      "source": [
        "# Get two floating-point numbers as inputs\n",
        "number1 =float(input())\n",
        "number2 = float(input())\n",
        "# Add the numbers\n",
        "result = number1 + number2\n",
        "\n",
        "# Print the square of result\n",
        "square = result **2\n",
        "print(square)"
      ],
      "metadata": {
        "colab": {
          "base_uri": "https://localhost:8080/"
        },
        "id": "0Ytoqlvl3qSZ",
        "outputId": "70a685cb-f453-412d-dfe0-027cc80e0887"
      },
      "execution_count": 29,
      "outputs": [
        {
          "output_type": "stream",
          "name": "stdout",
          "text": [
            "5\n",
            "2\n",
            "49.0\n"
          ]
        }
      ]
    },
    {
      "cell_type": "markdown",
      "source": [
        "Convert Kilometers to Miles\n",
        "\n",
        "Practice: Convert Celsius to Fahrenheit\n",
        "\n",
        "Find the Square Root of a Number\n",
        "\n",
        "Practice: Find the Area of a Triangle\n",
        "\n",
        "Swap Two Variables\n"
      ],
      "metadata": {
        "id": "eMNQa-IV4Ahv"
      }
    },
    {
      "cell_type": "code",
      "source": [
        "# Program to convert distance in kilometer to miles\n",
        "# The distance will be entered by the user\n",
        "\n",
        "# Get distance in kilometers\n",
        "km = float(input(\"Enter distance in km: \"))\n",
        "\n",
        "# Conversion ratio\n",
        "ratio = 0.621\n",
        "\n",
        "# Compute distance in miles\n",
        "miles = km * ratio\n",
        "print(f\"Distance in miles: {miles}\")"
      ],
      "metadata": {
        "id": "IE7NpyDZ4FuT"
      },
      "execution_count": null,
      "outputs": []
    },
    {
      "cell_type": "code",
      "source": [
        "# Get temperature in degree celsius from the user\n",
        "celcius =float(input(\"Enter temperature in degree celcius:\"))\n",
        "# Convert it to degree fahrenheit using the formula\n",
        "farenheit = (celcius * 1.8) +32\n",
        "\n",
        "# Print the degree in fahrenheit\n",
        "print(f\"Temperature in Farenheit: {farenheit}\")"
      ],
      "metadata": {
        "colab": {
          "base_uri": "https://localhost:8080/"
        },
        "id": "mL8hN3xL4uhD",
        "outputId": "1e793bad-8381-4fbf-c03c-ddff0af1a182"
      },
      "execution_count": 34,
      "outputs": [
        {
          "output_type": "stream",
          "name": "stdout",
          "text": [
            "Enter temperature in degree celcius:50\n",
            "Temperature in Farenheit: 122.0\n"
          ]
        }
      ]
    },
    {
      "cell_type": "code",
      "source": [
        "number = 25\n",
        "\n",
        "square_root = number ** (1/2)\n",
        "print(f\"Square root of {number} is {square_root}\")"
      ],
      "metadata": {
        "colab": {
          "base_uri": "https://localhost:8080/"
        },
        "id": "WqiZG-3m5CdJ",
        "outputId": "1c257ba6-2e4b-4ef4-f1fb-3944550990c9"
      },
      "execution_count": 35,
      "outputs": [
        {
          "output_type": "stream",
          "name": "stdout",
          "text": [
            "Square root of 25 is 5.0\n"
          ]
        }
      ]
    },
    {
      "cell_type": "code",
      "source": [
        "from math import sqrt\n",
        "\n",
        "# Get three sides of a triangle\n",
        "a = int(input(\"Enter the first side: \"))\n",
        "b = int(input(\"Enter the second side: \"))\n",
        "c = int(input(\"Enter the third side: \"))\n",
        "\n",
        "# Compute the semiperimeter\n",
        "s = (a+b+c) / 2\n",
        "\n",
        "# Compute area and print it\n",
        "area = sqrt(s*(s-a)*(s-b)*(s-c))\n",
        "print(area)"
      ],
      "metadata": {
        "id": "ad9QbaKc6VaB"
      },
      "execution_count": null,
      "outputs": []
    },
    {
      "cell_type": "code",
      "source": [
        "#Swap\n",
        "phone1 = \"iPhone\"\n",
        "phone2 = \"Galaxy Ultra\"\n",
        "\n",
        "# Store the value of phone1 in another variable\n",
        "temp_phone = phone1\n",
        "\n",
        "# Assign phone2 to phone1\n",
        "phone1 = phone2\n",
        "\n",
        "# Assign temp_phone (old value of phone1) to phone2\n",
        "phone2 = temp_phone\n",
        "\n",
        "print(f\"phone1: {phone1}\\nphone2: {phone2}\")"
      ],
      "metadata": {
        "colab": {
          "base_uri": "https://localhost:8080/"
        },
        "id": "aVrsH3eg6Z32",
        "outputId": "e807524c-d6d8-43b5-c25f-43f423aaa5ba"
      },
      "execution_count": 36,
      "outputs": [
        {
          "output_type": "stream",
          "name": "stdout",
          "text": [
            "phone1: Galaxy Ultra\n",
            "phone2: iPhone\n"
          ]
        }
      ]
    }
  ]
}