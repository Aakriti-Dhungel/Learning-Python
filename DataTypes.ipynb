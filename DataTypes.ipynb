{
  "nbformat": 4,
  "nbformat_minor": 0,
  "metadata": {
    "colab": {
      "provenance": [],
      "authorship_tag": "ABX9TyOKOfalDJUhbZDmV/R7CwOU"
    },
    "kernelspec": {
      "name": "python3",
      "display_name": "Python 3"
    },
    "language_info": {
      "name": "python"
    }
  },
  "cells": [
    {
      "cell_type": "markdown",
      "source": [
        "# **Python Lists**\n",
        "Lists are one of the most versatile data types that allow us to work with multiple elements.\n",
        "\n",
        "A list is created by placing items (elements) inside square brackets [], separated by commas. For example,\n",
        "\n",
        "odd_numbers = [1, 3, 5, 7]"
      ],
      "metadata": {
        "id": "GmDDeqFjnU9f"
      }
    },
    {
      "cell_type": "code",
      "execution_count": null,
      "metadata": {
        "colab": {
          "base_uri": "https://localhost:8080/"
        },
        "id": "j2HXkymCm7si",
        "outputId": "eb8da7af-0d10-4999-e0e8-d113d3ed8a0c"
      },
      "outputs": [
        {
          "output_type": "stream",
          "name": "stdout",
          "text": [
            "[]\n",
            "[1, 2, 3]\n",
            "[1, 'Hello', 3.4]\n",
            "[1, 2, 3, 1, 3]\n"
          ]
        }
      ],
      "source": [
        "# Creating List\n",
        "# empty list\n",
        "list1 = []\n",
        "print(list1)   # Output: []\n",
        "\n",
        "# list of integers\n",
        "numbers = [1, 2, 3]\n",
        "print(numbers)   # Output: [1, 2, 3]\n",
        "\n",
        "# list with mixed data types\n",
        "mixed_list = [1, \"Hello\", 3.4]\n",
        "print(mixed_list)   # Output: [1, 'Hello', 3.4]\n",
        "\n",
        "# list with duplicate items\n",
        "list2 = [1, 2, 3, 1, 3]\n",
        "print(list2)   # Output: [1, 2, 3, 1, 3]"
      ]
    },
    {
      "cell_type": "code",
      "source": [
        "# nested list\n",
        "list1 = ['mouse', [1, 2, 3], [4]]\n",
        "print(list1)   # Output: ['mouse', [1, 2, 3], [4]]"
      ],
      "metadata": {
        "colab": {
          "base_uri": "https://localhost:8080/"
        },
        "id": "lkRT9kFxnsRs",
        "outputId": "acb98f0c-b5b4-4669-8c17-e194a0b47091"
      },
      "execution_count": null,
      "outputs": [
        {
          "output_type": "stream",
          "name": "stdout",
          "text": [
            "['mouse', [1, 2, 3], [4]]\n"
          ]
        }
      ]
    },
    {
      "cell_type": "markdown",
      "source": [
        "# List Length\n"
      ],
      "metadata": {
        "id": "tK4TCZGJn2wa"
      }
    },
    {
      "cell_type": "code",
      "source": [
        "# list containing 3 items\n",
        "languages = ['Python', 'JavaScript', 'C++']\n",
        "\n",
        "length = len(languages)\n",
        "print(length)    # Output: 3\n",
        "\n",
        "# empty list\n",
        "animals = []\n",
        "\n",
        "length = len(animals)\n",
        "print(length)   # Output: 0"
      ],
      "metadata": {
        "colab": {
          "base_uri": "https://localhost:8080/"
        },
        "id": "-_o01ryJn6Kr",
        "outputId": "b15f3ad2-51e7-4091-b3e7-6becc660490d"
      },
      "execution_count": null,
      "outputs": [
        {
          "output_type": "stream",
          "name": "stdout",
          "text": [
            "3\n",
            "0\n"
          ]
        }
      ]
    },
    {
      "cell_type": "markdown",
      "source": [
        "Note: We used single quotes (') in the list for consistency with Python's default output. Both single and double quotes are valid."
      ],
      "metadata": {
        "id": "GWnubIF1oIEj"
      }
    },
    {
      "cell_type": "markdown",
      "source": [
        "Problem Description\n",
        "\n",
        "\n",
        "Write a program to create a list containing 5 elements and find its length using len().\n",
        "\n",
        "Create a list named list1 containing 5 elements.\n",
        "Use the len() function to find the length of list1 and print it."
      ],
      "metadata": {
        "id": "i4xmyunroVcc"
      }
    },
    {
      "cell_type": "code",
      "source": [
        "list1 = [1,2,3,4,5]\n",
        "length = len(list1)\n",
        "print(length)"
      ],
      "metadata": {
        "colab": {
          "base_uri": "https://localhost:8080/"
        },
        "id": "cwVgnErkoZLV",
        "outputId": "57bb15d9-32b1-41ee-e610-a86495134372"
      },
      "execution_count": null,
      "outputs": [
        {
          "output_type": "stream",
          "name": "stdout",
          "text": [
            "5\n"
          ]
        }
      ]
    },
    {
      "cell_type": "markdown",
      "source": [
        "# Access List Items\n"
      ],
      "metadata": {
        "id": "bJ1AQ-K6ogk3"
      }
    },
    {
      "cell_type": "code",
      "source": [
        "languages = ['Python', 'JavaScript', 'C++']\n",
        "\n",
        "# access the first item\n",
        "first_language = languages[0]\n",
        "print(first_language)   # Python\n",
        "\n",
        "# access the second item\n",
        "print(languages[1])   # JavaScript\n",
        "\n",
        "# access the third item\n",
        "print(languages[2])   # C++"
      ],
      "metadata": {
        "colab": {
          "base_uri": "https://localhost:8080/"
        },
        "id": "Yxd3N_3ZolY6",
        "outputId": "deea56d5-488f-419b-ab1d-6eb5607cf17d"
      },
      "execution_count": null,
      "outputs": [
        {
          "output_type": "stream",
          "name": "stdout",
          "text": [
            "Python\n",
            "JavaScript\n",
            "C++\n"
          ]
        }
      ]
    },
    {
      "cell_type": "code",
      "source": [
        "languages = ['Python', 'JavaScript', 'C++']\n",
        "\n",
        "# trying to access the fourth item using index 3\n",
        "print(languages[3]) # Error shows"
      ],
      "metadata": {
        "collapsed": true,
        "colab": {
          "base_uri": "https://localhost:8080/",
          "height": 176
        },
        "id": "4rKPrGSXopRI",
        "outputId": "9f1ae90c-86ea-4cc7-ed14-0e328e56062d"
      },
      "execution_count": null,
      "outputs": [
        {
          "output_type": "error",
          "ename": "IndexError",
          "evalue": "list index out of range",
          "traceback": [
            "\u001b[0;31m---------------------------------------------------------------------------\u001b[0m",
            "\u001b[0;31mIndexError\u001b[0m                                Traceback (most recent call last)",
            "\u001b[0;32m<ipython-input-6-6d451e96769c>\u001b[0m in \u001b[0;36m<cell line: 0>\u001b[0;34m()\u001b[0m\n\u001b[1;32m      2\u001b[0m \u001b[0;34m\u001b[0m\u001b[0m\n\u001b[1;32m      3\u001b[0m \u001b[0;31m# trying to access the fourth item using index 3\u001b[0m\u001b[0;34m\u001b[0m\u001b[0;34m\u001b[0m\u001b[0m\n\u001b[0;32m----> 4\u001b[0;31m \u001b[0mprint\u001b[0m\u001b[0;34m(\u001b[0m\u001b[0mlanguages\u001b[0m\u001b[0;34m[\u001b[0m\u001b[0;36m3\u001b[0m\u001b[0;34m]\u001b[0m\u001b[0;34m)\u001b[0m\u001b[0;34m\u001b[0m\u001b[0;34m\u001b[0m\u001b[0m\n\u001b[0m",
            "\u001b[0;31mIndexError\u001b[0m: list index out of range"
          ]
        }
      ]
    },
    {
      "cell_type": "markdown",
      "source": [
        "# Negative Indexing\n"
      ],
      "metadata": {
        "id": "zfLxiNlko5X4"
      }
    },
    {
      "cell_type": "code",
      "source": [
        "# Access items of a list\n",
        "\n",
        "languages = ['Python', 'JavaScript', 'C++']\n",
        "\n",
        "# access the last item\n",
        "last_language = languages[-1]\n",
        "print(last_language)   # C++\n",
        "\n",
        "# access the third last item\n",
        "print(languages[-3])   # Python\n",
        "\n",
        "# access the fourth last item\n",
        "print(languages[-4])   # Error"
      ],
      "metadata": {
        "colab": {
          "base_uri": "https://localhost:8080/",
          "height": 211
        },
        "id": "Y_bisDWDo8uc",
        "outputId": "e2e988a4-c3ca-4980-ba27-f9b9f00de949"
      },
      "execution_count": null,
      "outputs": [
        {
          "output_type": "stream",
          "name": "stdout",
          "text": [
            "C++\n",
            "Python\n"
          ]
        },
        {
          "output_type": "error",
          "ename": "IndexError",
          "evalue": "list index out of range",
          "traceback": [
            "\u001b[0;31m---------------------------------------------------------------------------\u001b[0m",
            "\u001b[0;31mIndexError\u001b[0m                                Traceback (most recent call last)",
            "\u001b[0;32m<ipython-input-7-afd69b14cbed>\u001b[0m in \u001b[0;36m<cell line: 0>\u001b[0;34m()\u001b[0m\n\u001b[1;32m     11\u001b[0m \u001b[0;34m\u001b[0m\u001b[0m\n\u001b[1;32m     12\u001b[0m \u001b[0;31m# access the fourth last item\u001b[0m\u001b[0;34m\u001b[0m\u001b[0;34m\u001b[0m\u001b[0m\n\u001b[0;32m---> 13\u001b[0;31m \u001b[0mprint\u001b[0m\u001b[0;34m(\u001b[0m\u001b[0mlanguages\u001b[0m\u001b[0;34m[\u001b[0m\u001b[0;34m-\u001b[0m\u001b[0;36m4\u001b[0m\u001b[0;34m]\u001b[0m\u001b[0;34m)\u001b[0m   \u001b[0;31m# Error\u001b[0m\u001b[0;34m\u001b[0m\u001b[0;34m\u001b[0m\u001b[0m\n\u001b[0m",
            "\u001b[0;31mIndexError\u001b[0m: list index out of range"
          ]
        }
      ]
    },
    {
      "cell_type": "markdown",
      "source": [
        "Problem Description\n",
        "\n",
        "\n",
        "Write a program to create a list and access an item.\n",
        "\n",
        "Create a list named odd_numbers containing 3 items: 9, 11, and 15.\n",
        "Print the second item of the list (using a positive index)."
      ],
      "metadata": {
        "id": "WEKZrB4-pPiO"
      }
    },
    {
      "cell_type": "code",
      "source": [
        "# create a list containing items 9, 11 and 15\n",
        "# assign the list to the odd_numbers variable\n",
        "odd_numbers = [9,11,15]\n",
        "\n",
        "# print the second item\n",
        "print(odd_numbers[1])"
      ],
      "metadata": {
        "colab": {
          "base_uri": "https://localhost:8080/"
        },
        "id": "NaSqhV6gpUSw",
        "outputId": "c1f92fac-f3eb-42e1-b443-0bf096d789e9"
      },
      "execution_count": null,
      "outputs": [
        {
          "output_type": "stream",
          "name": "stdout",
          "text": [
            "11\n"
          ]
        }
      ]
    },
    {
      "cell_type": "markdown",
      "source": [
        "# Slicing of a List\n",
        "\n",
        "To access a portion of a list we use slicing.\n"
      ],
      "metadata": {
        "id": "njuTNVJvpaXl"
      }
    },
    {
      "cell_type": "code",
      "source": [
        "numbers = [10, 20, 30, 40, 50, 60]\n",
        "\n",
        "# start - 2\n",
        "# end - 5\n",
        "new_numbers = numbers[2: 5]\n",
        "print(new_numbers)\n",
        "\n",
        "# Output:  [30, 40, 50]"
      ],
      "metadata": {
        "colab": {
          "base_uri": "https://localhost:8080/"
        },
        "id": "mX6mhaUNp1RI",
        "outputId": "7bc1520f-2714-45d4-f83e-cb6f946fe8f2"
      },
      "execution_count": null,
      "outputs": [
        {
          "output_type": "stream",
          "name": "stdout",
          "text": [
            "[30, 40, 50]\n"
          ]
        }
      ]
    },
    {
      "cell_type": "code",
      "source": [
        "# List slicing is inclusive of the start index (1, green) and exclusive of the end index (4, orange).So, it includes elements at indexes 1, 2, and 3, which are ['green', 'blue', 'yellow'].\n",
        "colors = ['red', 'green', 'blue', 'yellow', 'orange']\n",
        "subset = colors[1:4]\n",
        "print(subset)\n"
      ],
      "metadata": {
        "colab": {
          "base_uri": "https://localhost:8080/"
        },
        "id": "4v_nuxgsrREz",
        "outputId": "39689967-4f52-40d2-8ed6-05ba37853c63"
      },
      "execution_count": null,
      "outputs": [
        {
          "output_type": "stream",
          "name": "stdout",
          "text": [
            "['green', 'blue', 'yellow']\n"
          ]
        }
      ]
    },
    {
      "cell_type": "markdown",
      "source": [
        "# List Slicing Examples\n"
      ],
      "metadata": {
        "id": "9lg06GqmrwBB"
      }
    },
    {
      "cell_type": "code",
      "source": [
        "numbers = [10, 20, 30, 40, 50, 60]\n",
        "\n",
        "# items from index 0 to 3\n",
        "print(numbers[0: 4])    # [10, 20, 30, 40]\n",
        "\n",
        "# items from index 3 to 4\n",
        "print(numbers[3: 5])   # [40, 50]\n",
        "\n",
        "# using negative index in slicing\n",
        "\n",
        "# items from the fourth item (3rd index)\n",
        "# to the second-last item\n",
        "\n",
        "print(numbers[3: -1])   # [40, 50]"
      ],
      "metadata": {
        "colab": {
          "base_uri": "https://localhost:8080/"
        },
        "id": "W603YUCSrzW5",
        "outputId": "6282e21f-d2d9-4cd5-bbf7-6c116847cae0"
      },
      "execution_count": null,
      "outputs": [
        {
          "output_type": "stream",
          "name": "stdout",
          "text": [
            "[10, 20, 30, 40]\n",
            "[40, 50]\n",
            "[40, 50]\n"
          ]
        }
      ]
    },
    {
      "cell_type": "markdown",
      "source": [
        "# Omit Start and End Index\n"
      ],
      "metadata": {
        "id": "LfygWHw7r9UZ"
      }
    },
    {
      "cell_type": "markdown",
      "source": [
        "Omit Start Index\n",
        "\n"
      ],
      "metadata": {
        "id": "aVog1fstsBr0"
      }
    },
    {
      "cell_type": "code",
      "source": [
        "numbers = [10, 20, 30, 40, 50, 60]\n",
        "\n",
        "# items from first item to third index\n",
        "print(numbers[: 4])    # [10, 20, 30, 40]"
      ],
      "metadata": {
        "colab": {
          "base_uri": "https://localhost:8080/"
        },
        "id": "ZT5xrrO1sECr",
        "outputId": "53a8e7c4-7d5b-4f18-9d1c-7badf83c04e8"
      },
      "execution_count": null,
      "outputs": [
        {
          "output_type": "stream",
          "name": "stdout",
          "text": [
            "[10, 20, 30, 40]\n"
          ]
        }
      ]
    },
    {
      "cell_type": "markdown",
      "source": [
        "Omit End Index\n",
        "\n"
      ],
      "metadata": {
        "id": "EQs2HWpEsGcO"
      }
    },
    {
      "cell_type": "code",
      "source": [
        "numbers = [10, 20, 30, 40, 50, 60]\n",
        "\n",
        "# items from 3rd index to last item\n",
        "print(numbers[3: ])   # [40, 50, 60]"
      ],
      "metadata": {
        "colab": {
          "base_uri": "https://localhost:8080/"
        },
        "id": "RdrWjbg7sKGU",
        "outputId": "5f7c7d10-b869-457d-d41c-462935ee4f14"
      },
      "execution_count": null,
      "outputs": [
        {
          "output_type": "stream",
          "name": "stdout",
          "text": [
            "[40, 50, 60]\n"
          ]
        }
      ]
    },
    {
      "cell_type": "markdown",
      "source": [
        "What if we skip both start and end index?\n",
        "\n"
      ],
      "metadata": {
        "id": "_i9Vo9j4sMuj"
      }
    },
    {
      "cell_type": "code",
      "source": [
        "numbers = [10, 20, 30, 40, 50, 60]\n",
        "\n",
        "# items from first to last\n",
        "print(numbers[:])   # [10, 20, 30, 40, 50, 60]"
      ],
      "metadata": {
        "colab": {
          "base_uri": "https://localhost:8080/"
        },
        "id": "2p8chQ4CsPlo",
        "outputId": "9bd05c43-fbeb-4d25-c662-95e448893f9d"
      },
      "execution_count": null,
      "outputs": [
        {
          "output_type": "stream",
          "name": "stdout",
          "text": [
            "[10, 20, 30, 40, 50, 60]\n"
          ]
        }
      ]
    },
    {
      "cell_type": "markdown",
      "source": [
        "# Change Items of a List\n"
      ],
      "metadata": {
        "id": "0eeBj90msia_"
      }
    },
    {
      "cell_type": "code",
      "source": [
        "languages = ['Python', 'JavaScript', 'C++']\n",
        "\n",
        "# change the second item to 'Java'\n",
        "languages[1] = 'Java'\n",
        "\n",
        "print(languages)   # ['Python', 'Java', 'C++']\n",
        "\n",
        "# change the last item to 'PHP'\n",
        "languages[-1] = 'PHP'\n",
        "\n",
        "print(languages)   # ['Python', 'Java', 'PHP']"
      ],
      "metadata": {
        "colab": {
          "base_uri": "https://localhost:8080/"
        },
        "id": "xpCUKEl5slb8",
        "outputId": "38cb5f00-9531-4f55-ef20-d975215ddeaf"
      },
      "execution_count": null,
      "outputs": [
        {
          "output_type": "stream",
          "name": "stdout",
          "text": [
            "['Python', 'Java', 'C++']\n",
            "['Python', 'Java', 'PHP']\n"
          ]
        }
      ]
    },
    {
      "cell_type": "markdown",
      "source": [
        "# Delete Items From a List\n"
      ],
      "metadata": {
        "id": "hPIrbWwmssPx"
      }
    },
    {
      "cell_type": "code",
      "source": [
        "animals = ['dog', 'cat', 'rat']\n",
        "\n",
        "# delete the second item\n",
        "del animals[1]\n",
        "\n",
        "print(animals) # ['dog', 'rat']\n",
        "\n",
        "# delete the first item\n",
        "del animals[0]\n",
        "\n",
        "print(animals) # ['rat']"
      ],
      "metadata": {
        "colab": {
          "base_uri": "https://localhost:8080/"
        },
        "id": "0MflecfgswHx",
        "outputId": "2a94f6ed-7545-4591-f537-7d54d0d56941"
      },
      "execution_count": null,
      "outputs": [
        {
          "output_type": "stream",
          "name": "stdout",
          "text": [
            "['dog', 'rat']\n",
            "['rat']\n"
          ]
        }
      ]
    },
    {
      "cell_type": "code",
      "source": [
        "# We can even use the del statement to delete the entire list.\n",
        "\n",
        "animals = ['dog', 'cat', 'rat']\n",
        "\n",
        "# delete the list\n",
        "del animals\n",
        "\n",
        "print(animals)"
      ],
      "metadata": {
        "id": "vh4yXoYus0Xx",
        "outputId": "38828edb-7461-41ca-9b30-463dc44aaf54",
        "colab": {
          "base_uri": "https://localhost:8080/",
          "height": 176
        }
      },
      "execution_count": null,
      "outputs": [
        {
          "output_type": "error",
          "ename": "NameError",
          "evalue": "name 'animals' is not defined",
          "traceback": [
            "\u001b[0;31m---------------------------------------------------------------------------\u001b[0m",
            "\u001b[0;31mNameError\u001b[0m                                 Traceback (most recent call last)",
            "\u001b[0;32m<ipython-input-24-566da9a87f30>\u001b[0m in \u001b[0;36m<cell line: 0>\u001b[0;34m()\u001b[0m\n\u001b[1;32m      7\u001b[0m \u001b[0;32mdel\u001b[0m \u001b[0manimals\u001b[0m\u001b[0;34m\u001b[0m\u001b[0;34m\u001b[0m\u001b[0m\n\u001b[1;32m      8\u001b[0m \u001b[0;34m\u001b[0m\u001b[0m\n\u001b[0;32m----> 9\u001b[0;31m \u001b[0mprint\u001b[0m\u001b[0;34m(\u001b[0m\u001b[0manimals\u001b[0m\u001b[0;34m)\u001b[0m\u001b[0;34m\u001b[0m\u001b[0;34m\u001b[0m\u001b[0m\n\u001b[0m",
            "\u001b[0;31mNameError\u001b[0m: name 'animals' is not defined"
          ]
        }
      ]
    },
    {
      "cell_type": "markdown",
      "source": [
        "# List Methods\n",
        "Methods are a type of function in Python."
      ],
      "metadata": {
        "id": "0yqqk9khgjZm"
      }
    },
    {
      "cell_type": "markdown",
      "source": [
        "# The append() Method\n"
      ],
      "metadata": {
        "id": "4bKTEtNcgmYZ"
      }
    },
    {
      "cell_type": "code",
      "source": [
        "animals = ['dog', 'cat']\n",
        "\n",
        "# add 'rabbit' at the end of the list\n",
        "animals.append('rabbit')\n",
        "\n",
        "print(animals)     # ['dog', 'cat', 'rabbit']"
      ],
      "metadata": {
        "colab": {
          "base_uri": "https://localhost:8080/"
        },
        "id": "UDMpAxS4gqEs",
        "outputId": "5eb4c915-e3a5-450d-9324-160f3bedf089"
      },
      "execution_count": null,
      "outputs": [
        {
          "output_type": "stream",
          "name": "stdout",
          "text": [
            "['dog', 'cat', 'rabbit']\n"
          ]
        }
      ]
    },
    {
      "cell_type": "markdown",
      "source": [
        "# The extend() Method\n"
      ],
      "metadata": {
        "id": "HAJ9aEGdgzke"
      }
    },
    {
      "cell_type": "code",
      "source": [
        "animals = ['dog', 'cat']\n",
        "\n",
        "animals1 = ['rabbit', 'pig']\n",
        "\n",
        "# add items of animals1 list to the animals list\n",
        "animals.extend(animals1)\n",
        "\n",
        "print(animals)\n",
        "\n",
        "# Output:\n",
        "# ['dog', 'cat', 'rabbit', 'pig']"
      ],
      "metadata": {
        "colab": {
          "base_uri": "https://localhost:8080/"
        },
        "id": "zWh2nLygg6pa",
        "outputId": "b08d192c-c086-4384-9151-8cd088890824"
      },
      "execution_count": null,
      "outputs": [
        {
          "output_type": "stream",
          "name": "stdout",
          "text": [
            "['dog', 'cat', 'rabbit', 'pig']\n"
          ]
        }
      ]
    },
    {
      "cell_type": "markdown",
      "source": [
        "# The insert() Method\n",
        "The insert() method inserts an item to the list at the specified index.\n",
        "\n",
        "\n",
        "This method takes two arguments:\n",
        "\n",
        "**index** at which the item is to be inserted\n",
        "\n",
        "\n",
        "**item** to insert"
      ],
      "metadata": {
        "id": "gI014rsMg-KU"
      }
    },
    {
      "cell_type": "code",
      "source": [
        "animals = ['dog', 'cat', 'rat']\n",
        "\n",
        "# 'rabbit' is inserted at the third position (index 2)\n",
        "animals.insert(2, 'rabbit')\n",
        "\n",
        "print(animals)\n",
        "\n",
        "# Output:\n",
        "# ['dog', 'cat', 'rabbit', 'rat']"
      ],
      "metadata": {
        "colab": {
          "base_uri": "https://localhost:8080/"
        },
        "id": "VCzasgSnhQYs",
        "outputId": "3ef55627-7c9a-4430-f385-52b9eebaaba8"
      },
      "execution_count": null,
      "outputs": [
        {
          "output_type": "stream",
          "name": "stdout",
          "text": [
            "['dog', 'cat', 'rabbit', 'rat']\n"
          ]
        }
      ]
    },
    {
      "cell_type": "markdown",
      "source": [
        "# The copy() Method\n",
        "The copy() method returns a copy of the specified list. It doesn't take any argument."
      ],
      "metadata": {
        "id": "lOl2QIFPhTei"
      }
    },
    {
      "cell_type": "code",
      "source": [
        "animals1 = ['dog', 'cat', 'rat']\n",
        "\n",
        "animals2 = animals1.copy()\n",
        "\n",
        "print(animals2)\n",
        "\n",
        "# Output:\n",
        "# ['dog', 'cat', 'rat']"
      ],
      "metadata": {
        "colab": {
          "base_uri": "https://localhost:8080/"
        },
        "id": "Bu8x7miMhbk-",
        "outputId": "b0b31994-f82d-43c0-ec2a-f274009313d7"
      },
      "execution_count": null,
      "outputs": [
        {
          "output_type": "stream",
          "name": "stdout",
          "text": [
            "['dog', 'cat', 'rat']\n"
          ]
        }
      ]
    },
    {
      "cell_type": "markdown",
      "source": [
        "**Common Google queries may look like these:**\n",
        "\n",
        "reverse a list in Python\n",
        "\n",
        "remove last element from a Python list\n",
        "\n",
        "insert an item in a Python list at a specified index"
      ],
      "metadata": {
        "id": "qKg4KTy8hnEA"
      }
    },
    {
      "cell_type": "markdown",
      "source": [
        "Problem Description\n",
        "\n",
        "Write a program to add items to a list.\n",
        "\n",
        "Create an empty list and assign it to the variable animals.\n",
        "Add \"dog\" to the list and print it.\n",
        "Add \"cat\" to the list and print it again."
      ],
      "metadata": {
        "id": "Cksz0lo2h8CV"
      }
    },
    {
      "cell_type": "code",
      "source": [
        "# create an empty list\n",
        "animals = []\n",
        "\n",
        "# append \"dog\" to the list\n",
        "animals.append(\"dog\")\n",
        "\n",
        "print(animals)\n",
        "\n",
        "# append \"cat\" to the list\n",
        "animals.append(\"cat\")\n",
        "print(animals)"
      ],
      "metadata": {
        "colab": {
          "base_uri": "https://localhost:8080/"
        },
        "id": "GisBZL4jiAIR",
        "outputId": "b21a07d5-52e3-4afe-a5ad-b14c58d72b1a"
      },
      "execution_count": null,
      "outputs": [
        {
          "output_type": "stream",
          "name": "stdout",
          "text": [
            "['dog']\n",
            "['dog', 'cat']\n"
          ]
        }
      ]
    },
    {
      "cell_type": "markdown",
      "source": [
        " # Using for Loop With List\n"
      ],
      "metadata": {
        "id": "NaRxo1noiF14"
      }
    },
    {
      "cell_type": "code",
      "source": [
        "# a list of three elements\n",
        "languages = ['English', 'German', 'French']\n",
        "\n",
        "for language in languages:\n",
        "    print(\"Language is\", language)"
      ],
      "metadata": {
        "colab": {
          "base_uri": "https://localhost:8080/"
        },
        "id": "H6uOJHvtiKOB",
        "outputId": "0d328361-ba16-4fd2-8da3-9a960277433a"
      },
      "execution_count": null,
      "outputs": [
        {
          "output_type": "stream",
          "name": "stdout",
          "text": [
            "Language is English\n",
            "Language is German\n",
            "Language is French\n"
          ]
        }
      ]
    },
    {
      "cell_type": "markdown",
      "source": [
        "# Check Elements in a List\n"
      ],
      "metadata": {
        "id": "2Er3o_WRiPp0"
      }
    },
    {
      "cell_type": "code",
      "source": [
        "fruits = ['apple', 'banana', 'mango']\n",
        "\n",
        "if 'apple' in fruits:\n",
        "    print('apple is tasty')\n",
        "\n",
        "if 'potato' in fruits:\n",
        "    print('Whaaaat?')"
      ],
      "metadata": {
        "colab": {
          "base_uri": "https://localhost:8080/"
        },
        "id": "URF0XC9aiUE4",
        "outputId": "9963ae56-1b55-4d8f-9d84-3a3b15dc13a8"
      },
      "execution_count": null,
      "outputs": [
        {
          "output_type": "stream",
          "name": "stdout",
          "text": [
            "apple is tasty\n"
          ]
        }
      ]
    },
    {
      "cell_type": "code",
      "source": [
        "fruits = ['apple', 'banana', 'mango']\n",
        "\n",
        "print('Kiwi' in fruits)   # False\n",
        "print('Kiwi' not in fruits)   # True"
      ],
      "metadata": {
        "colab": {
          "base_uri": "https://localhost:8080/"
        },
        "id": "oInPnDdjiW5j",
        "outputId": "c9f80f2c-006b-4f4e-fe58-7aea0741a682"
      },
      "execution_count": null,
      "outputs": [
        {
          "output_type": "stream",
          "name": "stdout",
          "text": [
            "False\n",
            "True\n"
          ]
        }
      ]
    },
    {
      "cell_type": "markdown",
      "source": [
        "Problem Description\n",
        "\n",
        "Write a program to find the number of items in a Python list.\n",
        "\n",
        "The easiest way to find the number of items a list has is by using the built-in len() function.\n",
        "\n",
        "Can you find the length of a list without using this function?\n",
        "\n",
        "Suppose we have a list like this: [10, 20, 30, 40]\n",
        "Your task is to find the length of this list programmatically.\n",
        "For hints, refer to the code outline."
      ],
      "metadata": {
        "id": "wln4H1gDjZII"
      }
    },
    {
      "cell_type": "code",
      "source": [
        "numbers = [10, 20, 30, 40]\n",
        "\n",
        "length = 0\n",
        "\n",
        "# Use a loop to count elements\n",
        "for _ in numbers:\n",
        "    length += 1\n",
        "\n",
        "# Print length\n",
        "print(length)\n"
      ],
      "metadata": {
        "colab": {
          "base_uri": "https://localhost:8080/"
        },
        "id": "YFBHj3VNjckK",
        "outputId": "a6c6434f-7bcb-4a32-c762-3c54383817b7"
      },
      "execution_count": null,
      "outputs": [
        {
          "output_type": "stream",
          "name": "stdout",
          "text": [
            "4\n"
          ]
        }
      ]
    },
    {
      "cell_type": "markdown",
      "source": [
        "# **Tuples**\n",
        "\n",
        "A tuple is similar to a list. It's also an ordered collection of items. However, there is an important difference between the two.\n",
        "\n",
        "Lists are mutable; meaning we can add, change and delete items of a list. However, tuples are immutable; once a tuple is created, we cannot change its items.\n",
        "\n",
        "All other operations such as accessing individual items and iterating a tuple are the same."
      ],
      "metadata": {
        "id": "-B3b2StDkq-1"
      }
    },
    {
      "cell_type": "markdown",
      "source": [
        "# Creating Tuples\n"
      ],
      "metadata": {
        "id": "ghJ2QdqPk4gg"
      }
    },
    {
      "cell_type": "code",
      "source": [
        "# a tuple of numbers\n",
        "numbers1 = (10, 20, 30)\n",
        "print(numbers1)   # (10, 20, 30)\n",
        "\n",
        "# empty tuple\n",
        "numbers2 = ()\n",
        "print(numbers2)\n",
        "\n",
        "# tuple of mixed data types\n",
        "mixed_tuple = (1, 'Hello', [3, 4])\n",
        "print(mixed_tuple)  # (1, 'Hello', [3, 4])"
      ],
      "metadata": {
        "colab": {
          "base_uri": "https://localhost:8080/"
        },
        "id": "WWO83JPjk_NK",
        "outputId": "607458a2-d7c6-4b35-d70a-60317e6f7f5a"
      },
      "execution_count": null,
      "outputs": [
        {
          "output_type": "stream",
          "name": "stdout",
          "text": [
            "(10, 20, 30)\n",
            "()\n",
            "(1, 'Hello', [3, 4])\n"
          ]
        }
      ]
    },
    {
      "cell_type": "markdown",
      "source": [
        "# Creating a Tuple With Only One Item\n"
      ],
      "metadata": {
        "id": "FT3BuBZOlDp4"
      }
    },
    {
      "cell_type": "code",
      "source": [
        "text = ('Hello')\n",
        "print(text)   # Hello"
      ],
      "metadata": {
        "colab": {
          "base_uri": "https://localhost:8080/"
        },
        "id": "A7AkP7hSlGbF",
        "outputId": "0f9400ba-6e0b-425f-826e-778fa49bca41"
      },
      "execution_count": null,
      "outputs": [
        {
          "output_type": "stream",
          "name": "stdout",
          "text": [
            "Hello\n"
          ]
        }
      ]
    },
    {
      "cell_type": "markdown",
      "source": [
        "To create a tuple with one item, we also need to put a trailing comma to indicate that it is, in fact, a tuple."
      ],
      "metadata": {
        "id": "NCPK9EUglMLL"
      }
    },
    {
      "cell_type": "code",
      "source": [
        "tuple1 = ('Hello',)\n",
        "print(tuple1)   # ('Hello',)"
      ],
      "metadata": {
        "colab": {
          "base_uri": "https://localhost:8080/"
        },
        "id": "bZu5LVErlOyF",
        "outputId": "9cd3b719-bf73-46b7-a95c-bb2de6793717"
      },
      "execution_count": null,
      "outputs": [
        {
          "output_type": "stream",
          "name": "stdout",
          "text": [
            "('Hello',)\n"
          ]
        }
      ]
    },
    {
      "cell_type": "markdown",
      "source": [
        "# Tuple Length\n"
      ],
      "metadata": {
        "id": "5aFqsKJ8lSEt"
      }
    },
    {
      "cell_type": "code",
      "source": [
        "# tuple containing 3 items\n",
        "languages = ('Python', 'JavaScript', 'C++')\n",
        "\n",
        "length = len(languages)\n",
        "print(length)    # Output: 3\n",
        "\n",
        "# empty tuple\n",
        "animals = ()\n",
        "\n",
        "length = len(animals)\n",
        "print(length)   # Output: 0"
      ],
      "metadata": {
        "colab": {
          "base_uri": "https://localhost:8080/"
        },
        "id": "m_B6e185lVZO",
        "outputId": "f1dc35a2-5e6d-4cd8-be3d-234295852eef"
      },
      "execution_count": null,
      "outputs": [
        {
          "output_type": "stream",
          "name": "stdout",
          "text": [
            "3\n",
            "0\n"
          ]
        }
      ]
    },
    {
      "cell_type": "markdown",
      "source": [
        "# Access Tuple Items\n"
      ],
      "metadata": {
        "id": "nIIbToMzle0x"
      }
    },
    {
      "cell_type": "code",
      "source": [
        "languages = ('Python', 'JavaScript', 'C++')\n",
        "\n",
        "# access first item\n",
        "first_language = languages[0]\n",
        "print(first_language)   # Python\n",
        "\n",
        "# access second item\n",
        "print(languages[1])   # JavaScript\n",
        "\n",
        "# access third-last item\n",
        "print(languages[-3])   # Python"
      ],
      "metadata": {
        "colab": {
          "base_uri": "https://localhost:8080/"
        },
        "id": "nDaPrY1klmeJ",
        "outputId": "6198a3da-04fb-423b-d173-0375fcd0d393"
      },
      "execution_count": null,
      "outputs": [
        {
          "output_type": "stream",
          "name": "stdout",
          "text": [
            "Python\n",
            "JavaScript\n",
            "Python\n"
          ]
        }
      ]
    },
    {
      "cell_type": "markdown",
      "source": [
        "Problem Description\n",
        "\n",
        "Write a program to access and print an item from a tuple.\n",
        "\n",
        "Create a tuple containing four items: 9, 11, 15, and 17 and assign them to the odd_numbers variable.\n",
        "Print the third item of the tuple (using a positive index)."
      ],
      "metadata": {
        "id": "dAn87JVoly01"
      }
    },
    {
      "cell_type": "code",
      "source": [
        "# create a tuple containing items 9, 11, 15 and 17\n",
        "# assign the tuple to the odd_numbers variable\n",
        "odd_numbers =(9,11,15,17)\n",
        "# print the third item\n",
        "print(odd_numbers[2])"
      ],
      "metadata": {
        "colab": {
          "base_uri": "https://localhost:8080/"
        },
        "id": "gX4FddVNl3q2",
        "outputId": "4b9658c4-a09d-4c88-e8bf-c337d2251dbc"
      },
      "execution_count": null,
      "outputs": [
        {
          "output_type": "stream",
          "name": "stdout",
          "text": [
            "15\n"
          ]
        }
      ]
    },
    {
      "cell_type": "markdown",
      "source": [
        "# Slicing of a Tuple\n"
      ],
      "metadata": {
        "id": "YLO2kGAol9Ez"
      }
    },
    {
      "cell_type": "code",
      "source": [
        "numbers = (10, 20, 30, 40, 50, 60)\n",
        "print(numbers[1: 4])    # (20, 30, 40)"
      ],
      "metadata": {
        "colab": {
          "base_uri": "https://localhost:8080/"
        },
        "id": "n3Dfv8czmANr",
        "outputId": "bb6c375b-b3e5-47b6-b39c-e5fa5a3d90fa"
      },
      "execution_count": null,
      "outputs": [
        {
          "output_type": "stream",
          "name": "stdout",
          "text": [
            "(20, 30, 40)\n"
          ]
        }
      ]
    },
    {
      "cell_type": "markdown",
      "source": [
        "Slicing doesn't modify the original tuple; it's not possible. Instead, get a new tuple."
      ],
      "metadata": {
        "id": "ym8T6-HmmDMD"
      }
    },
    {
      "cell_type": "code",
      "source": [
        "numbers = (10, 20, 30, 40, 50, 60)\n",
        "\n",
        "# items from index 0 to 3\n",
        "print(numbers[0: 4])    # (10, 20, 30, 40)\n",
        "\n",
        "# items from index 3 to 4\n",
        "print(numbers[3: 5])   # (40, 50)\n",
        "\n",
        "# items from index 3 to second-last\n",
        "# remember, last index is exclusive\n",
        "print(numbers[3: -1])   # (40, 50)"
      ],
      "metadata": {
        "colab": {
          "base_uri": "https://localhost:8080/"
        },
        "id": "Ds2D3-WMmHOb",
        "outputId": "5834027b-a4cb-434c-ec16-5f82351f50e6"
      },
      "execution_count": null,
      "outputs": [
        {
          "output_type": "stream",
          "name": "stdout",
          "text": [
            "(10, 20, 30, 40)\n",
            "(40, 50)\n",
            "(40, 50)\n"
          ]
        }
      ]
    },
    {
      "cell_type": "markdown",
      "source": [
        "# Omit Start and End Index\n"
      ],
      "metadata": {
        "id": "DVVIvtdqmJ1-"
      }
    },
    {
      "cell_type": "code",
      "source": [
        "numbers = (10, 20, 30, 40, 50, 60)\n",
        "\n",
        "# items from first index to 3\n",
        "print(numbers[: 4])    # (10, 20, 30, 40)\n",
        "\n",
        "# items from index 3 to last\n",
        "print(numbers[3: ])   # (40, 50, 60)\n",
        "\n",
        "# omitting both start and end index\n",
        "# items from first to last\n",
        "print(numbers[:])   # (10, 20, 30, 40, 50, 60)"
      ],
      "metadata": {
        "colab": {
          "base_uri": "https://localhost:8080/"
        },
        "id": "ByTLN5i1mNwG",
        "outputId": "d27128a1-7f01-4afd-fa43-1acf823160b3"
      },
      "execution_count": null,
      "outputs": [
        {
          "output_type": "stream",
          "name": "stdout",
          "text": [
            "(10, 20, 30, 40)\n",
            "(40, 50, 60)\n",
            "(10, 20, 30, 40, 50, 60)\n"
          ]
        }
      ]
    },
    {
      "cell_type": "markdown",
      "source": [
        "# Change Items of a Tuple\n",
        "## Note that we cannot change items of a tuple.\n",
        "\n"
      ],
      "metadata": {
        "id": "Bc2n8pFZmXay"
      }
    },
    {
      "cell_type": "code",
      "source": [
        "languages = ('Python', 'JavaScript', 'C++')\n",
        "\n",
        "# try to change the second item to 'Java'\n",
        "languages[1] = 'Java'"
      ],
      "metadata": {
        "colab": {
          "base_uri": "https://localhost:8080/",
          "height": 176
        },
        "id": "-IKCy683mdvT",
        "outputId": "b6014f12-2835-423b-834c-90aea349aeab"
      },
      "execution_count": null,
      "outputs": [
        {
          "output_type": "error",
          "ename": "TypeError",
          "evalue": "'tuple' object does not support item assignment",
          "traceback": [
            "\u001b[0;31m---------------------------------------------------------------------------\u001b[0m",
            "\u001b[0;31mTypeError\u001b[0m                                 Traceback (most recent call last)",
            "\u001b[0;32m<ipython-input-19-baddd0e5feba>\u001b[0m in \u001b[0;36m<cell line: 0>\u001b[0;34m()\u001b[0m\n\u001b[1;32m      2\u001b[0m \u001b[0;34m\u001b[0m\u001b[0m\n\u001b[1;32m      3\u001b[0m \u001b[0;31m# try to change the second item to 'Java'\u001b[0m\u001b[0;34m\u001b[0m\u001b[0;34m\u001b[0m\u001b[0m\n\u001b[0;32m----> 4\u001b[0;31m \u001b[0mlanguages\u001b[0m\u001b[0;34m[\u001b[0m\u001b[0;36m1\u001b[0m\u001b[0;34m]\u001b[0m \u001b[0;34m=\u001b[0m \u001b[0;34m'Java'\u001b[0m\u001b[0;34m\u001b[0m\u001b[0;34m\u001b[0m\u001b[0m\n\u001b[0m",
            "\u001b[0;31mTypeError\u001b[0m: 'tuple' object does not support item assignment"
          ]
        }
      ]
    },
    {
      "cell_type": "code",
      "source": [
        "languages = ('Python', 'JavaScript', 'C++')\n",
        "\n",
        "# assign new tuple to languages\n",
        "languages = ('Python', 'JavaScript')\n",
        "\n",
        "print(languages)   # ('Python', 'JavaScript')"
      ],
      "metadata": {
        "colab": {
          "base_uri": "https://localhost:8080/"
        },
        "id": "yYzxrfmzmmaq",
        "outputId": "64204aa2-5635-4609-ce43-a435904ff5e8"
      },
      "execution_count": null,
      "outputs": [
        {
          "output_type": "stream",
          "name": "stdout",
          "text": [
            "('Python', 'JavaScript')\n"
          ]
        }
      ]
    },
    {
      "cell_type": "markdown",
      "source": [
        "# Delete Tuple\n",
        "## we cannot delete individual items of a tuple."
      ],
      "metadata": {
        "id": "i3A2xMTumqDe"
      }
    },
    {
      "cell_type": "code",
      "source": [
        "animals = ('dog', 'cat', 'rat')\n",
        "\n",
        "# try to delete the second item\n",
        "del animals[1]"
      ],
      "metadata": {
        "colab": {
          "base_uri": "https://localhost:8080/",
          "height": 176
        },
        "id": "WwAKQjcUmwGo",
        "outputId": "03e6a672-f934-4d7f-adb5-bcf3ccd7a43a"
      },
      "execution_count": null,
      "outputs": [
        {
          "output_type": "error",
          "ename": "TypeError",
          "evalue": "'tuple' object doesn't support item deletion",
          "traceback": [
            "\u001b[0;31m---------------------------------------------------------------------------\u001b[0m",
            "\u001b[0;31mTypeError\u001b[0m                                 Traceback (most recent call last)",
            "\u001b[0;32m<ipython-input-21-83311d980830>\u001b[0m in \u001b[0;36m<cell line: 0>\u001b[0;34m()\u001b[0m\n\u001b[1;32m      2\u001b[0m \u001b[0;34m\u001b[0m\u001b[0m\n\u001b[1;32m      3\u001b[0m \u001b[0;31m# try to delete the second item\u001b[0m\u001b[0;34m\u001b[0m\u001b[0;34m\u001b[0m\u001b[0m\n\u001b[0;32m----> 4\u001b[0;31m \u001b[0;32mdel\u001b[0m \u001b[0manimals\u001b[0m\u001b[0;34m[\u001b[0m\u001b[0;36m1\u001b[0m\u001b[0;34m]\u001b[0m\u001b[0;34m\u001b[0m\u001b[0;34m\u001b[0m\u001b[0m\n\u001b[0m",
            "\u001b[0;31mTypeError\u001b[0m: 'tuple' object doesn't support item deletion"
          ]
        }
      ]
    },
    {
      "cell_type": "code",
      "source": [
        "# delete a tuple itself\n",
        "animals = ('dog', 'cat', 'rat')\n",
        "\n",
        "# delete the tuple\n",
        "del animals"
      ],
      "metadata": {
        "id": "WmeiEbUomzsn"
      },
      "execution_count": null,
      "outputs": []
    },
    {
      "cell_type": "markdown",
      "source": [
        "# Iterate Through a Tuple\n"
      ],
      "metadata": {
        "id": "S_4oMCuQm72v"
      }
    },
    {
      "cell_type": "code",
      "source": [
        "fruits = ('apple', 'banana', 'mango')\n",
        "\n",
        "for fruit in fruits:\n",
        "    print(\"I like\", fruit)"
      ],
      "metadata": {
        "colab": {
          "base_uri": "https://localhost:8080/"
        },
        "id": "8jAlxV9om_IO",
        "outputId": "fece1757-08a9-4ed9-f40a-170c0a612887"
      },
      "execution_count": null,
      "outputs": [
        {
          "output_type": "stream",
          "name": "stdout",
          "text": [
            "I like apple\n",
            "I like banana\n",
            "I like mango\n"
          ]
        }
      ]
    },
    {
      "cell_type": "markdown",
      "source": [
        "# Membership Check\n"
      ],
      "metadata": {
        "id": "mCYEjzNcnGp_"
      }
    },
    {
      "cell_type": "code",
      "source": [
        "fruits = ('apple', 'banana', 'mango')\n",
        "if 'apple' in fruits:\n",
        "    print(\"apple is tasty\")\n",
        "\n",
        "if 'potato' in fruits:\n",
        "    print(\"Whaaaat?\")"
      ],
      "metadata": {
        "colab": {
          "base_uri": "https://localhost:8080/"
        },
        "id": "AocIvzaEnLXa",
        "outputId": "80957b02-55ba-41f3-abf0-aea790a0f763"
      },
      "execution_count": null,
      "outputs": [
        {
          "output_type": "stream",
          "name": "stdout",
          "text": [
            "apple is tasty\n"
          ]
        }
      ]
    },
    {
      "cell_type": "code",
      "source": [
        "fruits = ('apple', 'banana', 'mango')\n",
        "\n",
        "print('Kiwi' in fruits)   # False\n",
        "print('Kiwi' not in fruits)   # True"
      ],
      "metadata": {
        "colab": {
          "base_uri": "https://localhost:8080/"
        },
        "id": "boUZEs8JnOkR",
        "outputId": "7a6fbcf6-7776-42e8-dd15-6ffe7b793571"
      },
      "execution_count": null,
      "outputs": [
        {
          "output_type": "stream",
          "name": "stdout",
          "text": [
            "False\n",
            "True\n"
          ]
        }
      ]
    },
    {
      "cell_type": "markdown",
      "source": [
        "**We use the in operator to check membership in tuples.**\n",
        "\n",
        "\n"
      ],
      "metadata": {
        "id": "vdDkerwbnV2D"
      }
    },
    {
      "cell_type": "markdown",
      "source": [
        "When to Use Tuples?\n",
        "If we are certain that the items of a collection won't change, it's better to use tuples instead of a list.\n",
        "\n",
        "Why?\n",
        "\n",
        "Because tuples are immutable, meaning their items cannot be modified. Its built-in safeguard helps prevent unintended changes in our data.\n",
        "\n",
        "If we accidentally change items in a tuple, Python will raise an error, alerting us of the mistake."
      ],
      "metadata": {
        "id": "nG9jesN8nejz"
      }
    },
    {
      "cell_type": "markdown",
      "source": [
        "# **Strings**"
      ],
      "metadata": {
        "id": "8trTSuWdj9Xu"
      }
    },
    {
      "cell_type": "markdown",
      "source": [
        "A string is a sequence of characters enclosed inside quotation marks (either single or double quotes)."
      ],
      "metadata": {
        "id": "JGYioByqkHDu"
      }
    },
    {
      "cell_type": "code",
      "source": [
        "text1 = 'Hello there'\n",
        "print(text1)    # Hello there\n",
        "\n",
        "text2 = \"Heyyy\"\n",
        "print(text2)   # Heyyy"
      ],
      "metadata": {
        "colab": {
          "base_uri": "https://localhost:8080/"
        },
        "id": "Yu6dUjefkJhS",
        "outputId": "35deef63-61c7-463b-8843-6ba88c1ec970"
      },
      "execution_count": null,
      "outputs": [
        {
          "output_type": "stream",
          "name": "stdout",
          "text": [
            "Hello there\n",
            "Heyyy\n"
          ]
        }
      ]
    },
    {
      "cell_type": "markdown",
      "source": [
        "# Creating Strings\n",
        "\n",
        " a string is created using single quotes or double quotes.\n",
        "\n",
        "\n",
        " there are also other ways to create strings: using triple single quotes or triple double quotes."
      ],
      "metadata": {
        "id": "Tx2wej0fkTWM"
      }
    },
    {
      "cell_type": "code",
      "source": [
        "# use triple double quotes\n",
        "text1 = \"\"\"Hello\"\"\"\n",
        "print(text1)   # Hello\n",
        "\n",
        "# use triple single quotes\n",
        "text2 = '''Hey'''\n",
        "print(text2)   # Hey"
      ],
      "metadata": {
        "colab": {
          "base_uri": "https://localhost:8080/"
        },
        "id": "zLdiXk1Kkfpa",
        "outputId": "233deb27-5eb4-466b-cf92-67bf8cad4428"
      },
      "execution_count": null,
      "outputs": [
        {
          "output_type": "stream",
          "name": "stdout",
          "text": [
            "Hello\n",
            "Hey\n"
          ]
        }
      ]
    },
    {
      "cell_type": "markdown",
      "source": [
        "# Usually, triple quotes are used to create multiline strings"
      ],
      "metadata": {
        "id": "UAouUCTTkj5Q"
      }
    },
    {
      "cell_type": "code",
      "source": [
        "lyrics = '''Don't stop believing\n",
        "Hold on to that feeling\n",
        "Streetlight, people'''\n",
        "\n",
        "print(lyrics)"
      ],
      "metadata": {
        "colab": {
          "base_uri": "https://localhost:8080/"
        },
        "id": "X4ifh5LDknf4",
        "outputId": "ca879440-9f04-421d-c0c8-ee28cb542c86"
      },
      "execution_count": null,
      "outputs": [
        {
          "output_type": "stream",
          "name": "stdout",
          "text": [
            "Don't stop believing\n",
            "Hold on to that feeling\n",
            "Streetlight, people\n"
          ]
        }
      ]
    },
    {
      "cell_type": "markdown",
      "source": [
        "# Concatenate (Join) Strings\n",
        "We can concatenate two strings using the + operator."
      ],
      "metadata": {
        "id": "sHdfsmiWksS4"
      }
    },
    {
      "cell_type": "code",
      "source": [
        "first_name = \"Jack\"\n",
        "last_name = \"Sparrow\"\n",
        "\n",
        "name = first_name + \" \" + last_name\n",
        "print(name)   # Jack Sparrow"
      ],
      "metadata": {
        "colab": {
          "base_uri": "https://localhost:8080/"
        },
        "id": "sixA9-_kkxXm",
        "outputId": "2a2853cd-538e-46a2-e122-bb1fcbcec7ab"
      },
      "execution_count": null,
      "outputs": [
        {
          "output_type": "stream",
          "name": "stdout",
          "text": [
            "Jack Sparrow\n"
          ]
        }
      ]
    },
    {
      "cell_type": "markdown",
      "source": [
        "# Escape Sequences\n"
      ],
      "metadata": {
        "id": "dXjdplv6l7l1"
      }
    },
    {
      "cell_type": "code",
      "source": [
        "text = \"\\\"What\\'s there?\\\", asked Paul\"\n",
        "print(text)\n",
        "print(\"Hey\\nHello\\nHowdy?\")"
      ],
      "metadata": {
        "colab": {
          "base_uri": "https://localhost:8080/"
        },
        "id": "kL3DYIkbl4Df",
        "outputId": "ecd0a23d-4abe-4dc9-b363-30f6503bc023"
      },
      "execution_count": null,
      "outputs": [
        {
          "output_type": "stream",
          "name": "stdout",
          "text": [
            "\"What's there?\", asked Paul\n",
            "Hey\n",
            "Hello\n",
            "Howdy?\n"
          ]
        }
      ]
    },
    {
      "cell_type": "markdown",
      "source": [
        "# Access Characters of a String\n",
        "A string is a sequence of characters. And we can access them by using indexes (similar to lists and tuples)."
      ],
      "metadata": {
        "id": "3T6FBTUjmGDQ"
      }
    },
    {
      "cell_type": "code",
      "source": [
        "text = \"Bamboozle\"\n",
        "\n",
        "# first character\n",
        "print(text[0])   # B\n",
        "\n",
        "# fourth character\n",
        "print(text[3])   # b\n",
        "\n",
        "# last character\n",
        "print(text[-1])   # e\n",
        "\n",
        "# 16th character\n",
        "print(text[15]) # Error!"
      ],
      "metadata": {
        "colab": {
          "base_uri": "https://localhost:8080/",
          "height": 228
        },
        "id": "gzaLJfnkmMkJ",
        "outputId": "6ae1054d-54f0-4ec7-a3e0-22205bdddb21"
      },
      "execution_count": null,
      "outputs": [
        {
          "output_type": "stream",
          "name": "stdout",
          "text": [
            "B\n",
            "b\n",
            "e\n"
          ]
        },
        {
          "output_type": "error",
          "ename": "IndexError",
          "evalue": "string index out of range",
          "traceback": [
            "\u001b[0;31m---------------------------------------------------------------------------\u001b[0m",
            "\u001b[0;31mIndexError\u001b[0m                                Traceback (most recent call last)",
            "\u001b[0;32m<ipython-input-7-d21c809062bb>\u001b[0m in \u001b[0;36m<cell line: 0>\u001b[0;34m()\u001b[0m\n\u001b[1;32m     11\u001b[0m \u001b[0;34m\u001b[0m\u001b[0m\n\u001b[1;32m     12\u001b[0m \u001b[0;31m# 16th character\u001b[0m\u001b[0;34m\u001b[0m\u001b[0;34m\u001b[0m\u001b[0m\n\u001b[0;32m---> 13\u001b[0;31m \u001b[0mprint\u001b[0m\u001b[0;34m(\u001b[0m\u001b[0mtext\u001b[0m\u001b[0;34m[\u001b[0m\u001b[0;36m15\u001b[0m\u001b[0;34m]\u001b[0m\u001b[0;34m)\u001b[0m \u001b[0;31m# Error!\u001b[0m\u001b[0;34m\u001b[0m\u001b[0;34m\u001b[0m\u001b[0m\n\u001b[0m",
            "\u001b[0;31mIndexError\u001b[0m: string index out of range"
          ]
        }
      ]
    },
    {
      "cell_type": "markdown",
      "source": [
        "Problem Description\n",
        "\n",
        "\n",
        "Write a program to access and print a character from a string.\n",
        "\n",
        "Assign the \"Snowpiercer\" string to a variable named movie.\n",
        "Print the fourth character from the string (using a positive index)."
      ],
      "metadata": {
        "id": "gAbdoi0CmcjB"
      }
    },
    {
      "cell_type": "code",
      "source": [
        "# assign \"Snowpiercer\" to the movie variable\n",
        "movie = \"Snowpiercer\"\n",
        "\n",
        "# print the fourth character from Snowpiercer\n",
        "print(movie[3])"
      ],
      "metadata": {
        "colab": {
          "base_uri": "https://localhost:8080/"
        },
        "id": "0e6P-IDYmgM2",
        "outputId": "3d5c70f4-cb45-42be-eae5-9c8634dce527"
      },
      "execution_count": null,
      "outputs": [
        {
          "output_type": "stream",
          "name": "stdout",
          "text": [
            "w\n"
          ]
        }
      ]
    },
    {
      "cell_type": "markdown",
      "source": [
        "# Change Characters of a String\n",
        "Strings are immutable; we cannot change characters of a string.\n",
        "\n"
      ],
      "metadata": {
        "id": "66fOPndkmlkh"
      }
    },
    {
      "cell_type": "code",
      "source": [
        "movie = \"The Big Short\"\n",
        "\n",
        "# try to change the sixth item to \"u\"\n",
        "movie[5] = \"u\""
      ],
      "metadata": {
        "colab": {
          "base_uri": "https://localhost:8080/",
          "height": 176
        },
        "id": "PMnuEvknmseC",
        "outputId": "8e5e980a-8414-42f9-aebe-606848537489"
      },
      "execution_count": null,
      "outputs": [
        {
          "output_type": "error",
          "ename": "TypeError",
          "evalue": "'str' object does not support item assignment",
          "traceback": [
            "\u001b[0;31m---------------------------------------------------------------------------\u001b[0m",
            "\u001b[0;31mTypeError\u001b[0m                                 Traceback (most recent call last)",
            "\u001b[0;32m<ipython-input-9-e527fd96c527>\u001b[0m in \u001b[0;36m<cell line: 0>\u001b[0;34m()\u001b[0m\n\u001b[1;32m      2\u001b[0m \u001b[0;34m\u001b[0m\u001b[0m\n\u001b[1;32m      3\u001b[0m \u001b[0;31m# try to change the sixth item to \"u\"\u001b[0m\u001b[0;34m\u001b[0m\u001b[0;34m\u001b[0m\u001b[0m\n\u001b[0;32m----> 4\u001b[0;31m \u001b[0mmovie\u001b[0m\u001b[0;34m[\u001b[0m\u001b[0;36m5\u001b[0m\u001b[0;34m]\u001b[0m \u001b[0;34m=\u001b[0m \u001b[0;34m\"u\"\u001b[0m\u001b[0;34m\u001b[0m\u001b[0;34m\u001b[0m\u001b[0m\n\u001b[0m",
            "\u001b[0;31mTypeError\u001b[0m: 'str' object does not support item assignment"
          ]
        }
      ]
    },
    {
      "cell_type": "code",
      "source": [
        "# valid one\n",
        "\n",
        "movie = \"The Big Short\"\n",
        "\n",
        "# assign a new string to the movie variable\n",
        "movie = \"Pulp Fiction\"\n",
        "\n",
        "print(movie)   # Pulp Fiction"
      ],
      "metadata": {
        "colab": {
          "base_uri": "https://localhost:8080/"
        },
        "id": "Bhx0lVGEmv1z",
        "outputId": "1cfb3df1-b1d0-4e8d-e857-2ccf87d224a6"
      },
      "execution_count": null,
      "outputs": [
        {
          "output_type": "stream",
          "name": "stdout",
          "text": [
            "Pulp Fiction\n"
          ]
        }
      ]
    },
    {
      "cell_type": "markdown",
      "source": [
        "# Slice Strings\n",
        "Similar to lists and tuples, slicing is used to get a substring from the string."
      ],
      "metadata": {
        "id": "cqbtrMS2m0ir"
      }
    },
    {
      "cell_type": "code",
      "source": [
        "movie = \"Avengers: Endgame\"\n",
        "\n",
        "# characters from index 0 to 7\n",
        "print(movie[0: 8])   # Avengers\n",
        "\n",
        "# characters from index 0 to 7\n",
        "print(movie[: 8])   # Avengers\n",
        "\n",
        "# characters from index 10 to 16\n",
        "print(movie[10: 17])   # Endgame\n",
        "\n",
        "# characters from index 10 to last\n",
        "print(movie[10: ])   # Endgame\n",
        "\n",
        "# characters from first to last\n",
        "print(movie[:])   # Avengers: Endgame"
      ],
      "metadata": {
        "colab": {
          "base_uri": "https://localhost:8080/"
        },
        "id": "vLw1JWtum-bv",
        "outputId": "6a785a55-9d0e-4f32-8486-0c05b4fadd6e"
      },
      "execution_count": null,
      "outputs": [
        {
          "output_type": "stream",
          "name": "stdout",
          "text": [
            "Avengers\n",
            "Avengers\n",
            "Endgame\n",
            "Endgame\n",
            "Avengers: Endgame\n"
          ]
        }
      ]
    },
    {
      "cell_type": "markdown",
      "source": [
        "Remember: The start index is inclusive, but the end index is exclusive.\n"
      ],
      "metadata": {
        "id": "YJa0n0wqnBSV"
      }
    },
    {
      "cell_type": "code",
      "source": [
        "# We cannot achieve this by assigning \"C\" to the first character.\n",
        "\n",
        "animal = \"Rat Master\"\n",
        "\n",
        "animal[0] = \"C\"   # Error!\n",
        "print(animal)"
      ],
      "metadata": {
        "colab": {
          "base_uri": "https://localhost:8080/",
          "height": 193
        },
        "id": "CNMmcbh2nRX9",
        "outputId": "92d23c96-c2ab-43c1-fb6d-cd246d450b6e"
      },
      "execution_count": null,
      "outputs": [
        {
          "output_type": "error",
          "ename": "TypeError",
          "evalue": "'str' object does not support item assignment",
          "traceback": [
            "\u001b[0;31m---------------------------------------------------------------------------\u001b[0m",
            "\u001b[0;31mTypeError\u001b[0m                                 Traceback (most recent call last)",
            "\u001b[0;32m<ipython-input-14-64145cdaa674>\u001b[0m in \u001b[0;36m<cell line: 0>\u001b[0;34m()\u001b[0m\n\u001b[1;32m      3\u001b[0m \u001b[0manimal\u001b[0m \u001b[0;34m=\u001b[0m \u001b[0;34m\"Rat Master\"\u001b[0m\u001b[0;34m\u001b[0m\u001b[0;34m\u001b[0m\u001b[0m\n\u001b[1;32m      4\u001b[0m \u001b[0;34m\u001b[0m\u001b[0m\n\u001b[0;32m----> 5\u001b[0;31m \u001b[0manimal\u001b[0m\u001b[0;34m[\u001b[0m\u001b[0;36m0\u001b[0m\u001b[0;34m]\u001b[0m \u001b[0;34m=\u001b[0m \u001b[0;34m\"C\"\u001b[0m   \u001b[0;31m# Error!\u001b[0m\u001b[0;34m\u001b[0m\u001b[0;34m\u001b[0m\u001b[0m\n\u001b[0m\u001b[1;32m      6\u001b[0m \u001b[0mprint\u001b[0m\u001b[0;34m(\u001b[0m\u001b[0manimal\u001b[0m\u001b[0;34m)\u001b[0m\u001b[0;34m\u001b[0m\u001b[0;34m\u001b[0m\u001b[0m\n",
            "\u001b[0;31mTypeError\u001b[0m: 'str' object does not support item assignment"
          ]
        }
      ]
    },
    {
      "cell_type": "code",
      "source": [
        "animal = \"Rat Master\"\n",
        "\n",
        "new_animal = \"C\" + animal[1: ]\n",
        "print(new_animal)"
      ],
      "metadata": {
        "colab": {
          "base_uri": "https://localhost:8080/"
        },
        "id": "HL0bByfpnVrX",
        "outputId": "5b5489ea-0dcf-44f1-b28d-72b4354d18b2"
      },
      "execution_count": null,
      "outputs": [
        {
          "output_type": "stream",
          "name": "stdout",
          "text": [
            "Cat Master\n"
          ]
        }
      ]
    },
    {
      "cell_type": "markdown",
      "source": [
        "# String Methods\n"
      ],
      "metadata": {
        "id": "bTek8dkAnfb7"
      }
    },
    {
      "cell_type": "markdown",
      "source": [
        "# The replace() method\n"
      ],
      "metadata": {
        "id": "6r8LUeseniCk"
      }
    },
    {
      "cell_type": "code",
      "source": [
        "text = \"bat ball\"\n",
        "\n",
        "# replace \"ba\" with \"ca\"\n",
        "replaced_text = text.replace(\"ba\", \"ca\")\n",
        "\n",
        "print(replaced_text)    # cat call"
      ],
      "metadata": {
        "colab": {
          "base_uri": "https://localhost:8080/"
        },
        "id": "V5Zi8OWsoCsg",
        "outputId": "ef73ce40-8e13-4e11-e7f4-a6d6f59304d7"
      },
      "execution_count": null,
      "outputs": [
        {
          "output_type": "stream",
          "name": "stdout",
          "text": [
            "cat call\n"
          ]
        }
      ]
    },
    {
      "cell_type": "markdown",
      "source": [
        "# The find() method\n"
      ],
      "metadata": {
        "id": "2qglGzaBoGD9"
      }
    },
    {
      "cell_type": "code",
      "source": [
        "message = \"Avengers\"\n",
        "\n",
        "# get the index of \"nge\"\n",
        "print(message.find(\"nge\"))   # 3"
      ],
      "metadata": {
        "colab": {
          "base_uri": "https://localhost:8080/"
        },
        "id": "0bB96yOyoNd6",
        "outputId": "87ead2f2-a440-48c7-9779-d8b4a9e25121"
      },
      "execution_count": null,
      "outputs": [
        {
          "output_type": "stream",
          "name": "stdout",
          "text": [
            "3\n"
          ]
        }
      ]
    },
    {
      "cell_type": "markdown",
      "source": [
        "# The upper() and lower() methods\n"
      ],
      "metadata": {
        "id": "iU-PvnQ5oQQ0"
      }
    },
    {
      "cell_type": "code",
      "source": [
        "message = \"Python Is Fun\"\n",
        "\n",
        "result = message.lower()\n",
        "print(result)   # python is fun\n",
        "\n",
        "result = message.upper()\n",
        "print(result)   # PYTHON IS FUN"
      ],
      "metadata": {
        "colab": {
          "base_uri": "https://localhost:8080/"
        },
        "id": "RLZuuIXRoTQP",
        "outputId": "263790fb-31f7-45b4-a382-6178e370c9c1"
      },
      "execution_count": null,
      "outputs": [
        {
          "output_type": "stream",
          "name": "stdout",
          "text": [
            "python is fun\n",
            "PYTHON IS FUN\n"
          ]
        }
      ]
    },
    {
      "cell_type": "markdown",
      "source": [
        "other string methods can find by searching this\n",
        "\n",
        "Common Google queries may look like these:\n",
        "\n",
        "make first letter of a string uppercase in Python\n",
        "\n",
        "reverse a string in Python\n",
        "\n",
        "remove all whitespaces from a string in Python\n",
        "\n",
        "remove last five characters from a string in Python"
      ],
      "metadata": {
        "id": "-aKmxfgHoihI"
      }
    },
    {
      "cell_type": "markdown",
      "source": [
        "Problem Description\n",
        "\n",
        "Write a program to slice and concatenate two strings.\n",
        "\n",
        "Get two string inputs from the user and store them in text1 and text2 respectively.\n",
        "Create a new string that will contain the first four characters of the text1 string and the last four characters of the text2 string. Store the resultant string in the result variable.\n",
        "Print the new string."
      ],
      "metadata": {
        "id": "YZk6aLchpFnG"
      }
    },
    {
      "cell_type": "code",
      "source": [
        "# get two string inputs\n",
        "text1 = input()\n",
        "text2 = input()\n",
        "\n",
        "# create the result string\n",
        "# hint: use slicing\n",
        "result = text1[:4] + text2[-4:]\n",
        "\n",
        "# print the result\n",
        "print(result)"
      ],
      "metadata": {
        "colab": {
          "base_uri": "https://localhost:8080/"
        },
        "id": "8mhWAoGlpJec",
        "outputId": "7929101c-0163-48ed-90f2-b725152488d3"
      },
      "execution_count": null,
      "outputs": [
        {
          "output_type": "stream",
          "name": "stdout",
          "text": [
            "hello\n",
            "aakriti\n",
            "hellriti\n"
          ]
        }
      ]
    },
    {
      "cell_type": "markdown",
      "source": [
        "# Iterate Through a String\n"
      ],
      "metadata": {
        "id": "k8FRKrRbpQCp"
      }
    },
    {
      "cell_type": "code",
      "source": [
        "series = \"Dark\"\n",
        "\n",
        "for character in series:\n",
        "    print(character)"
      ],
      "metadata": {
        "colab": {
          "base_uri": "https://localhost:8080/"
        },
        "id": "gI6kfQ1hpS4y",
        "outputId": "476b8751-bd59-47ff-d9cb-3509c90623e3"
      },
      "execution_count": null,
      "outputs": [
        {
          "output_type": "stream",
          "name": "stdout",
          "text": [
            "D\n",
            "a\n",
            "r\n",
            "k\n"
          ]
        }
      ]
    },
    {
      "cell_type": "markdown",
      "source": [
        "# Check if Substring Exists\n"
      ],
      "metadata": {
        "id": "5q_ySciJpVye"
      }
    },
    {
      "cell_type": "code",
      "source": [
        "text = \"Python\"\n",
        "\n",
        "result =  \"Py\" in text\n",
        "print(result)   # True\n",
        "\n",
        "result = \"PY\" in text\n",
        "print(result)   # False"
      ],
      "metadata": {
        "colab": {
          "base_uri": "https://localhost:8080/"
        },
        "id": "XCmfLXVPpY32",
        "outputId": "99c343a9-3adb-4a15-e1c0-58fc1afbe0e6"
      },
      "execution_count": null,
      "outputs": [
        {
          "output_type": "stream",
          "name": "stdout",
          "text": [
            "True\n",
            "False\n"
          ]
        }
      ]
    },
    {
      "cell_type": "code",
      "source": [
        "# to check string exist or not\n",
        "text = \"Python\"\n",
        "\n",
        "print(\"PY\" in text)   # False\n",
        "print(\"PY\" not in text)   # True"
      ],
      "metadata": {
        "id": "W9DTHB2JpcF8"
      },
      "execution_count": null,
      "outputs": []
    },
    {
      "cell_type": "markdown",
      "source": [
        "# **Python Dictionaries**\n",
        "A dictionary is a collection of items, similar to lists and tuples. However, each item of the dictionary is a key/value pair."
      ],
      "metadata": {
        "id": "Rk8UnEhkqLyb"
      }
    },
    {
      "cell_type": "markdown",
      "source": [
        "# Creating Dictionaries\n",
        "A dictionary is created by placing key/value pairs inside curly braces {} separated by commas."
      ],
      "metadata": {
        "id": "hssVSLPpq_8E"
      }
    },
    {
      "cell_type": "code",
      "source": [
        "person = {'name': 'Ashley', 'age': 20}\n",
        "print(person)\n",
        "\n",
        "# Output: {'name': 'Ashley', 'age': 20}"
      ],
      "metadata": {
        "colab": {
          "base_uri": "https://localhost:8080/"
        },
        "id": "gTojXxTPrGmT",
        "outputId": "33b1e7e0-6976-41f9-8e54-97e32cf054e1"
      },
      "execution_count": null,
      "outputs": [
        {
          "output_type": "stream",
          "name": "stdout",
          "text": [
            "{'name': 'Ashley', 'age': 20}\n"
          ]
        }
      ]
    },
    {
      "cell_type": "code",
      "source": [
        "# empty dictionary\n",
        "dict1 = {}\n",
        "print(dict1)\n",
        "# dictionary containing one item\n",
        "dict2 = {1: 'one'}\n",
        "print(dict2)\n",
        "# dictionary containing three items\n",
        "dict3 = {1: 10, 'greet': ['Hey', \"Hello\"], 'one': 1}\n",
        "print(dict3)\n",
        "# invalid dictionary\n",
        "# list cannot use used as keys\n",
        "\n",
        "# invalid dictionary\n",
        "# duplicate key\n",
        "dict5 = {1: 'One', 1: 'Two'}"
      ],
      "metadata": {
        "colab": {
          "base_uri": "https://localhost:8080/"
        },
        "id": "JlTJNGCGrLdw",
        "outputId": "670a8094-587b-40df-da4b-c60cafa4d1ee"
      },
      "execution_count": null,
      "outputs": [
        {
          "output_type": "stream",
          "name": "stdout",
          "text": [
            "{}\n",
            "{1: 'one'}\n",
            "{1: 10, 'greet': ['Hey', 'Hello'], 'one': 1}\n"
          ]
        }
      ]
    },
    {
      "cell_type": "markdown",
      "source": [
        "Problem Description\n",
        "\n",
        "Create a dictionary named student_info.\n",
        "Inside the dictionary, store two keys, 'name' and 'score' with values 'James' and 98, respectively.\n",
        "Print the dictionary."
      ],
      "metadata": {
        "id": "dyqPyT8yr1F1"
      }
    },
    {
      "cell_type": "code",
      "source": [
        "\n",
        "student_info = {'name':'James','score':98}\n",
        "print(student_info)"
      ],
      "metadata": {
        "colab": {
          "base_uri": "https://localhost:8080/"
        },
        "id": "Q1biBlJ2r5os",
        "outputId": "daa79084-ec9b-4d80-f8b5-ca8f8cd00ca5"
      },
      "execution_count": null,
      "outputs": [
        {
          "output_type": "stream",
          "name": "stdout",
          "text": [
            "{'name': 'James', 'score': 98}\n"
          ]
        }
      ]
    },
    {
      "cell_type": "markdown",
      "source": [
        "# Dictionary Length\n"
      ],
      "metadata": {
        "id": "9Wf_5afvr9UH"
      }
    },
    {
      "cell_type": "code",
      "source": [
        "numbers = {10: 'ten', 20: 'twenty', }\n",
        "\n",
        "length = len(numbers)\n",
        "print(length)    # Output: 2\n",
        "\n",
        "person_info = {}\n",
        "print(len(person_info))   # Output: 0"
      ],
      "metadata": {
        "colab": {
          "base_uri": "https://localhost:8080/"
        },
        "id": "rmgBFFzssAwJ",
        "outputId": "c5508ef1-709b-477f-fc00-3fa9bcc950a7"
      },
      "execution_count": null,
      "outputs": [
        {
          "output_type": "stream",
          "name": "stdout",
          "text": [
            "2\n",
            "0\n"
          ]
        }
      ]
    },
    {
      "cell_type": "markdown",
      "source": [
        "# Access Dictionary Values\n",
        "We can access by using key only\n",
        "\n",
        "If we try to access the value of a key that doesn't exist"
      ],
      "metadata": {
        "id": "a0W63H89sD2Y"
      }
    },
    {
      "cell_type": "code",
      "source": [
        "student_info = {\n",
        "    'name': 'Kyle',\n",
        "    'major': 'Computer Science',\n",
        "    'age': 19\n",
        "}\n",
        "\n",
        "print(student_info['name'])   # Kyle\n",
        "print(student_info['age'])   # 19"
      ],
      "metadata": {
        "colab": {
          "base_uri": "https://localhost:8080/"
        },
        "id": "2XddT-VxsHby",
        "outputId": "432737bf-dbb0-4d85-d363-b64a18764a4f"
      },
      "execution_count": null,
      "outputs": [
        {
          "output_type": "stream",
          "name": "stdout",
          "text": [
            "Kyle\n",
            "19\n"
          ]
        }
      ]
    },
    {
      "cell_type": "code",
      "source": [
        "student_info = {\n",
        "    'name': 'Kyle',\n",
        "    'major': 'Computer Science',\n",
        "    'age': 19\n",
        "}\n",
        "\n",
        "print(student_info['car'])\n",
        "\n",
        "# Output:\n",
        "# KeyError: 'car'"
      ],
      "metadata": {
        "colab": {
          "base_uri": "https://localhost:8080/",
          "height": 211
        },
        "id": "tvZcAr2csZZZ",
        "outputId": "982f4637-7cf7-4c46-d761-3d98a92dfc4f"
      },
      "execution_count": null,
      "outputs": [
        {
          "output_type": "error",
          "ename": "KeyError",
          "evalue": "'car'",
          "traceback": [
            "\u001b[0;31m---------------------------------------------------------------------------\u001b[0m",
            "\u001b[0;31mKeyError\u001b[0m                                  Traceback (most recent call last)",
            "\u001b[0;32m<ipython-input-29-4f2c7613e332>\u001b[0m in \u001b[0;36m<cell line: 0>\u001b[0;34m()\u001b[0m\n\u001b[1;32m      5\u001b[0m }\n\u001b[1;32m      6\u001b[0m \u001b[0;34m\u001b[0m\u001b[0m\n\u001b[0;32m----> 7\u001b[0;31m \u001b[0mprint\u001b[0m\u001b[0;34m(\u001b[0m\u001b[0mstudent_info\u001b[0m\u001b[0;34m[\u001b[0m\u001b[0;34m'car'\u001b[0m\u001b[0;34m]\u001b[0m\u001b[0;34m)\u001b[0m\u001b[0;34m\u001b[0m\u001b[0;34m\u001b[0m\u001b[0m\n\u001b[0m\u001b[1;32m      8\u001b[0m \u001b[0;34m\u001b[0m\u001b[0m\n\u001b[1;32m      9\u001b[0m \u001b[0;31m# Output:\u001b[0m\u001b[0;34m\u001b[0m\u001b[0;34m\u001b[0m\u001b[0m\n",
            "\u001b[0;31mKeyError\u001b[0m: 'car'"
          ]
        }
      ]
    },
    {
      "cell_type": "markdown",
      "source": [
        "# Update and Add Items\n",
        "Dictionaries are mutable; we can add, change and remove items of a dictionary after it is created.\n",
        "\n"
      ],
      "metadata": {
        "id": "jf3aKFqlsqnL"
      }
    },
    {
      "cell_type": "markdown",
      "source": [
        "Update Value of a Key\n"
      ],
      "metadata": {
        "id": "N4L-DwqQsyKo"
      }
    },
    {
      "cell_type": "code",
      "source": [
        "student_info = {\n",
        "    'name': 'Kyle',\n",
        "    'major': 'CS',\n",
        "    'age': 19\n",
        "}\n",
        "\n",
        "# change the value of the 'age' key to 20\n",
        "student_info['age'] = 20\n",
        "\n",
        "# change the value of the 'name' key to 'Mike'\n",
        "student_info['name'] = 'Mike'\n",
        "\n",
        "print(student_info)\n",
        "\n",
        "# Output:\n",
        "#  {'name': 'Mike', 'major': 'CS', 'age': 20}"
      ],
      "metadata": {
        "colab": {
          "base_uri": "https://localhost:8080/"
        },
        "id": "1E-eLunys099",
        "outputId": "03601008-78d3-4769-8eb0-5826252c8cc7"
      },
      "execution_count": null,
      "outputs": [
        {
          "output_type": "stream",
          "name": "stdout",
          "text": [
            "{'name': 'Mike', 'major': 'CS', 'age': 20}\n"
          ]
        }
      ]
    },
    {
      "cell_type": "markdown",
      "source": [
        "Add Item\n"
      ],
      "metadata": {
        "id": "FldqAS13s3jz"
      }
    },
    {
      "cell_type": "code",
      "source": [
        "student_info = {\n",
        "    'name': 'Kyle',\n",
        "    'major': 'CS',\n",
        "}\n",
        "\n",
        "# if we assign a value to a key that doesn't exist,\n",
        "# it is added to the dictionary\n",
        "student_info['city'] = 'London'\n",
        "\n",
        "print(student_info)\n",
        "\n",
        "# Output: {'name': 'Kyle', 'major': 'CS', 'city': 'London'}"
      ],
      "metadata": {
        "colab": {
          "base_uri": "https://localhost:8080/"
        },
        "id": "r6nwuh95s6TF",
        "outputId": "f76e8e2f-d7ea-4ff4-aade-c05ce79efc63"
      },
      "execution_count": null,
      "outputs": [
        {
          "output_type": "stream",
          "name": "stdout",
          "text": [
            "{'name': 'Kyle', 'major': 'CS', 'city': 'London'}\n"
          ]
        }
      ]
    },
    {
      "cell_type": "markdown",
      "source": [
        "Notes:\n",
        "\n",
        "If a key already exists in a dictionary, assigning a value replaces the value of the key.\n",
        "\n",
        "If a key doesn't exist, assigning a value creates a new item."
      ],
      "metadata": {
        "id": "e224XrKqtCw_"
      }
    },
    {
      "cell_type": "markdown",
      "source": [
        "Problem Description\n",
        "\n",
        "Assign the dictionary below to a variable named prices.\n",
        "\n",
        "{'apple': 2.5, 'kiwi': 3.4}\n",
        "Then,\n",
        "\n",
        "Change the value of the 'apple' key to 3.5.\n",
        "Print the dictionary.\n",
        "Add an item (key: 'banana', value: 3) to the dictionary.\n",
        "Print the dictionary again."
      ],
      "metadata": {
        "id": "AEgPzT7_tZsg"
      }
    },
    {
      "cell_type": "code",
      "source": [
        "# create the dictionary\n",
        "prices = {'apple': 2.5, 'kiwi': 3.4}\n",
        "\n",
        "# change the value of 'apple' key to 3.5\n",
        "prices['apple']= 3.5\n",
        "print(prices)\n",
        "\n",
        "# add an item with 'banana' as key with value 3\n",
        "prices['banana']= 3\n",
        "print(prices)"
      ],
      "metadata": {
        "colab": {
          "base_uri": "https://localhost:8080/"
        },
        "id": "FRJMV0a3tda6",
        "outputId": "8cef150c-ed7e-4839-c4c3-7afa86471ac2"
      },
      "execution_count": null,
      "outputs": [
        {
          "output_type": "stream",
          "name": "stdout",
          "text": [
            "{'apple': 3.5, 'kiwi': 3.4}\n",
            "{'apple': 3.5, 'kiwi': 3.4, 'banana': 3}\n"
          ]
        }
      ]
    },
    {
      "cell_type": "markdown",
      "source": [
        "# Delete Dictionary Item\n"
      ],
      "metadata": {
        "id": "1EfKoLRhthPm"
      }
    },
    {
      "cell_type": "code",
      "source": [
        "student_info = {\n",
        "    'name': 'Kyle',\n",
        "    'major': 'CS',\n",
        "}\n",
        "\n",
        "# delete an item\n",
        "del student_info['name']\n",
        "\n",
        "print(student_info)\n",
        "\n",
        "# Output\n",
        "# {major: 'CS'}"
      ],
      "metadata": {
        "colab": {
          "base_uri": "https://localhost:8080/"
        },
        "id": "Em-eHSdHtj-N",
        "outputId": "649cda90-60c9-4725-baa5-279aa231cfd7"
      },
      "execution_count": null,
      "outputs": [
        {
          "output_type": "stream",
          "name": "stdout",
          "text": [
            "{'major': 'CS'}\n"
          ]
        }
      ]
    },
    {
      "cell_type": "code",
      "source": [
        "student_info = {\n",
        "    'name': 'Kyle',\n",
        "    'major': 'CS',\n",
        "}\n",
        "\n",
        "# delete the dictionary\n",
        "del student_info\n",
        "\n",
        "print(student_info)"
      ],
      "metadata": {
        "colab": {
          "base_uri": "https://localhost:8080/",
          "height": 176
        },
        "id": "59h6iuU0trZs",
        "outputId": "046e10c7-1ba0-46e6-ffb0-6769a59d28ac"
      },
      "execution_count": null,
      "outputs": [
        {
          "output_type": "error",
          "ename": "NameError",
          "evalue": "name 'student_info' is not defined",
          "traceback": [
            "\u001b[0;31m---------------------------------------------------------------------------\u001b[0m",
            "\u001b[0;31mNameError\u001b[0m                                 Traceback (most recent call last)",
            "\u001b[0;32m<ipython-input-34-ac7f7d5ffdfb>\u001b[0m in \u001b[0;36m<cell line: 0>\u001b[0;34m()\u001b[0m\n\u001b[1;32m      7\u001b[0m \u001b[0;32mdel\u001b[0m \u001b[0mstudent_info\u001b[0m\u001b[0;34m\u001b[0m\u001b[0;34m\u001b[0m\u001b[0m\n\u001b[1;32m      8\u001b[0m \u001b[0;34m\u001b[0m\u001b[0m\n\u001b[0;32m----> 9\u001b[0;31m \u001b[0mprint\u001b[0m\u001b[0;34m(\u001b[0m\u001b[0mstudent_info\u001b[0m\u001b[0;34m)\u001b[0m\u001b[0;34m\u001b[0m\u001b[0;34m\u001b[0m\u001b[0m\n\u001b[0m",
            "\u001b[0;31mNameError\u001b[0m: name 'student_info' is not defined"
          ]
        }
      ]
    },
    {
      "cell_type": "markdown",
      "source": [
        "# Iterate Through a Dictionary\n"
      ],
      "metadata": {
        "id": "Yfir3nQntvpY"
      }
    },
    {
      "cell_type": "code",
      "source": [
        "squares = {1: 1, 3: 9, 5: 25}\n",
        "\n",
        "for key in squares:\n",
        "    print(key)"
      ],
      "metadata": {
        "colab": {
          "base_uri": "https://localhost:8080/"
        },
        "id": "-RkoYzKftyOH",
        "outputId": "d5d56039-54c4-483b-cdd6-82059d2e52fb"
      },
      "execution_count": null,
      "outputs": [
        {
          "output_type": "stream",
          "name": "stdout",
          "text": [
            "1\n",
            "3\n",
            "5\n"
          ]
        }
      ]
    },
    {
      "cell_type": "code",
      "source": [
        "squares = {1: 1, 3: 9, 5: 25}\n",
        "\n",
        "for key in squares:\n",
        "\n",
        "    # get the value of a key\n",
        "    value = squares[key]\n",
        "    print(f\"{key} -> {value}\")"
      ],
      "metadata": {
        "colab": {
          "base_uri": "https://localhost:8080/"
        },
        "id": "FS2Pi29st3I_",
        "outputId": "599db09a-2da9-4792-c737-4180026c1634"
      },
      "execution_count": null,
      "outputs": [
        {
          "output_type": "stream",
          "name": "stdout",
          "text": [
            "1 -> 1\n",
            "3 -> 9\n",
            "5 -> 25\n"
          ]
        }
      ]
    },
    {
      "cell_type": "markdown",
      "source": [
        "# Note: It's important to note that when we use a for loop directly on a dictionary, the loop iterates over the keys of the dictionary by default, not the values.\n"
      ],
      "metadata": {
        "id": "B6VePUQUuGDM"
      }
    },
    {
      "cell_type": "markdown",
      "source": [
        "# Check if a Key Exists in a Dictionary\n"
      ],
      "metadata": {
        "id": "IyFyHZXBuI-l"
      }
    },
    {
      "cell_type": "code",
      "source": [
        "squares = {1: 1, 3: 9, 5: 25, 7: 49, 9: 81}\n",
        "\n",
        "print(1 in squares)   # True\n",
        "print(3 in squares)   # True\n",
        "print(49 in squares)   # False"
      ],
      "metadata": {
        "colab": {
          "base_uri": "https://localhost:8080/"
        },
        "id": "GnDGkrV7uL4k",
        "outputId": "7e37a4f8-c880-4b39-fcbb-5a19eb8ff3b3"
      },
      "execution_count": null,
      "outputs": [
        {
          "output_type": "stream",
          "name": "stdout",
          "text": [
            "True\n",
            "True\n",
            "False\n"
          ]
        }
      ]
    },
    {
      "cell_type": "code",
      "source": [
        "squares = {1: 1, 3: 9, 5: 25, 7: 49, 9: 81}\n",
        "\n",
        "print(49 in squares)   # False\n",
        "print(49 not in squares)   # True"
      ],
      "metadata": {
        "colab": {
          "base_uri": "https://localhost:8080/"
        },
        "id": "yEinJzaiuRa7",
        "outputId": "8e969ce2-50b9-40ff-91fe-077ccee556ba"
      },
      "execution_count": null,
      "outputs": [
        {
          "output_type": "stream",
          "name": "stdout",
          "text": [
            "False\n",
            "True\n"
          ]
        }
      ]
    },
    {
      "cell_type": "markdown",
      "source": [
        "Problem Description\n",
        "\n",
        "Assign the dictionary below to a variable named prices.\n",
        "{'apple': 2, 'kiwi': 3}\n",
        "Then, using a for loop, print the values of all the dictionary keys one by one."
      ],
      "metadata": {
        "id": "tW43SHqrus_T"
      }
    },
    {
      "cell_type": "code",
      "source": [
        "# create the dictionary\n",
        "prices = {'apple': 2, 'kiwi': 3}\n",
        "\n",
        "# use a for loop to print values of all the keys\n",
        "for key in prices:\n",
        "    value = prices[key]\n",
        "    print(value)"
      ],
      "metadata": {
        "colab": {
          "base_uri": "https://localhost:8080/"
        },
        "id": "FDoazsWhuwTw",
        "outputId": "03dcb7a0-5763-475b-c918-337b2431c9d6"
      },
      "execution_count": null,
      "outputs": [
        {
          "output_type": "stream",
          "name": "stdout",
          "text": [
            "2\n",
            "3\n"
          ]
        }
      ]
    },
    {
      "cell_type": "markdown",
      "source": [
        "# Dictionary Methods\n"
      ],
      "metadata": {
        "id": "bNtGKRbxu0QB"
      }
    },
    {
      "cell_type": "markdown",
      "source": [
        "\n",
        "**The get() Method**"
      ],
      "metadata": {
        "id": "AT39vhJju3yh"
      }
    },
    {
      "cell_type": "code",
      "source": [
        "scores = {'Physics': 67, 'Maths': 87}\n",
        "\n",
        "print(scores.get('Physics'))   # 67\n",
        "print(scores.get('Biology'))   # None"
      ],
      "metadata": {
        "colab": {
          "base_uri": "https://localhost:8080/"
        },
        "id": "oItgHw98u3EK",
        "outputId": "c66b95c7-7649-40ef-93b0-2ab5f3016d59"
      },
      "execution_count": null,
      "outputs": [
        {
          "output_type": "stream",
          "name": "stdout",
          "text": [
            "67\n",
            "None\n"
          ]
        }
      ]
    },
    {
      "cell_type": "markdown",
      "source": [
        "**The clear() Method**"
      ],
      "metadata": {
        "id": "B-gvyvt9vBSE"
      }
    },
    {
      "cell_type": "code",
      "source": [
        "scores = {'Physics': 67, 'Maths': 87}\n",
        "\n",
        "scores.clear()\n",
        "print(scores)   # {}"
      ],
      "metadata": {
        "colab": {
          "base_uri": "https://localhost:8080/"
        },
        "id": "thbZL0bdvF8Z",
        "outputId": "fb88359a-b241-4366-891c-dcee23fc517c"
      },
      "execution_count": null,
      "outputs": [
        {
          "output_type": "stream",
          "name": "stdout",
          "text": [
            "{}\n"
          ]
        }
      ]
    },
    {
      "cell_type": "markdown",
      "source": [
        "**The copy() Method**"
      ],
      "metadata": {
        "id": "tflttbpHvILW"
      }
    },
    {
      "cell_type": "code",
      "source": [
        "original_marks = {'Physics': 67, 'Maths': 87}\n",
        "\n",
        "copied_marks = original_marks.copy()\n",
        "\n",
        "print(f\"Original Marks: {original_marks}\")\n",
        "print(f\"Copied Marks: {copied_marks}\")"
      ],
      "metadata": {
        "id": "JsTsqZFnvMY1",
        "outputId": "bdd101b9-f9a4-4c5d-c5fa-4647a279d5bf",
        "colab": {
          "base_uri": "https://localhost:8080/"
        }
      },
      "execution_count": null,
      "outputs": [
        {
          "output_type": "stream",
          "name": "stdout",
          "text": [
            "Original Marks: {'Physics': 67, 'Maths': 87}\n",
            "Copied Marks: {'Physics': 67, 'Maths': 87}\n"
          ]
        }
      ]
    },
    {
      "cell_type": "markdown",
      "source": [
        "# **Python Sets**\n",
        "Similar to lists and tuples, a set is a collection of items. There are three things that make sets different from lists and tuples:\n",
        "\n",
        "unordered - items of a set are not arranged in any particular order\n",
        "\n",
        "\n",
        "unique - a set cannot contain duplicate items\n",
        "\n",
        "immutable items - items must be immutable"
      ],
      "metadata": {
        "id": "98712Z_7v3H5"
      }
    },
    {
      "cell_type": "markdown",
      "source": [
        "# Creating Sets\n"
      ],
      "metadata": {
        "id": "l2qHF0Pbw2qk"
      }
    },
    {
      "cell_type": "code",
      "source": [
        "animals = {'dog', 'cat', 'tiger'}\n",
        "print(animals)   # {'dog', 'cat', 'tiger'}\n",
        "\n",
        "mixed_set = {4, 'tiger', 3.5}\n",
        "print(mixed_set)   # {3.5, 'tiger', 4}"
      ],
      "metadata": {
        "colab": {
          "base_uri": "https://localhost:8080/"
        },
        "id": "MVZK_u3dxBAu",
        "outputId": "c6ffb2eb-3e62-4111-fa4c-26fe9fa1c078"
      },
      "execution_count": 43,
      "outputs": [
        {
          "output_type": "stream",
          "name": "stdout",
          "text": [
            "{'cat', 'dog', 'tiger'}\n",
            "{3.5, 4, 'tiger'}\n"
          ]
        }
      ]
    },
    {
      "cell_type": "markdown",
      "source": [
        "# Duplicate Items in a Set\n"
      ],
      "metadata": {
        "id": "InJXTMqTxDnE"
      }
    },
    {
      "cell_type": "code",
      "source": [
        "# set cannot count duplicate item\n",
        "numbers = {1, 2, 1, 5, 2}\n",
        "print(numbers)   # {1, 2, 5}"
      ],
      "metadata": {
        "colab": {
          "base_uri": "https://localhost:8080/"
        },
        "id": "TosiwTApxGlb",
        "outputId": "45d4356e-0dae-431f-e68a-5fbf0560e7f6"
      },
      "execution_count": 44,
      "outputs": [
        {
          "output_type": "stream",
          "name": "stdout",
          "text": [
            "{1, 2, 5}\n"
          ]
        }
      ]
    },
    {
      "cell_type": "markdown",
      "source": [
        "# Creating an Empty Set\n"
      ],
      "metadata": {
        "id": "pEJzAd9PxJRt"
      }
    },
    {
      "cell_type": "code",
      "source": [
        "# empty set\n",
        "my_set = set()\n",
        "\n",
        "print(my_set)   # set()"
      ],
      "metadata": {
        "colab": {
          "base_uri": "https://localhost:8080/"
        },
        "id": "i0uChu-jxNC5",
        "outputId": "3113eda2-5690-4392-81e7-fcd811d0a2ae"
      },
      "execution_count": 45,
      "outputs": [
        {
          "output_type": "stream",
          "name": "stdout",
          "text": [
            "set()\n"
          ]
        }
      ]
    },
    {
      "cell_type": "markdown",
      "source": [
        "# Add and Update Set Items\n"
      ],
      "metadata": {
        "id": "G6pXC0OTxbch"
      }
    },
    {
      "cell_type": "markdown",
      "source": [
        "# Add Set Items\n",
        "\n",
        "We use the set add() method to add an item to a set."
      ],
      "metadata": {
        "id": "BQpAA-a5xh1m"
      }
    },
    {
      "cell_type": "code",
      "source": [
        "numbers = {1, 3}\n",
        "print(numbers)   # {1, 3}\n",
        "\n",
        "# add an item\n",
        "numbers.add(2)\n",
        "print(numbers)   # {1, 2, 3}"
      ],
      "metadata": {
        "colab": {
          "base_uri": "https://localhost:8080/"
        },
        "id": "y2uS0Rzjxm4d",
        "outputId": "f2958f4d-942f-4dfa-e803-4c45b0f765fe"
      },
      "execution_count": 46,
      "outputs": [
        {
          "output_type": "stream",
          "name": "stdout",
          "text": [
            "{1, 3}\n",
            "{1, 2, 3}\n"
          ]
        }
      ]
    },
    {
      "cell_type": "markdown",
      "source": [
        "# Update Set\n",
        "The set update() method is used to update a set with items of other collection types (lists, tuples, sets, etc.)."
      ],
      "metadata": {
        "id": "YCmTNYemxpOL"
      }
    },
    {
      "cell_type": "code",
      "source": [
        "animals = {'dog', 'cat'}\n",
        "wild_animals = ['tiger', 'lion', 'lion']\n",
        "\n",
        "animals.update(wild_animals)\n",
        "print(animals)    # {'tiger', 'cat', 'lion', 'dog'}"
      ],
      "metadata": {
        "colab": {
          "base_uri": "https://localhost:8080/"
        },
        "id": "1wx_Q_7ixsSM",
        "outputId": "364c000d-51ba-4e54-b9d3-9ba8e41ccc44"
      },
      "execution_count": 47,
      "outputs": [
        {
          "output_type": "stream",
          "name": "stdout",
          "text": [
            "{'lion', 'cat', 'dog', 'tiger'}\n"
          ]
        }
      ]
    },
    {
      "cell_type": "markdown",
      "source": [
        "Problem Description\n",
        "\n",
        "Create an empty set using the set() function and assign it to the numbers variable.\n",
        "Get an integer input from the user and assign it to the number variable.\n",
        "Add number to the numbers set using the set's add() method.\n",
        "Print the numbers set."
      ],
      "metadata": {
        "id": "3258HbAOyW53"
      }
    },
    {
      "cell_type": "code",
      "source": [
        "# create an empty set\n",
        "numbers = set()\n",
        "\n",
        "# get integer input\n",
        "number = int(input())\n",
        "\n",
        "# add number to the numbers set\n",
        "numbers.add(number)\n",
        "\n",
        "# print the numbers set\n",
        "print(numbers)"
      ],
      "metadata": {
        "colab": {
          "base_uri": "https://localhost:8080/"
        },
        "id": "EMpQM6LxyZw4",
        "outputId": "de7bbc64-a4da-49e2-f19d-632c82b0a63e"
      },
      "execution_count": 48,
      "outputs": [
        {
          "output_type": "stream",
          "name": "stdout",
          "text": [
            "5\n",
            "{5}\n"
          ]
        }
      ]
    },
    {
      "cell_type": "markdown",
      "source": [
        "# Remove Item From a Set\n"
      ],
      "metadata": {
        "id": "PWHiZ3Dkyen-"
      }
    },
    {
      "cell_type": "code",
      "source": [
        "animals = {'tiger', 'cat', 'dog'}\n",
        "\n",
        "# remove the 'cat' item\n",
        "animals.discard('cat')\n",
        "\n",
        "print(animals)   # {'dog','tiger'}"
      ],
      "metadata": {
        "colab": {
          "base_uri": "https://localhost:8080/"
        },
        "id": "EY_K2Emgyh2C",
        "outputId": "5b34b408-b44a-4b64-b94c-02789baa6b46"
      },
      "execution_count": 49,
      "outputs": [
        {
          "output_type": "stream",
          "name": "stdout",
          "text": [
            "{'dog', 'tiger'}\n"
          ]
        }
      ]
    },
    {
      "cell_type": "markdown",
      "source": [
        "# Check if an Item Exists\n"
      ],
      "metadata": {
        "id": "AQ_LBEp5ymf6"
      }
    },
    {
      "cell_type": "code",
      "source": [
        "animals = {'tiger', 'cat', 'dog'}\n",
        "\n",
        "print('tiger' in animals)   # True\n",
        "print('pig' in animals)   # False"
      ],
      "metadata": {
        "colab": {
          "base_uri": "https://localhost:8080/"
        },
        "id": "cs7pHcWtypVj",
        "outputId": "9013affb-4c88-49c9-880d-3bc21afab189"
      },
      "execution_count": 50,
      "outputs": [
        {
          "output_type": "stream",
          "name": "stdout",
          "text": [
            "True\n",
            "False\n"
          ]
        }
      ]
    },
    {
      "cell_type": "code",
      "source": [
        "animals = {'tiger', 'cat', 'dog'}\n",
        "\n",
        "print('pig' in animals)   # False\n",
        "print('pig' not in animals)   # True"
      ],
      "metadata": {
        "colab": {
          "base_uri": "https://localhost:8080/"
        },
        "id": "Xgy67BMTysQi",
        "outputId": "dbafea93-4509-47c3-8f6d-f4a0019c4e4f"
      },
      "execution_count": 51,
      "outputs": [
        {
          "output_type": "stream",
          "name": "stdout",
          "text": [
            "False\n",
            "True\n"
          ]
        }
      ]
    },
    {
      "cell_type": "markdown",
      "source": [
        "# Set Operators\n"
      ],
      "metadata": {
        "id": "n7BdUYE6yv55"
      }
    },
    {
      "cell_type": "markdown",
      "source": [
        "# Sets Union\n",
        "The union of two sets is a set of all items from both sets. It is performed using the | operator.\n",
        "\n"
      ],
      "metadata": {
        "id": "lfDXmVnjyyeL"
      }
    },
    {
      "cell_type": "code",
      "source": [
        "domestic_animals = {'dog', 'cat', 'elephant'}\n",
        "wild_animals = {'lion', 'tiger', 'elephant'}\n",
        "\n",
        "# union of sets\n",
        "animals = domestic_animals | wild_animals\n",
        "print(animals)\n"
      ],
      "metadata": {
        "colab": {
          "base_uri": "https://localhost:8080/"
        },
        "id": "ISjJhyGvy3ub",
        "outputId": "dc9409e1-cc9e-4f53-fafc-eba30eed9452"
      },
      "execution_count": 52,
      "outputs": [
        {
          "output_type": "stream",
          "name": "stdout",
          "text": [
            "{'cat', 'dog', 'tiger', 'lion', 'elephant'}\n"
          ]
        }
      ]
    },
    {
      "cell_type": "markdown",
      "source": [
        "# Sets Intersection\n",
        "The intersection of two sets is a set of items that are common in both sets. It is performed using the & operator.\n",
        "\n"
      ],
      "metadata": {
        "id": "IfvflxqJy6-1"
      }
    },
    {
      "cell_type": "code",
      "source": [
        "domestic_animals = {'dog', 'cat', 'elephant'}\n",
        "wild_animals = {'lion', 'tiger', 'elephant'}\n",
        "\n",
        "# intersection of sets\n",
        "animals = domestic_animals & wild_animals\n",
        "print(animals)"
      ],
      "metadata": {
        "colab": {
          "base_uri": "https://localhost:8080/"
        },
        "id": "qc2cUw3FzB-i",
        "outputId": "eab03409-d152-4bb7-df5d-46cb6995241a"
      },
      "execution_count": 54,
      "outputs": [
        {
          "output_type": "stream",
          "name": "stdout",
          "text": [
            "{'elephant'}\n"
          ]
        }
      ]
    },
    {
      "cell_type": "code",
      "source": [
        "item1 = {1,2}\n",
        "item2 = {3,4}\n",
        "item3 = item1 | item2\n",
        "print(item3)"
      ],
      "metadata": {
        "colab": {
          "base_uri": "https://localhost:8080/"
        },
        "id": "7EzeiRzCzOIm",
        "outputId": "8fbc1707-d692-440c-c783-e7328cf28895"
      },
      "execution_count": 56,
      "outputs": [
        {
          "output_type": "stream",
          "name": "stdout",
          "text": [
            "{1, 2, 3, 4}\n"
          ]
        }
      ]
    },
    {
      "cell_type": "markdown",
      "source": [
        "# **Conversion**\n",
        "\n",
        "We learned about different compound data types in this chapter. Now, let's learn to convert one compound data type to another using these built-in functions.\n",
        "\n",
        "list() - converts to list\n",
        "\n",
        "tuple() - converts to tuple\n",
        "\n",
        "dict() - converts to dictionary\n",
        "\n",
        "set() - converts to set\n",
        "\n",
        "Let's try each of these functions one by one."
      ],
      "metadata": {
        "id": "PUGojK-GzxRw"
      }
    },
    {
      "cell_type": "markdown",
      "source": [
        "# The list() Function\n"
      ],
      "metadata": {
        "id": "jZyuHeiX106Y"
      }
    },
    {
      "cell_type": "code",
      "source": [
        "# convert tuple to list\n",
        "result = list((1, 2, 3))   # [1, 2, 3]\n",
        "print(result)\n",
        "\n",
        "# convert string to list\n",
        "result = list(\"Hello\")   # ['H', 'e', 'l', 'l', 'o']\n",
        "print(result)\n",
        "\n",
        "# convert dictionary to list\n",
        "result = list({2: 4, 10: 20})   # [2, 10]\n",
        "print(result)\n",
        "\n",
        "# convert set to list\n",
        "result = list({1, 2, 3})   # [1, 2, 3]\n",
        "print(result)"
      ],
      "metadata": {
        "colab": {
          "base_uri": "https://localhost:8080/"
        },
        "id": "JMHvHTN51_2u",
        "outputId": "5d4ab823-d420-4d3f-844d-1dfac6cc3370"
      },
      "execution_count": 57,
      "outputs": [
        {
          "output_type": "stream",
          "name": "stdout",
          "text": [
            "[1, 2, 3]\n",
            "['H', 'e', 'l', 'l', 'o']\n",
            "[2, 10]\n",
            "[1, 2, 3]\n"
          ]
        }
      ]
    },
    {
      "cell_type": "markdown",
      "source": [
        "Note: When a dictionary is converted to a list, the list items will only consist of the dictionary's keys.\n"
      ],
      "metadata": {
        "id": "f2me7ANt2Dj-"
      }
    },
    {
      "cell_type": "markdown",
      "source": [
        "# The tuple() Function\n",
        "The tuple() function converts an iterable (list, string, dict, or set) to a tuple."
      ],
      "metadata": {
        "id": "YSQ-dKoQ2HMQ"
      }
    },
    {
      "cell_type": "code",
      "source": [
        "# convert list to tuple\n",
        "result = tuple([1, 2, 3])   # (1, 2, 3)\n",
        "print(result)\n",
        "\n",
        "# convert string to tuple\n",
        "result = tuple(\"Hello\")   # ('H', 'e', 'l', 'l', 'o')\n",
        "print(result)\n",
        "\n",
        "# convert dictionary to tuple\n",
        "# dictionary's keys will be tuple's items\n",
        "result = tuple({2: 4, 10: 20})   # (2, 10)\n",
        "print(result)\n",
        "\n",
        "# convert set to tuple\n",
        "result = tuple({1, 2, 3})   # (1, 2, 3)\n",
        "print(result)"
      ],
      "metadata": {
        "colab": {
          "base_uri": "https://localhost:8080/"
        },
        "id": "k6lai19m2M6r",
        "outputId": "2cd0b28f-965f-4c20-a4ae-8898e0271b6b"
      },
      "execution_count": 58,
      "outputs": [
        {
          "output_type": "stream",
          "name": "stdout",
          "text": [
            "(1, 2, 3)\n",
            "('H', 'e', 'l', 'l', 'o')\n",
            "(2, 10)\n",
            "(1, 2, 3)\n"
          ]
        }
      ]
    },
    {
      "cell_type": "markdown",
      "source": [
        "# The dict() Function\n",
        "The dict() function can be used to create a dictionary.\n",
        "\n"
      ],
      "metadata": {
        "id": "rhbRjx9b2Qqe"
      }
    },
    {
      "cell_type": "code",
      "source": [
        "# convert to dictionary\n",
        "coordinate = dict([('x', 5), ('y', -5)])\n",
        "print(coordinate)   # {'x': 5, 'y': -5}\n",
        "\n",
        "# convert to dictionary\n",
        "coordinate = dict(x = 5, y = -5)\n",
        "print(coordinate)   # {'x': 5, 'y': -5}"
      ],
      "metadata": {
        "colab": {
          "base_uri": "https://localhost:8080/"
        },
        "id": "IGn_r7xv2U_2",
        "outputId": "5027d917-fe42-415f-c3fb-8f08ba0edbc7"
      },
      "execution_count": 59,
      "outputs": [
        {
          "output_type": "stream",
          "name": "stdout",
          "text": [
            "{'x': 5, 'y': -5}\n",
            "{'x': 5, 'y': -5}\n"
          ]
        }
      ]
    },
    {
      "cell_type": "markdown",
      "source": [
        "Note: The items of a dictionary are key/value pairs. Hence, the argument(s) passed to the dict() function must be in a specific format.\n"
      ],
      "metadata": {
        "id": "MfleaWFN2ZpW"
      }
    },
    {
      "cell_type": "markdown",
      "source": [
        "# The set() Function\n",
        "The set() function converts an iterable (list, tuple, string, or dict) to a set"
      ],
      "metadata": {
        "id": "v6U4_QxI2eDy"
      }
    },
    {
      "cell_type": "code",
      "source": [
        "# convert list to set\n",
        "result = set([1, 2, 3])\n",
        "print(result) # {1, 2, 3}\n",
        "\n",
        "# convert string to set\n",
        "result = set(\"abca\")\n",
        "print(result) # {'a', 'b', 'c'}\n",
        "\n",
        "# convert tuple to set\n",
        "result = set((1, 2, 3, 2, 3))\n",
        "print(result) # {1, 2, 3}\n",
        "\n",
        "# convert dictionary to set\n",
        "result = set({2: 4, 10: 20}) # {2, 10}\n",
        "print(result)"
      ],
      "metadata": {
        "colab": {
          "base_uri": "https://localhost:8080/"
        },
        "id": "lsqCTmgl2k_P",
        "outputId": "82ff2477-fd3d-462f-e288-2ffc11ea4c90"
      },
      "execution_count": 60,
      "outputs": [
        {
          "output_type": "stream",
          "name": "stdout",
          "text": [
            "{1, 2, 3}\n",
            "{'b', 'c', 'a'}\n",
            "{1, 2, 3}\n",
            "{2, 10}\n"
          ]
        }
      ]
    },
    {
      "cell_type": "markdown",
      "source": [
        "Note: A set cannot contain duplicate values. All the duplicate values of an iterable are removed when we convert the iterable to a set.\n"
      ],
      "metadata": {
        "id": "v_dL7Bjq2ovf"
      }
    },
    {
      "cell_type": "markdown",
      "source": [
        "# Remove Duplicate Items From a List\n",
        "There is an awesome way to remove duplicate items from a list"
      ],
      "metadata": {
        "id": "vWsmpgRy2uUM"
      }
    },
    {
      "cell_type": "code",
      "source": [
        "numbers = [1, 1, 2, 3, 4, 1, 1]\n",
        "\n",
        "numbers = list(set(numbers))\n",
        "print(numbers)   # [1, 2, 3, 4]"
      ],
      "metadata": {
        "colab": {
          "base_uri": "https://localhost:8080/"
        },
        "id": "9b1JTpZd2w8p",
        "outputId": "97d72e6a-d579-44e1-83c4-c2da7eb080f5"
      },
      "execution_count": 61,
      "outputs": [
        {
          "output_type": "stream",
          "name": "stdout",
          "text": [
            "[1, 2, 3, 4]\n"
          ]
        }
      ]
    },
    {
      "cell_type": "markdown",
      "source": [
        "# The range() Function\n"
      ],
      "metadata": {
        "id": "Eb-wVn7y3GQh"
      }
    },
    {
      "cell_type": "code",
      "source": [
        "# numbers from 1 to 5\n",
        "numbers = range(1, 6)\n",
        "\n",
        "# convert numbers to list for printing\n",
        "numbers = list(numbers)\n",
        "\n",
        "print(numbers)"
      ],
      "metadata": {
        "colab": {
          "base_uri": "https://localhost:8080/"
        },
        "id": "TnLeQJc33MtY",
        "outputId": "6b92cf8a-74b8-48fc-b38e-38d5b7c39203"
      },
      "execution_count": 63,
      "outputs": [
        {
          "output_type": "stream",
          "name": "stdout",
          "text": [
            "[1, 2, 3, 4, 5]\n"
          ]
        }
      ]
    },
    {
      "cell_type": "markdown",
      "source": [
        "# range() With One Argument\n"
      ],
      "metadata": {
        "id": "v-Vk9Umr3TEv"
      }
    },
    {
      "cell_type": "code",
      "source": [
        "# numbers from 0 to 4\n",
        "numbers = range(5)\n",
        "\n",
        "# convert numbers to list for printing\n",
        "numbers = list(numbers)\n",
        "\n",
        "print(numbers)\n"
      ],
      "metadata": {
        "colab": {
          "base_uri": "https://localhost:8080/"
        },
        "id": "M0rBUH2-3W3i",
        "outputId": "8ca5901c-d1d2-467c-ca47-206266fd14b7"
      },
      "execution_count": 64,
      "outputs": [
        {
          "output_type": "stream",
          "name": "stdout",
          "text": [
            "[0, 1, 2, 3, 4]\n"
          ]
        }
      ]
    },
    {
      "cell_type": "code",
      "source": [
        "n = 3\n",
        "\n",
        "for i in range(n):\n",
        "    print(\"Hello\")"
      ],
      "metadata": {
        "colab": {
          "base_uri": "https://localhost:8080/"
        },
        "id": "_4xs6Y_83afp",
        "outputId": "ca08fa10-c761-4acb-e7d6-be05877bf5bc"
      },
      "execution_count": 65,
      "outputs": [
        {
          "output_type": "stream",
          "name": "stdout",
          "text": [
            "Hello\n",
            "Hello\n",
            "Hello\n"
          ]
        }
      ]
    },
    {
      "cell_type": "code",
      "source": [
        "for number in range(3):\n",
        "    print(number)"
      ],
      "metadata": {
        "colab": {
          "base_uri": "https://localhost:8080/"
        },
        "id": "0ZRsWLsp3gof",
        "outputId": "f55a8fc4-4749-4c95-f8ce-5af554b86283"
      },
      "execution_count": 66,
      "outputs": [
        {
          "output_type": "stream",
          "name": "stdout",
          "text": [
            "0\n",
            "1\n",
            "2\n"
          ]
        }
      ]
    },
    {
      "cell_type": "markdown",
      "source": [
        "# The step Argument\n",
        "numbers = range(start, end, step)\n"
      ],
      "metadata": {
        "id": "3rGKcV393kKg"
      }
    },
    {
      "cell_type": "code",
      "source": [
        "# numbers from 1 to 10\n",
        "numbers = range(1, 11, 3)\n",
        "\n",
        "# convert numbers to list for printing\n",
        "numbers = list(numbers)\n",
        "\n",
        "print(numbers)"
      ],
      "metadata": {
        "colab": {
          "base_uri": "https://localhost:8080/"
        },
        "id": "6ceSdqtf3qE-",
        "outputId": "edeccba7-5159-4ef9-c140-7d38b715e75a"
      },
      "execution_count": 67,
      "outputs": [
        {
          "output_type": "stream",
          "name": "stdout",
          "text": [
            "[1, 4, 7, 10]\n"
          ]
        }
      ]
    },
    {
      "cell_type": "markdown",
      "source": [
        "Problem Description\n",
        "\n",
        "Create a sequence of numbers 4, 7, 10 using the range() function.\n",
        "\n",
        "Convert this sequence to tuple using the tuple() function.\n",
        "Print the tuple."
      ],
      "metadata": {
        "id": "Y2f3V_S-4efw"
      }
    },
    {
      "cell_type": "code",
      "source": [
        "# create the sequence of numbers using range()\n",
        "numbers = range(4, 11, 3)\n",
        "\n",
        "# convert numbers to tuple\n",
        "# assign the tuple to the result variable\n",
        "result = tuple(numbers)\n",
        "\n",
        "# print the result\n",
        "print(result)"
      ],
      "metadata": {
        "colab": {
          "base_uri": "https://localhost:8080/"
        },
        "id": "lCmUQOOh4iOT",
        "outputId": "03b3a09e-9b55-4d66-ef7c-f9b0a00cc72f"
      },
      "execution_count": 68,
      "outputs": [
        {
          "output_type": "stream",
          "name": "stdout",
          "text": [
            "(4, 7, 10)\n"
          ]
        }
      ]
    },
    {
      "cell_type": "code",
      "source": [
        "numbers = range(5, 0, -1)\n",
        "\n",
        "# convert to list and print it\n",
        "print(list(numbers))\n",
        "\n",
        "# Output\n",
        "# [5, 4, 3, 2, 1]"
      ],
      "metadata": {
        "colab": {
          "base_uri": "https://localhost:8080/"
        },
        "id": "3tfiNDrW4m-K",
        "outputId": "7f20110f-f5d6-4045-c80d-7ced923dd6c1"
      },
      "execution_count": 69,
      "outputs": [
        {
          "output_type": "stream",
          "name": "stdout",
          "text": [
            "[5, 4, 3, 2, 1]\n"
          ]
        }
      ]
    },
    {
      "cell_type": "markdown",
      "source": [
        "By the way, range is not a data type like lists, strings etc. We have included this topic here because it makes sense.\n"
      ],
      "metadata": {
        "id": "rytrX5vj4pFB"
      }
    }
  ]
}