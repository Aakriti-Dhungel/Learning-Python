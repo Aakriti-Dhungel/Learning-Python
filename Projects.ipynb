{
  "nbformat": 4,
  "nbformat_minor": 0,
  "metadata": {
    "colab": {
      "provenance": [],
      "authorship_tag": "ABX9TyPBilFCZm6/0gQOwsnQKHUU"
    },
    "kernelspec": {
      "name": "python3",
      "display_name": "Python 3"
    },
    "language_info": {
      "name": "python"
    }
  },
  "cells": [
    {
      "cell_type": "markdown",
      "source": [
        "# **Prime Numbers Between 50 and 100**"
      ],
      "metadata": {
        "id": "RnupRali5Vb0"
      }
    },
    {
      "cell_type": "markdown",
      "source": [
        "# Step 1: Check Prime Number\n"
      ],
      "metadata": {
        "id": "PzKRn3Z15bO-"
      }
    },
    {
      "cell_type": "code",
      "execution_count": 1,
      "metadata": {
        "colab": {
          "base_uri": "https://localhost:8080/"
        },
        "id": "RWzyiMi25IV7",
        "outputId": "eeb9a2ab-04ce-4a7b-8be3-841f5a177a9d"
      },
      "outputs": [
        {
          "output_type": "stream",
          "name": "stdout",
          "text": [
            "Enter a number: 50\n",
            "50 is not prime\n"
          ]
        }
      ],
      "source": [
        "number = int(input(\"Enter a number: \"))\n",
        "\n",
        "is_prime = True\n",
        "\n",
        "# iterating loop from 2 to number-1\n",
        "for i in range(2, number):\n",
        "    if (number % i) == 0:\n",
        "        is_prime = False\n",
        "        break\n",
        "\n",
        "if is_prime:\n",
        "    print(f\"{number} is prime\")\n",
        "else:\n",
        "    print(f\"{number} is not prime\")"
      ]
    },
    {
      "cell_type": "markdown",
      "source": [
        "Note: The above program doesn't work for numbers less than 2.\n"
      ],
      "metadata": {
        "id": "JJBfzi125m6-"
      }
    },
    {
      "cell_type": "markdown",
      "source": [
        "# Step 2: Creating a Function\n"
      ],
      "metadata": {
        "id": "8-wlYmPa5y8f"
      }
    },
    {
      "cell_type": "code",
      "source": [
        "# function to check prime number\n",
        "# returns True if number is prime\n",
        "# returns False if number is not prime\n",
        "def check_prime(n):\n",
        "    for i in range(2, n):\n",
        "        if (n % i) == 0:\n",
        "            return False\n",
        "\n",
        "    return True\n",
        "\n",
        "number = int(input(\"Enter a number: \"))\n",
        "\n",
        "# call the check_prime function\n",
        "is_prime = check_prime(number)\n",
        "\n",
        "if is_prime:\n",
        "    print(f\"{number} is prime\")\n",
        "else:\n",
        "    print(f\"{number} is not prime\")"
      ],
      "metadata": {
        "colab": {
          "base_uri": "https://localhost:8080/"
        },
        "id": "KieeHSkK6BRV",
        "outputId": "3e99d225-0157-496f-a312-e7e10a4a8dbe"
      },
      "execution_count": 2,
      "outputs": [
        {
          "output_type": "stream",
          "name": "stdout",
          "text": [
            "Enter a number: 19\n",
            "19 is prime\n"
          ]
        }
      ]
    },
    {
      "cell_type": "markdown",
      "source": [
        "Note: The above program doesn't work for numbers less than 2.\n"
      ],
      "metadata": {
        "id": "NErPxJP16E0S"
      }
    },
    {
      "cell_type": "markdown",
      "source": [
        "# Step 3: Prime Numbers Between 50 to 100\n",
        "\n"
      ],
      "metadata": {
        "id": "Q4zRSEYb6Hp1"
      }
    },
    {
      "cell_type": "code",
      "source": [
        "# function to check prime number\n",
        "def check_prime(n):\n",
        "    for i in range(2, n):\n",
        "        if (n % i) == 0:\n",
        "            return False\n",
        "\n",
        "    return True\n",
        "\n",
        "n1 = 50\n",
        "n2 = 100\n",
        "\n",
        "# iterate loop from 50 to 100\n",
        "for number in range(n1, n2+1):\n",
        "    is_prime = check_prime(number)\n",
        "\n",
        "    # print if number is prime\n",
        "    if is_prime:\n",
        "        print(number)"
      ],
      "metadata": {
        "colab": {
          "base_uri": "https://localhost:8080/"
        },
        "id": "8h4iCtCA6NRD",
        "outputId": "8d8e01fc-d884-4ca4-dd2d-0a5983bb0f5f"
      },
      "execution_count": 3,
      "outputs": [
        {
          "output_type": "stream",
          "name": "stdout",
          "text": [
            "53\n",
            "59\n",
            "61\n",
            "67\n",
            "71\n",
            "73\n",
            "79\n",
            "83\n",
            "89\n",
            "97\n"
          ]
        }
      ]
    },
    {
      "cell_type": "markdown",
      "source": [
        "# **Project : Rock paper scissors.**"
      ],
      "metadata": {
        "id": "-lJof7326fAN"
      }
    },
    {
      "cell_type": "markdown",
      "source": [
        "# Project Description\n",
        "This game will be played between the computer and the user.\n",
        "\n",
        "The computer will randomly pick either rock, paper or scissors. The user will not know the computer's pick.\n",
        "\n",
        "The user will be asked to choose either rock, paper or scissors.\n",
        "\n",
        "We will compare the computer's pick and the user's pick and decide whether the user won or lost or drew."
      ],
      "metadata": {
        "id": "Qdh8obYi68OG"
      }
    },
    {
      "cell_type": "markdown",
      "source": [
        "# Step 1 : Make Computer Randomly Choose a Value\n"
      ],
      "metadata": {
        "id": "b9QUe85J7D7D"
      }
    },
    {
      "cell_type": "code",
      "source": [
        "import random\n",
        "\n",
        "# returns either \"rock\", \"paper\" or \"scissors\"\n",
        "def get_computers_choice():\n",
        "    # random number between 1 and 3\n",
        "    random_number = random.randint(1, 3)\n",
        "\n",
        "    # create a dictionary with 3 items\n",
        "    options = {1: \"rock\", 2: \"paper\", 3: \"scissors\"}\n",
        "\n",
        "    # get the corresponding value\n",
        "    # if random_number is 1, computer_choice will be rock\n",
        "    # if random_number is 2, computer_choice will be paper\n",
        "    # if random_number is 3, computer_choice will be scissors\n",
        "    computers_choice = options[random_number]\n",
        "\n",
        "    return computers_choice\n",
        "\n",
        "computers_choice = get_computers_choice()\n",
        "print(computers_choice)"
      ],
      "metadata": {
        "colab": {
          "base_uri": "https://localhost:8080/"
        },
        "id": "hJUC_loh7QPa",
        "outputId": "0728a24e-3baa-4123-8a85-b3977fcd57b4"
      },
      "execution_count": 5,
      "outputs": [
        {
          "output_type": "stream",
          "name": "stdout",
          "text": [
            "rock\n"
          ]
        }
      ]
    },
    {
      "cell_type": "markdown",
      "source": [
        "# Step 2: Take user input\n"
      ],
      "metadata": {
        "id": "Vt2wpy7i7eCq"
      }
    },
    {
      "cell_type": "code",
      "source": [
        "def get_user_input():\n",
        "    user_input = input(\"Enter rock/paper/scissors: \")\n",
        "\n",
        "    # convert the user input to lowercase\n",
        "    user_input = user_input.lower()\n",
        "\n",
        "    return user_input\n",
        "\n",
        "result = get_user_input()\n",
        "print(result)"
      ],
      "metadata": {
        "colab": {
          "base_uri": "https://localhost:8080/"
        },
        "id": "foom4_cQ7iJN",
        "outputId": "d2ee36d1-b7a0-4b41-b073-d7226deae89e"
      },
      "execution_count": 6,
      "outputs": [
        {
          "output_type": "stream",
          "name": "stdout",
          "text": [
            "Enter rock/paper/scissors: 1\n",
            "1\n"
          ]
        }
      ]
    },
    {
      "cell_type": "markdown",
      "source": [
        "# Step 3: Decide win, lose and draw\n"
      ],
      "metadata": {
        "id": "rpZ4HYEM7ved"
      }
    },
    {
      "cell_type": "code",
      "source": [
        "def get_result(user_pick, computer_pick):\n",
        "\n",
        "    # condition for user to draw\n",
        "    if computer_pick == user_pick:\n",
        "        return \"draw\"\n",
        "\n",
        "    # condition for user to win\n",
        "    elif user_pick == \"paper\" and computer_pick == \"rock\":\n",
        "        return \"win\"\n",
        "    elif user_pick == \"rock\" and computer_pick == \"scissors\":\n",
        "        return \"win\"\n",
        "    elif user_pick == \"scissors\" and computer_pick == \"paper\":\n",
        "        return \"win\"\n",
        "\n",
        "    # all other conditions result to loss\n",
        "    else:\n",
        "        return \"lose\""
      ],
      "metadata": {
        "id": "XWTLdIwN79pV"
      },
      "execution_count": 8,
      "outputs": []
    },
    {
      "cell_type": "markdown",
      "source": [
        "# Putting All Together\n"
      ],
      "metadata": {
        "id": "M-ui8Rf18K-e"
      }
    },
    {
      "cell_type": "code",
      "source": [
        "import random\n",
        "\n",
        "# returns either \"rock\", \"paper\" or \"scissors\"\n",
        "def get_computers_choice():\n",
        "    random_number = random.randint(1, 3)\n",
        "\n",
        "    options = {1: \"rock\", 2: \"paper\", 3: \"scissors\"}\n",
        "    computers_choice = options[random_number]\n",
        "\n",
        "    return computers_choice\n",
        "\n",
        "# take user input and return it\n",
        "def get_user_input():\n",
        "    user_input = input(\"Enter rock/paper/scissors: \")\n",
        "\n",
        "    # converting the user input to lowercase\n",
        "    user_input = user_input.lower()\n",
        "\n",
        "    return user_input\n",
        "\n",
        "# return either \"win\", \"lose\" or \"draw\"\n",
        "def get_result(user_pick, computer_pick):\n",
        "\n",
        "    if computer_pick == user_pick:\n",
        "        return \"draw\"\n",
        "\n",
        "    elif user_pick == \"paper\" and computer_pick == \"rock\":\n",
        "        return \"win\"\n",
        "    elif user_pick == \"rock\" and computer_pick == \"scissors\":\n",
        "        return \"win\"\n",
        "    elif user_pick == \"scissors\" and computer_pick == \"paper\":\n",
        "        return \"win\"\n",
        "\n",
        "    else:\n",
        "        return \"lose\"\n",
        "\n",
        "\n",
        "# outside of the function\n",
        "computer_pick = get_computers_choice()\n",
        "users_pick = get_user_input()\n",
        "result = get_result(users_pick, computer_pick)\n",
        "\n",
        "# print result\n",
        "print(f\"Computer's pick: {computer_pick}\")\n",
        "print(f\"Your pick: {users_pick}\")\n",
        "print(f\"You {result}\")"
      ],
      "metadata": {
        "colab": {
          "base_uri": "https://localhost:8080/"
        },
        "id": "JKqaKVS88Q3z",
        "outputId": "d31c6d67-b4de-4019-bca2-4667885b2b6b"
      },
      "execution_count": 13,
      "outputs": [
        {
          "output_type": "stream",
          "name": "stdout",
          "text": [
            "Enter rock/paper/scissors: rock\n",
            "Computer's pick: scissors\n",
            "Your pick: rock\n",
            "You win\n"
          ]
        }
      ]
    },
    {
      "cell_type": "markdown",
      "source": [
        "# Handling Wrong User Input\n"
      ],
      "metadata": {
        "id": "48ThK_D18vh1"
      }
    },
    {
      "cell_type": "code",
      "source": [
        "import random\n",
        "\n",
        "# returns either \"rock\", \"paper\" or \"scissors\"\n",
        "def get_computers_choice():\n",
        "    random_number = random.randint(1, 3)\n",
        "\n",
        "    options = {1: \"rock\", 2: \"paper\", 3: \"scissors\"}\n",
        "    computers_choice = options[random_number]\n",
        "\n",
        "    return computers_choice\n",
        "\n",
        "# take user input and return it\n",
        "def get_user_input():\n",
        "    user_input = input(\"Enter rock/paper/scissors: \")\n",
        "\n",
        "    # converting the user input to lowercase\n",
        "    user_input = user_input.lower()\n",
        "\n",
        "    return user_input\n",
        "\n",
        "# return either \"win\", \"lose\" or \"draw\"\n",
        "def get_result(user_pick, computer_pick):\n",
        "\n",
        "    if computer_pick == user_pick:\n",
        "        return \"draw\"\n",
        "\n",
        "    elif user_pick == \"paper\" and computer_pick == \"rock\":\n",
        "        return \"win\"\n",
        "    elif user_pick == \"rock\" and computer_pick == \"scissors\":\n",
        "        return \"win\"\n",
        "    elif user_pick == \"scissors\" and computer_pick == \"paper\":\n",
        "        return \"win\"\n",
        "\n",
        "    else:\n",
        "        return \"lose\"\n",
        "\n",
        "\n",
        "# outside of the function\n",
        "computer_pick = get_computers_choice()\n",
        "\n",
        "# get input until user enters \"rock\", \"paper\" or scissors\n",
        "while True:\n",
        "    users_pick = get_user_input()\n",
        "    if users_pick in [\"rock\", \"paper\", \"scissors\"]:\n",
        "        break\n",
        "\n",
        "result = get_result(users_pick, computer_pick)\n",
        "\n",
        "# print result\n",
        "print(f\"Computer's pick: {computer_pick}\")\n",
        "print(f\"Your pick: {users_pick}\")\n",
        "print(f\"You {result}\")"
      ],
      "metadata": {
        "colab": {
          "base_uri": "https://localhost:8080/"
        },
        "id": "tEQLyTHA8za_",
        "outputId": "798a1f1c-3d98-42db-f947-1f657cc6e90f"
      },
      "execution_count": 14,
      "outputs": [
        {
          "output_type": "stream",
          "name": "stdout",
          "text": [
            "Enter rock/paper/scissors: rock\n",
            "Computer's pick: rock\n",
            "Your pick: rock\n",
            "You draw\n"
          ]
        }
      ]
    }
  ]
}