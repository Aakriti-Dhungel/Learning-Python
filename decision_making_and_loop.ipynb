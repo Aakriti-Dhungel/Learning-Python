{
  "nbformat": 4,
  "nbformat_minor": 0,
  "metadata": {
    "colab": {
      "provenance": [],
      "authorship_tag": "ABX9TyMVbSZPyzEJyHoJNuyEy6aT"
    },
    "kernelspec": {
      "name": "python3",
      "display_name": "Python 3"
    },
    "language_info": {
      "name": "python"
    }
  },
  "cells": [
    {
      "cell_type": "markdown",
      "source": [
        "# **Python Booleans**"
      ],
      "metadata": {
        "id": "clRQAh1PjrH2"
      }
    },
    {
      "cell_type": "code",
      "execution_count": null,
      "metadata": {
        "colab": {
          "base_uri": "https://localhost:8080/"
        },
        "id": "Wnyt-w3BiMnv",
        "outputId": "07502f88-8d33-4eac-af81-438f63166009"
      },
      "outputs": [
        {
          "output_type": "stream",
          "name": "stdout",
          "text": [
            "True\n",
            "False\n"
          ]
        }
      ],
      "source": [
        "# A boolean is a data type, like integers, floating-point numbers, and strings.\n",
        "#1. Booleans aren't strings\n",
        "\n",
        "# 2. Booleans are not variables\n",
        "\n",
        "result1 = True\n",
        "result2 = False\n",
        "\n",
        "print(result1)\n",
        "print(result2)"
      ]
    },
    {
      "cell_type": "markdown",
      "source": [
        "Compare Values/Variables\n"
      ],
      "metadata": {
        "id": "0yql61t8lzB-"
      }
    },
    {
      "cell_type": "code",
      "source": [
        "total = float(input(\"Enter total: \"))\n",
        "\n",
        "# Is total greater than 100?\n",
        "result = total > 100\n",
        "\n",
        "print(result)\n",
        "\n",
        "total = float(input(\"Enter total: \"))\n",
        "\n",
        "# Check if total is greater than 100\n",
        "result = total > 100\n",
        "print(result)"
      ],
      "metadata": {
        "colab": {
          "base_uri": "https://localhost:8080/"
        },
        "id": "p5ft_szgl4Sd",
        "outputId": "d8034605-1c3d-4919-9520-e39978b57295"
      },
      "execution_count": null,
      "outputs": [
        {
          "output_type": "stream",
          "name": "stdout",
          "text": [
            "Enter total: 10\n",
            "False\n",
            "Enter total: 20\n",
            "False\n"
          ]
        }
      ]
    },
    {
      "cell_type": "markdown",
      "source": [
        "Comparison Operators List\n",
        ">\tvar > 10\tIs var greater than 10?\n",
        "\n",
        ">=\tvar >= 10\tIs var greater than or equal to 10?\n",
        "\n",
        "<\tvar < 10\tIs var less than 10?\n",
        "\n",
        "<=\tvar <= 10\tIs var less than or equal to 10?\n",
        "\n",
        "==\tvar == 10\tIs var equal to 10?\n",
        "\n",
        "!=  var != 10\tIs var not equal to 10?"
      ],
      "metadata": {
        "id": "RBpzOOMumFdl"
      }
    },
    {
      "cell_type": "code",
      "source": [
        "number1 = 10\n",
        "number2 = 20\n",
        "\n",
        "# True because 10 is greater than 5\n",
        "print(number1 > 5)\n",
        "\n",
        "# False because 10 is not greater than 10\n",
        "print(number1 > 10)\n",
        "\n",
        "# True because 20 is greater than 10\n",
        "print(number2 > number1)\n",
        "\n",
        "##another\n",
        "number1 = 10\n",
        "number2 = 20\n",
        "\n",
        "# False because 10 is not greater than or equal to 15\n",
        "print(number1 >= 15)\n",
        "\n",
        "# True because 10 is equal to 10.0\n",
        "print(number1 >= 10.0)\n",
        "\n",
        "# True because 20 is greater than 10\n",
        "print(number2 >= number1)\n",
        "\n",
        "# < and <=\n",
        "age1 = 21\n",
        "age2 = 18\n",
        "\n",
        "# False because 21 is not less than 21\n",
        "print(age1 < 21)\n",
        "\n",
        "# True because 21 is equal to 21\n",
        "print(age1 <= 21)\n",
        "\n",
        "# False because 21 is not less than 18\n",
        "print(age1 < age2)\n",
        "\n",
        "# False because 21 is not less than or equal to 18\n",
        "print(age1 <= age2)"
      ],
      "metadata": {
        "colab": {
          "base_uri": "https://localhost:8080/"
        },
        "id": "fg_T_LIhmdjy",
        "outputId": "9112be80-df09-4770-a0ba-1da778bbd3e3"
      },
      "execution_count": null,
      "outputs": [
        {
          "output_type": "stream",
          "name": "stdout",
          "text": [
            "True\n",
            "False\n",
            "True\n",
            "False\n",
            "True\n",
            "True\n"
          ]
        }
      ]
    },
    {
      "cell_type": "markdown",
      "source": [
        "Problem Description\n",
        "Write a program to compare two strings.\n",
        "\n",
        "Get two string inputs and store them in variables var1 and var2, respectively.\n",
        "Check if the two strings are equal and print the result."
      ],
      "metadata": {
        "id": "2Y_9XqmfngDE"
      }
    },
    {
      "cell_type": "code",
      "source": [
        "# Get string inputs from the user\n",
        "var1 = input(\"Enter a string: \")\n",
        "var2 = input(\"Enter another string: \")\n",
        "\n",
        "# Write your code below\n",
        "\n",
        "print(var1 == var2)\n"
      ],
      "metadata": {
        "colab": {
          "base_uri": "https://localhost:8080/"
        },
        "id": "9yyOel-TniaC",
        "outputId": "6091bcd5-2d9e-48fb-adfc-1e68ca4584be"
      },
      "execution_count": null,
      "outputs": [
        {
          "output_type": "stream",
          "name": "stdout",
          "text": [
            "Enter a string: hello\n",
            "Enter another string: aakriti\n",
            "False\n"
          ]
        }
      ]
    },
    {
      "cell_type": "markdown",
      "source": [
        "Compare Two Numbers\n",
        "Problem Description\n",
        "Write a program to perform comparisons between two variables.\n",
        "\n",
        "Get two integer inputs from the user and store them in var1 and var2, respectively.\n",
        "Compare var1 and var2 using the comparison operators <, >, and != respectively.\n",
        "Print the results in the format shown in the Expected Output section."
      ],
      "metadata": {
        "id": "Mp-_j9mAno9D"
      }
    },
    {
      "cell_type": "code",
      "source": [
        "# Get two integer inputs\n",
        "var1 = int(input())\n",
        "var2 = int(input())\n",
        "\n",
        "# Compare variables and print the results\n",
        "print(\"var1 < var2:\", var1 < var2)\n",
        "print(\"var1 > var2:\", var1 > var2)\n",
        "print(\"var1 != var2:\", var1 != var2)\n"
      ],
      "metadata": {
        "colab": {
          "base_uri": "https://localhost:8080/"
        },
        "id": "hEsNiwtCnszd",
        "outputId": "ebd4f966-a480-4c4c-cc42-a3e5860cb191"
      },
      "execution_count": null,
      "outputs": [
        {
          "output_type": "stream",
          "name": "stdout",
          "text": [
            "5\n",
            "10\n",
            "var1 < var2: True\n",
            "var1 > var2: False\n",
            "var1 != var2: True\n"
          ]
        }
      ]
    },
    {
      "cell_type": "code",
      "source": [
        "number = int(input(\"Enter a number: \"))\n",
        "\n",
        "# If the remainder is equal to 0 when divided by 2,\n",
        "# The result is True (even number).\n",
        "print(number % 2 == 0)"
      ],
      "metadata": {
        "colab": {
          "base_uri": "https://localhost:8080/"
        },
        "id": "glnUp7hepG7X",
        "outputId": "98083832-7389-47af-fd0c-7385c306be2d"
      },
      "execution_count": null,
      "outputs": [
        {
          "output_type": "stream",
          "name": "stdout",
          "text": [
            "Enter a number: 10\n",
            "True\n"
          ]
        }
      ]
    },
    {
      "cell_type": "markdown",
      "source": [
        "Check Divisibly by Five\n",
        "Problem Description\n",
        "Write a program to print True if the number is divisible by 5. If not, print False.\n",
        "\n",
        "Get an integer input from the user.\n",
        "Check if the input is divisible by 5.\n",
        "If it's divisible by 5, print True.\n",
        "If not, print False."
      ],
      "metadata": {
        "id": "Mr67q9SopT2D"
      }
    },
    {
      "cell_type": "code",
      "source": [
        "# Get integer input\n",
        "number = int(input(\"Enter an integer: \"))\n",
        "\n",
        "# Write your code below\n",
        "# Check if the number is divisible by 5 and print the result\n",
        "if number % 5 == 0:\n",
        "    print(True)\n",
        "else:\n",
        "    print(False)\n"
      ],
      "metadata": {
        "colab": {
          "base_uri": "https://localhost:8080/"
        },
        "id": "J29Oj2r-pYAq",
        "outputId": "f5c09437-80be-460f-8449-946e68105b03"
      },
      "execution_count": null,
      "outputs": [
        {
          "output_type": "stream",
          "name": "stdout",
          "text": [
            "Enter an integer: 5\n",
            "True\n"
          ]
        }
      ]
    }
  ]
}