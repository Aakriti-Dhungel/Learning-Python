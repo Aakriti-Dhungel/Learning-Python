{
  "nbformat": 4,
  "nbformat_minor": 0,
  "metadata": {
    "colab": {
      "provenance": [],
      "authorship_tag": "ABX9TyOVbWqzhUgdoEd+6O86oRUG"
    },
    "kernelspec": {
      "name": "python3",
      "display_name": "Python 3"
    },
    "language_info": {
      "name": "python"
    }
  },
  "cells": [
    {
      "cell_type": "markdown",
      "source": [
        "# **Python Booleans**"
      ],
      "metadata": {
        "id": "clRQAh1PjrH2"
      }
    },
    {
      "cell_type": "code",
      "execution_count": null,
      "metadata": {
        "colab": {
          "base_uri": "https://localhost:8080/"
        },
        "id": "Wnyt-w3BiMnv",
        "outputId": "07502f88-8d33-4eac-af81-438f63166009"
      },
      "outputs": [
        {
          "output_type": "stream",
          "name": "stdout",
          "text": [
            "True\n",
            "False\n"
          ]
        }
      ],
      "source": [
        "# A boolean is a data type, like integers, floating-point numbers, and strings.\n",
        "#1. Booleans aren't strings\n",
        "\n",
        "# 2. Booleans are not variables\n",
        "\n",
        "result1 = True\n",
        "result2 = False\n",
        "\n",
        "print(result1)\n",
        "print(result2)"
      ]
    },
    {
      "cell_type": "markdown",
      "source": [
        "Compare Values/Variables\n"
      ],
      "metadata": {
        "id": "0yql61t8lzB-"
      }
    },
    {
      "cell_type": "code",
      "source": [
        "total = float(input(\"Enter total: \"))\n",
        "\n",
        "# Is total greater than 100?\n",
        "result = total > 100\n",
        "\n",
        "print(result)\n",
        "\n",
        "total = float(input(\"Enter total: \"))\n",
        "\n",
        "# Check if total is greater than 100\n",
        "result = total > 100\n",
        "print(result)"
      ],
      "metadata": {
        "colab": {
          "base_uri": "https://localhost:8080/"
        },
        "id": "p5ft_szgl4Sd",
        "outputId": "d8034605-1c3d-4919-9520-e39978b57295"
      },
      "execution_count": null,
      "outputs": [
        {
          "output_type": "stream",
          "name": "stdout",
          "text": [
            "Enter total: 10\n",
            "False\n",
            "Enter total: 20\n",
            "False\n"
          ]
        }
      ]
    },
    {
      "cell_type": "markdown",
      "source": [
        "Comparison Operators List\n",
        ">\tvar > 10\tIs var greater than 10?\n",
        "\n",
        ">=\tvar >= 10\tIs var greater than or equal to 10?\n",
        "\n",
        "<\tvar < 10\tIs var less than 10?\n",
        "\n",
        "<=\tvar <= 10\tIs var less than or equal to 10?\n",
        "\n",
        "==\tvar == 10\tIs var equal to 10?\n",
        "\n",
        "!=  var != 10\tIs var not equal to 10?"
      ],
      "metadata": {
        "id": "RBpzOOMumFdl"
      }
    },
    {
      "cell_type": "code",
      "source": [
        "number1 = 10\n",
        "number2 = 20\n",
        "\n",
        "# True because 10 is greater than 5\n",
        "print(number1 > 5)\n",
        "\n",
        "# False because 10 is not greater than 10\n",
        "print(number1 > 10)\n",
        "\n",
        "# True because 20 is greater than 10\n",
        "print(number2 > number1)\n",
        "\n",
        "##another\n",
        "number1 = 10\n",
        "number2 = 20\n",
        "\n",
        "# False because 10 is not greater than or equal to 15\n",
        "print(number1 >= 15)\n",
        "\n",
        "# True because 10 is equal to 10.0\n",
        "print(number1 >= 10.0)\n",
        "\n",
        "# True because 20 is greater than 10\n",
        "print(number2 >= number1)\n",
        "\n",
        "# < and <=\n",
        "age1 = 21\n",
        "age2 = 18\n",
        "\n",
        "# False because 21 is not less than 21\n",
        "print(age1 < 21)\n",
        "\n",
        "# True because 21 is equal to 21\n",
        "print(age1 <= 21)\n",
        "\n",
        "# False because 21 is not less than 18\n",
        "print(age1 < age2)\n",
        "\n",
        "# False because 21 is not less than or equal to 18\n",
        "print(age1 <= age2)"
      ],
      "metadata": {
        "colab": {
          "base_uri": "https://localhost:8080/"
        },
        "id": "fg_T_LIhmdjy",
        "outputId": "9112be80-df09-4770-a0ba-1da778bbd3e3"
      },
      "execution_count": null,
      "outputs": [
        {
          "output_type": "stream",
          "name": "stdout",
          "text": [
            "True\n",
            "False\n",
            "True\n",
            "False\n",
            "True\n",
            "True\n"
          ]
        }
      ]
    },
    {
      "cell_type": "markdown",
      "source": [
        "Problem Description\n",
        "Write a program to compare two strings.\n",
        "\n",
        "Get two string inputs and store them in variables var1 and var2, respectively.\n",
        "Check if the two strings are equal and print the result."
      ],
      "metadata": {
        "id": "2Y_9XqmfngDE"
      }
    },
    {
      "cell_type": "code",
      "source": [
        "# Get string inputs from the user\n",
        "var1 = input(\"Enter a string: \")\n",
        "var2 = input(\"Enter another string: \")\n",
        "\n",
        "# Write your code below\n",
        "\n",
        "print(var1 == var2)\n"
      ],
      "metadata": {
        "colab": {
          "base_uri": "https://localhost:8080/"
        },
        "id": "9yyOel-TniaC",
        "outputId": "6091bcd5-2d9e-48fb-adfc-1e68ca4584be"
      },
      "execution_count": null,
      "outputs": [
        {
          "output_type": "stream",
          "name": "stdout",
          "text": [
            "Enter a string: hello\n",
            "Enter another string: aakriti\n",
            "False\n"
          ]
        }
      ]
    },
    {
      "cell_type": "markdown",
      "source": [
        "Compare Two Numbers\n",
        "Problem Description\n",
        "Write a program to perform comparisons between two variables.\n",
        "\n",
        "Get two integer inputs from the user and store them in var1 and var2, respectively.\n",
        "Compare var1 and var2 using the comparison operators <, >, and != respectively.\n",
        "Print the results in the format shown in the Expected Output section."
      ],
      "metadata": {
        "id": "Mp-_j9mAno9D"
      }
    },
    {
      "cell_type": "code",
      "source": [
        "# Get two integer inputs\n",
        "var1 = int(input())\n",
        "var2 = int(input())\n",
        "\n",
        "# Compare variables and print the results\n",
        "print(\"var1 < var2:\", var1 < var2)\n",
        "print(\"var1 > var2:\", var1 > var2)\n",
        "print(\"var1 != var2:\", var1 != var2)\n"
      ],
      "metadata": {
        "colab": {
          "base_uri": "https://localhost:8080/"
        },
        "id": "hEsNiwtCnszd",
        "outputId": "ebd4f966-a480-4c4c-cc42-a3e5860cb191"
      },
      "execution_count": null,
      "outputs": [
        {
          "output_type": "stream",
          "name": "stdout",
          "text": [
            "5\n",
            "10\n",
            "var1 < var2: True\n",
            "var1 > var2: False\n",
            "var1 != var2: True\n"
          ]
        }
      ]
    },
    {
      "cell_type": "code",
      "source": [
        "number = int(input(\"Enter a number: \"))\n",
        "\n",
        "# If the remainder is equal to 0 when divided by 2,\n",
        "# The result is True (even number).\n",
        "print(number % 2 == 0)"
      ],
      "metadata": {
        "colab": {
          "base_uri": "https://localhost:8080/"
        },
        "id": "glnUp7hepG7X",
        "outputId": "98083832-7389-47af-fd0c-7385c306be2d"
      },
      "execution_count": null,
      "outputs": [
        {
          "output_type": "stream",
          "name": "stdout",
          "text": [
            "Enter a number: 10\n",
            "True\n"
          ]
        }
      ]
    },
    {
      "cell_type": "markdown",
      "source": [
        "Check Divisibly by Five\n",
        "Problem Description\n",
        "Write a program to print True if the number is divisible by 5. If not, print False.\n",
        "\n",
        "Get an integer input from the user.\n",
        "Check if the input is divisible by 5.\n",
        "If it's divisible by 5, print True.\n",
        "If not, print False."
      ],
      "metadata": {
        "id": "Mr67q9SopT2D"
      }
    },
    {
      "cell_type": "code",
      "source": [
        "# Get integer input\n",
        "number = int(input(\"Enter an integer: \"))\n",
        "\n",
        "# Check if the number is divisible by 5 and print the result\n",
        "if number % 5 == 0:\n",
        "    print(True)\n",
        "else:\n",
        "    print(False)\n"
      ],
      "metadata": {
        "colab": {
          "base_uri": "https://localhost:8080/"
        },
        "id": "J29Oj2r-pYAq",
        "outputId": "f5c09437-80be-460f-8449-946e68105b03"
      },
      "execution_count": null,
      "outputs": [
        {
          "output_type": "stream",
          "name": "stdout",
          "text": [
            "Enter an integer: 5\n",
            "True\n"
          ]
        }
      ]
    },
    {
      "cell_type": "markdown",
      "source": [
        "# **Decision Making**"
      ],
      "metadata": {
        "id": "xT2uFmnx1egl"
      }
    },
    {
      "cell_type": "markdown",
      "source": [
        "# **The if Statement**\n",
        "If boolean_expression is:\n",
        "\n",
        "True: the statements inside if are executed.\n",
        "\n",
        "False: the statements inside if are skipped from execution."
      ],
      "metadata": {
        "id": "-FaDseqL13kA"
      }
    },
    {
      "cell_type": "code",
      "source": [
        "if boolean_expression:\n",
        "    statement(s)\n",
        "\n"
      ],
      "metadata": {
        "id": "USTDiRrQ2KDW"
      },
      "execution_count": null,
      "outputs": []
    },
    {
      "cell_type": "code",
      "source": [
        "# Check eligibility for discount.\n",
        "\n",
        "total = float(input(\"Enter the total amount: \"))\n",
        "\n",
        "# Check if total is greater than 100\n",
        "if total > 100:\n",
        "    print(\"Congratulations!\")\n",
        "    print(\"You are eligible for a discount\")"
      ],
      "metadata": {
        "colab": {
          "base_uri": "https://localhost:8080/"
        },
        "id": "ZDRMFnFD2X0A",
        "outputId": "f1affb42-d085-4228-c580-3909cd75f266"
      },
      "execution_count": null,
      "outputs": [
        {
          "output_type": "stream",
          "name": "stdout",
          "text": [
            "Enter the total amount: 200\n",
            "Congratulations!\n",
            "You are eligible for a discount\n"
          ]
        }
      ]
    },
    {
      "cell_type": "markdown",
      "source": [
        "\n",
        "Note: In Python, indentation (spaces before the code) is important. In this program, two print() statements are indented to indicate they are part of the if block. They will only execute if the boolean expression is True."
      ],
      "metadata": {
        "id": "rqTRxT-C2pDd"
      }
    },
    {
      "cell_type": "code",
      "source": [
        "#Indentation is important\n",
        "# Check eligibility for discount.\n",
        "\n",
        "total = float(input(\"Enter the total amount: \"))\n",
        "\n",
        "# check if total is greater than 100\n",
        "if total > 100:\n",
        "    print(\"Congratulations!\")\n",
        "    print(\"You are eligible for a discount\")\n",
        "\n",
        "print(\"Program ends.\")"
      ],
      "metadata": {
        "colab": {
          "base_uri": "https://localhost:8080/"
        },
        "id": "rI6PFlge2qY_",
        "outputId": "fcb47e82-96a5-4d33-a985-0b1e3b0ea511"
      },
      "execution_count": null,
      "outputs": [
        {
          "output_type": "stream",
          "name": "stdout",
          "text": [
            "Enter the total amount: 200\n",
            "Congratulations!\n",
            "You are eligible for a discount\n",
            "Program ends.\n"
          ]
        }
      ]
    },
    {
      "cell_type": "code",
      "source": [
        "number = 0\n",
        "\n",
        "if number < 0:\n",
        "    print(\"Number is negative.\")\n",
        "print(\"The number has been checked.\") #output: The number has been checked."
      ],
      "metadata": {
        "id": "nXQFGnjp3KOf"
      },
      "execution_count": null,
      "outputs": []
    },
    {
      "cell_type": "markdown",
      "source": [
        "Problem Description\n",
        "Determine if a person is eligible to vote based on their age.\n",
        "\n",
        "Get integer input from the user and store it in the age variable.\n",
        "If age is 18 or above, print The person can vote.\n",
        "If not, don't print anything."
      ],
      "metadata": {
        "id": "reNmfu3o3gih"
      }
    },
    {
      "cell_type": "code",
      "source": [
        "# Get integer input\n",
        "age = int(input(\"Enter your age: \"))\n",
        "if age >=18:\n",
        "    print(\"The person can vote.\")\n"
      ],
      "metadata": {
        "colab": {
          "base_uri": "https://localhost:8080/"
        },
        "id": "9sZOyhrk3i2Z",
        "outputId": "b9062ba4-406c-4b3e-9e5b-390e2ed088bb"
      },
      "execution_count": null,
      "outputs": [
        {
          "output_type": "stream",
          "name": "stdout",
          "text": [
            "Enter your age: 50\n",
            "The person can vote.\n"
          ]
        }
      ]
    },
    {
      "cell_type": "markdown",
      "source": [
        "Problem Description\n",
        "Write a program to display a warning signal if the traffic light is red.\n",
        "\n",
        "Check if the traffic light is \"red\" (in lowercase).\n",
        "Display The red light is on. and Stop the vehicle. on two different lines if the traffic light is red.\n",
        "Always display Have a good day! at the end, regardless of the traffic light."
      ],
      "metadata": {
        "id": "BcaQG6Zu4ZEg"
      }
    },
    {
      "cell_type": "code",
      "source": [
        "# Get input\n",
        "traffic_signal = input(\"Enter the traffic light color: \")\n",
        "if traffic_signal == \"red\":\n",
        "    print(\"The red light is on.\")\n",
        "    print(\"Stop the vehicle.\")\n",
        "print(\"Have a good day!\")"
      ],
      "metadata": {
        "id": "taQkTVTL4bS6"
      },
      "execution_count": null,
      "outputs": []
    },
    {
      "cell_type": "code",
      "source": [
        "#Multiple if statement\n",
        "# Check eligibility for discount.\n",
        "\n",
        "total = float(input(\"Enter the total amount: \"))\n",
        "\n",
        "# Check if total is greater than 100\n",
        "if total > 100:\n",
        "    print(\"Congratulations!\")\n",
        "    print(\"You are eligible for a discount\")\n",
        "\n",
        "# Check if total is 100 or less\n",
        "if total <= 100:\n",
        "    print(\"You are not eligible for a discount.\")"
      ],
      "metadata": {
        "colab": {
          "base_uri": "https://localhost:8080/"
        },
        "id": "t91uVoum4hcz",
        "outputId": "732fba38-3e86-4156-bffb-d5d4779ddc34"
      },
      "execution_count": null,
      "outputs": [
        {
          "output_type": "stream",
          "name": "stdout",
          "text": [
            "Enter the total amount: 20\n",
            "You are not eligible for a discount.\n"
          ]
        }
      ]
    },
    {
      "cell_type": "markdown",
      "source": [
        "#  **Python else Clause**\n"
      ],
      "metadata": {
        "id": "xEzMosOX4qt1"
      }
    },
    {
      "cell_type": "code",
      "source": [
        "if condition:\n",
        "    # Runs if condition is True\n",
        "else:\n",
        "    # Runs if condition is False"
      ],
      "metadata": {
        "id": "6jOfzYO749Ok"
      },
      "execution_count": null,
      "outputs": []
    },
    {
      "cell_type": "code",
      "source": [
        "# Check eligibility for discount.\n",
        "\n",
        "total = float(input(\"Enter the total amount: \"))\n",
        "\n",
        "# Check if total is greater than 100\n",
        "if total > 100:\n",
        "    print(\"Congratulations!\")\n",
        "    print(\"You are eligible for a discount\")\n",
        "else:\n",
        "    print(\"You are not eligible for a discount.\")"
      ],
      "metadata": {
        "colab": {
          "base_uri": "https://localhost:8080/"
        },
        "id": "mUMh2Vn05H2x",
        "outputId": "0c1bc614-5de8-4c58-9c10-c7a4d8231f66"
      },
      "execution_count": null,
      "outputs": [
        {
          "output_type": "stream",
          "name": "stdout",
          "text": [
            "Enter the total amount: 50\n",
            "You are not eligible for a discount.\n"
          ]
        }
      ]
    },
    {
      "cell_type": "code",
      "source": [
        "number = 0\n",
        "\n",
        "if number < 0:\n",
        "    print(\"Number is negative.\")\n",
        "else:\n",
        "    print(\"Positive or zero.\")\n",
        "print(\"The number has been checked.\")"
      ],
      "metadata": {
        "colab": {
          "base_uri": "https://localhost:8080/"
        },
        "id": "WpidkHmI5Q22",
        "outputId": "7986961a-c2a3-45e4-cbb7-516d5daaf336"
      },
      "execution_count": null,
      "outputs": [
        {
          "output_type": "stream",
          "name": "stdout",
          "text": [
            "Positive or zero.\n",
            "The number has been checked.\n"
          ]
        }
      ]
    },
    {
      "cell_type": "markdown",
      "source": [
        "Problem Description\n",
        "\n",
        "Determine if a person can vote or not by their age.\n",
        "\n",
        "Get integer input from the user and store it in the age variable.\n",
        "If age is 18 or above, print The person can vote.\n",
        "If not, print The person cannot vote."
      ],
      "metadata": {
        "id": "Hvu5IiKR5VMx"
      }
    },
    {
      "cell_type": "code",
      "source": [
        "# Get integer input\n",
        "age = int(input(\"Enter your age: \"))\n",
        "if age >=18:\n",
        "    print(\"The person can vote.\")\n",
        "else:\n",
        "    print(\"The person cannot vote.\")"
      ],
      "metadata": {
        "colab": {
          "base_uri": "https://localhost:8080/"
        },
        "id": "Zz55Uet75rmf",
        "outputId": "6f9446aa-89cf-4d0a-ff76-9fdff7cd277c"
      },
      "execution_count": null,
      "outputs": [
        {
          "output_type": "stream",
          "name": "stdout",
          "text": [
            "Enter your age: 50\n",
            "The person can vote.\n"
          ]
        }
      ]
    },
    {
      "cell_type": "markdown",
      "source": [
        "Problem Description\n",
        "\n",
        "Write a program to determine if a given number is a multiple by 5.\n",
        "\n",
        "If the number is divisible by 5, print multiple of 5.\n",
        "Otherwise, print not a multiple of 5.\n",
        "Hint: You need to use the % operator."
      ],
      "metadata": {
        "id": "I6ZDs9DH5w52"
      }
    },
    {
      "cell_type": "code",
      "source": [
        "# Get integer input\n",
        "number = int(input(\"Enter an integer: \"))\n",
        "if number % 5 == 0:\n",
        "    print(\"multiple of 5\")\n",
        "else:\n",
        "    print(\"not a multiple of 5\")"
      ],
      "metadata": {
        "colab": {
          "base_uri": "https://localhost:8080/"
        },
        "id": "OBluJ63I5y2J",
        "outputId": "8a08ebe2-4fc5-4c0b-bfc4-21496b216bb1"
      },
      "execution_count": null,
      "outputs": [
        {
          "output_type": "stream",
          "name": "stdout",
          "text": [
            "Enter an integer: 50\n",
            "multiple of 5\n"
          ]
        }
      ]
    },
    {
      "cell_type": "code",
      "source": [
        "weather = input(\"What's the weather? \")\n",
        "\n",
        "# Check if the weather equals to \"raining\"?\n",
        "if weather == \"raining\":\n",
        "    print(\"Carry an umbrella.\")\n",
        "else:\n",
        "    print(\"Enjoy the day.\")"
      ],
      "metadata": {
        "colab": {
          "base_uri": "https://localhost:8080/"
        },
        "id": "_MCLE6996MU1",
        "outputId": "f64d7829-0aa7-48f7-f5b7-fb073262e54a"
      },
      "execution_count": null,
      "outputs": [
        {
          "output_type": "stream",
          "name": "stdout",
          "text": [
            "What's the weather? raining\n",
            "Carry an umbrella.\n"
          ]
        }
      ]
    },
    {
      "cell_type": "markdown",
      "source": [
        "Problem Description\n",
        "\n",
        "Write a program to greet the user based on the country.\n",
        "\n",
        "Take input and store it in the country variable.\n",
        "If the country is \"france\" (case should match), display Bonjour.\n",
        "If the user enters any other country, display Hello."
      ],
      "metadata": {
        "id": "sRyoVcGX6UER"
      }
    },
    {
      "cell_type": "code",
      "source": [
        "# Get input\n",
        "country = input(\"Enter country: \")\n",
        "if country ==\"france\":\n",
        "    print(\"Bonjour\")\n",
        "else:\n",
        "    print(\"Hello\")"
      ],
      "metadata": {
        "colab": {
          "base_uri": "https://localhost:8080/"
        },
        "id": "gn1Dt3_w6VtB",
        "outputId": "bcc734bc-0183-4623-fb7e-7e090498364d"
      },
      "execution_count": null,
      "outputs": [
        {
          "output_type": "stream",
          "name": "stdout",
          "text": [
            "Enter country: dfj\n",
            "Hello\n"
          ]
        }
      ]
    },
    {
      "cell_type": "markdown",
      "source": [
        "# **The elif Clause**"
      ],
      "metadata": {
        "id": "066fMHcz6ntl"
      }
    },
    {
      "cell_type": "code",
      "source": [
        "if condition1:\n",
        "    # Runs if condition1 is True\n",
        "elif condition2:\n",
        "    # Runs if condition2 is True\n",
        "else:\n",
        "    # Runs if neither condition is True"
      ],
      "metadata": {
        "id": "PBMVk3kz6tB-"
      },
      "execution_count": null,
      "outputs": []
    },
    {
      "cell_type": "code",
      "source": [
        "weather = input(\"What's the weather? \")\n",
        "\n",
        "# Check if weather is equal to \"raining\"?\n",
        "if weather == \"raining\":\n",
        "    print(\"Carry an umbrella.\")\n",
        "\n",
        "# Check if weather is equal to \"sunny\"?\n",
        "elif weather == \"sunny\":\n",
        "    print(\"Wear sunglasses.\")\n",
        "\n",
        "else:\n",
        "    print(\"Enjoy the day.\")"
      ],
      "metadata": {
        "colab": {
          "base_uri": "https://localhost:8080/"
        },
        "id": "cbGw-FAo66I3",
        "outputId": "4e7f280c-5693-413e-ccb1-782b830fd7d2"
      },
      "execution_count": null,
      "outputs": [
        {
          "output_type": "stream",
          "name": "stdout",
          "text": [
            "What's the weather? raining\n",
            "Carry an umbrella.\n"
          ]
        }
      ]
    },
    {
      "cell_type": "code",
      "source": [
        "#grading system\n",
        "score = int(input(\"Enter the student's score: \"))\n",
        "\n",
        "if score > 90:\n",
        "    print(\"Grade: A\")\n",
        "\n",
        "elif score > 80:\n",
        "    print(\"Grade: B\")\n",
        "\n",
        "elif score > 60:\n",
        "    print(\"Grade: C\")\n",
        "\n",
        "else:\n",
        "    print(\"Grade: D\")\n",
        "\n",
        "print(\"Thank you for using the grading system.\")"
      ],
      "metadata": {
        "colab": {
          "base_uri": "https://localhost:8080/"
        },
        "id": "LK1tu74r7D8j",
        "outputId": "ec6e0ebe-cb4c-4d52-c8e8-05f2f7cc3d4d"
      },
      "execution_count": null,
      "outputs": [
        {
          "output_type": "stream",
          "name": "stdout",
          "text": [
            "Enter the student's score: 90\n",
            "Grade: B\n",
            "Thank you for using the grading system.\n"
          ]
        }
      ]
    },
    {
      "cell_type": "code",
      "source": [
        "# Get integer input\n",
        "number = int(input(\"Enter an integer: \"))\n",
        "if number > 0:\n",
        "    print(\"positive\")\n",
        "elif number < 0:\n",
        "    print(\"negative\")\n",
        "else:\n",
        "    print(\"zero\")"
      ],
      "metadata": {
        "colab": {
          "base_uri": "https://localhost:8080/"
        },
        "id": "Y4t0GCxY7h8J",
        "outputId": "369d89b6-1050-4c1c-c85f-a0295fb1b5d2"
      },
      "execution_count": null,
      "outputs": [
        {
          "output_type": "stream",
          "name": "stdout",
          "text": [
            "Enter an integer: 50\n",
            "positive\n"
          ]
        }
      ]
    },
    {
      "cell_type": "code",
      "source": [
        "# Input: Get the total purchase amount\n",
        "total = float(input(\"Enter the total purchase amount: \"))\n",
        "discount_percent = 10\n",
        "\n",
        "# Check if the total is greater than $100\n",
        "if total > 100:\n",
        "\n",
        "    # Amount above $100\n",
        "    excess = total - 100\n",
        "\n",
        "    # Discount on the excess\n",
        "    discount = (discount_percent / 100) * excess\n",
        "\n",
        "    # Update the total amount\n",
        "    total = total - discount\n",
        "\n",
        "print(f\"The final amount to pay is: ${total}\")"
      ],
      "metadata": {
        "colab": {
          "base_uri": "https://localhost:8080/"
        },
        "id": "XZEgVXXP7plu",
        "outputId": "4965cb97-5764-455e-f963-4c1a98438ecc"
      },
      "execution_count": null,
      "outputs": [
        {
          "output_type": "stream",
          "name": "stdout",
          "text": [
            "Enter the total purchase amount: 500\n",
            "The final amount to pay is: $460.0\n"
          ]
        }
      ]
    },
    {
      "cell_type": "markdown",
      "source": [
        "# **Defining Variables Inside If...else**"
      ],
      "metadata": {
        "id": "WZrwtTtC7zfP"
      }
    },
    {
      "cell_type": "code",
      "source": [
        "score = int(input(\"Enter the score: \"))\n",
        "\n",
        "if score > 50:\n",
        "    result = \"Pass\"\n",
        "\n",
        "print(result)\n"
      ],
      "metadata": {
        "colab": {
          "base_uri": "https://localhost:8080/"
        },
        "id": "j07JnCx7759M",
        "outputId": "7f895dc8-b996-4ef3-fbdd-71e9dee3fd4e"
      },
      "execution_count": null,
      "outputs": [
        {
          "output_type": "stream",
          "name": "stdout",
          "text": [
            "Enter the score: 500\n",
            "Pass\n"
          ]
        }
      ]
    },
    {
      "cell_type": "code",
      "source": [
        "#Ensuring Variable Initialization\n",
        "#Solution 1: Using the else block.\n",
        "\n",
        "score = int(input(\"Enter the score: \"))\n",
        "\n",
        "if score > 50:\n",
        "    result = \"Pass\"\n",
        "else:\n",
        "    result = \"Fail\"\n",
        "\n",
        "print(result)\n",
        "#Solution 2: Defining Variable before the if statement.\n",
        "\n",
        "score = int(input(\"Enter the score: \"))\n",
        "\n",
        "result = \"Fail\"\n",
        "\n",
        "if score > 50:\n",
        "    result = \"Pass\"\n",
        "\n",
        "print(result)\n",
        "\n",
        "#Using True and False Directly\n",
        "if True:\n",
        "    print(\"Hello\")\n",
        "else:\n",
        "    print(\"Hi\")"
      ],
      "metadata": {
        "colab": {
          "base_uri": "https://localhost:8080/"
        },
        "id": "hmKDtPoI8DL_",
        "outputId": "734f1665-d3df-4943-d0fb-1e5a313907d8"
      },
      "execution_count": null,
      "outputs": [
        {
          "output_type": "stream",
          "name": "stdout",
          "text": [
            "Enter the score: 50\n",
            "Fail\n",
            "Enter the score: 60\n",
            "Pass\n"
          ]
        }
      ]
    },
    {
      "cell_type": "markdown",
      "source": [
        "Common Errors Due to Wrong Indentation"
      ],
      "metadata": {
        "id": "8zPUNBEJ8c3X"
      }
    },
    {
      "cell_type": "code",
      "source": [
        "\n",
        "# 1. Wrong Indentation (I)\n",
        "\n",
        "traffic_signal = \"green\"\n",
        "\n",
        "if traffic_signal == \"red\":\n",
        "print(\"Stop the vehicle.\")\n",
        "print(\"Have a good day!\")\n",
        "\n",
        "# Output - IndentationError: expected an indented block after 'if' statement on line 3\n",
        "\n",
        "# 2. Wrong Indentation (II)\n",
        "traffic_signal = \"green\"\n",
        "\n",
        "if traffic_signal == \"red\":\n",
        "    print(\"Stop the vehicle.\")\n",
        "  print(\"Have a good day!\")\n",
        "\n",
        "# Output -IndentationError: unindent does not match any outer indentation level\n",
        "\n",
        "# 3. Wrong Indentation in the else clause\n",
        "age = 20\n",
        "\n",
        "if age >= 18:\n",
        "    print(\"You can vote.\")\n",
        "    else:\n",
        "    print(\"You cannot vote.\")\n",
        "\n",
        "# Output - SyntaxError: invalid syntax"
      ],
      "metadata": {
        "id": "qff7uMin8zDl"
      },
      "execution_count": null,
      "outputs": []
    },
    {
      "cell_type": "markdown",
      "source": [
        "# **Logical Operators**\n",
        "\n",
        "**and , or , not**"
      ],
      "metadata": {
        "id": "gNGjL7tR9FBK"
      }
    },
    {
      "cell_type": "code",
      "source": [
        "# User input\n",
        "credit_score = int(input(\"Credit score? \"))\n",
        "stable_income = input(\"Stable income (yes/no)? \")\n",
        "\n",
        "# Check eligibility\n",
        "if (credit_score >= 700) and (stable_income == \"yes\"):\n",
        "    print(\"You are eligible for a loan.\")\n",
        "else:\n",
        "    print(\"You are not eligible for a loan.\")"
      ],
      "metadata": {
        "colab": {
          "base_uri": "https://localhost:8080/"
        },
        "id": "DriUXPQ-9XKA",
        "outputId": "c4f3ea77-27b7-4f13-a321-f38a7e996082"
      },
      "execution_count": null,
      "outputs": [
        {
          "output_type": "stream",
          "name": "stdout",
          "text": [
            "Credit score? 5000\n",
            "Stable income (yes/no)? 2500\n",
            "You are not eligible for a loan.\n"
          ]
        }
      ]
    },
    {
      "cell_type": "code",
      "source": [
        "# Largest of three numbers\n",
        "# User input\n",
        "n1 = int(input(\"Enter the first number: \"))\n",
        "n2 = int(input(\"Enter the second number: \"))\n",
        "n3 = int(input(\"Enter the third number: \"))\n",
        "\n",
        "# Check if n1 is the largest?\n",
        "if (n1 >= n2) and (n1 >= n3):\n",
        "    largest = n1\n",
        "\n",
        "# Check if n2 is the largest?\n",
        "elif (n2 >= n1) and (n2 >= n3):\n",
        "    largest = n2\n",
        "else:\n",
        "    largest = n3\n",
        "\n",
        "print(\"The largest number is:\", largest)"
      ],
      "metadata": {
        "colab": {
          "base_uri": "https://localhost:8080/"
        },
        "id": "ZDLBRSzr9jwm",
        "outputId": "328d61ab-7485-485b-cd5d-a8d175e08512"
      },
      "execution_count": null,
      "outputs": [
        {
          "output_type": "stream",
          "name": "stdout",
          "text": [
            "Enter the first number: 50\n",
            "Enter the second number: 60\n",
            "Enter the third number: 10\n",
            "The largest number is: 60\n"
          ]
        }
      ]
    },
    {
      "cell_type": "code",
      "source": [
        "#smallest among 3 numbers\n",
        "# Take user input\n",
        "n1 = int(input(\"Enter the first number: \"))\n",
        "n2 = int(input(\"Enter the second number: \"))\n",
        "n3 = int(input(\"Enter the third number: \"))\n",
        "\n",
        "# Check if n1 is the smallest?\n",
        "if (n1 <= n2) and (n1 <= n3):\n",
        "    smallest = n1\n",
        "\n",
        "# Check if n2 is the largest?\n",
        "elif (n2 <= n1) and (n2 <= n3):\n",
        "    smallest = n2\n",
        "else:\n",
        "    smallest = n3\n",
        "\n",
        "print(smallest)"
      ],
      "metadata": {
        "colab": {
          "base_uri": "https://localhost:8080/"
        },
        "id": "HAQvgj1C-LeR",
        "outputId": "2d6a1f7e-b2d6-4a3e-855c-50f7b43da0ca"
      },
      "execution_count": null,
      "outputs": [
        {
          "output_type": "stream",
          "name": "stdout",
          "text": [
            "Enter the first number: 10\n",
            "Enter the second number: 20\n",
            "Enter the third number: 30\n",
            "10\n"
          ]
        }
      ]
    },
    {
      "cell_type": "code",
      "source": [
        "# Take user input\n",
        "amount = float(input(\"Purchase amount? \"))\n",
        "is_member = input(\"Member (yes/no)? \")\n",
        "\n",
        "# Check if eligible for discount\n",
        "if (amount > 100) or (is_member == \"yes\"):\n",
        "    print(\"You are eligible for a discount.\")\n",
        "\n",
        "else:\n",
        "    print(\"You are not eligible for a discount.\")"
      ],
      "metadata": {
        "colab": {
          "base_uri": "https://localhost:8080/"
        },
        "id": "b9qqns2I-SOr",
        "outputId": "1e6f8670-294b-410d-882c-79c3a109069a"
      },
      "execution_count": null,
      "outputs": [
        {
          "output_type": "stream",
          "name": "stdout",
          "text": [
            "Purchase amount? 400\n",
            "Member (yes/no)? yes\n",
            "You are eligible for a discount.\n"
          ]
        }
      ]
    },
    {
      "cell_type": "code",
      "source": [
        "# Take user input\n",
        "gpa = float(input(\"Enter your GPA: \"))\n",
        "sat_score = int(input(\"Enter your SAT score: \"))\n",
        "\n",
        "if gpa >= 3.5 or sat_score >=1200:\n",
        "    print(\"eligible\")\n",
        "else:\n",
        "    print(\"not eligible\")"
      ],
      "metadata": {
        "colab": {
          "base_uri": "https://localhost:8080/"
        },
        "id": "-WTztyhY-tzN",
        "outputId": "1aef4fb7-11aa-464a-fe52-1048e67fa879"
      },
      "execution_count": null,
      "outputs": [
        {
          "output_type": "stream",
          "name": "stdout",
          "text": [
            "Enter your GPA: 3.6\n",
            "Enter your SAT score: 50\n",
            "eligible\n"
          ]
        }
      ]
    },
    {
      "cell_type": "code",
      "source": [
        "# not\n",
        "\n",
        "is_raining = True\n",
        "print(is_raining)    # True\n",
        "print(not is_raining)      # False"
      ],
      "metadata": {
        "id": "ImD5UJGW_CX3"
      },
      "execution_count": null,
      "outputs": []
    },
    {
      "cell_type": "code",
      "source": [
        "is_raining = True\n",
        "\n",
        "if not is_raining:\n",
        "   print(\"You don't need to bring an umbrella\")\n",
        "else:\n",
        "   print(\"Please bring an umbrella\")"
      ],
      "metadata": {
        "colab": {
          "base_uri": "https://localhost:8080/"
        },
        "id": "P4mIcnYu_GzC",
        "outputId": "8cd0bc73-ae97-43e6-aa8a-79a4c6ca91c1"
      },
      "execution_count": null,
      "outputs": [
        {
          "output_type": "stream",
          "name": "stdout",
          "text": [
            "Please bring an umbrella\n"
          ]
        }
      ]
    },
    {
      "cell_type": "markdown",
      "source": [
        "# **While Loop**"
      ],
      "metadata": {
        "id": "xyUok6Tu_TPI"
      }
    },
    {
      "cell_type": "code",
      "source": [
        "while condition:\n",
        "    statement(s)"
      ],
      "metadata": {
        "id": "TbNpJux62Kx-"
      },
      "execution_count": null,
      "outputs": []
    },
    {
      "cell_type": "code",
      "source": [
        "#infinite loop\n",
        "count = 1\n",
        "\n",
        "# Loop continues as long as count is 3 or less\n",
        "while count <= 3:\n",
        "    print(\"I am inside a loop.\")\n",
        "    print(\"Looping is interesting.\")\n",
        ""
      ],
      "metadata": {
        "id": "PkxFn_4K23P2"
      },
      "execution_count": null,
      "outputs": []
    },
    {
      "cell_type": "code",
      "source": [
        "#infinite loop\n",
        "while True:\n",
        "    print(\"I am inside a loop.\")\n",
        "    print(\"Looping is interesting.\")"
      ],
      "metadata": {
        "id": "7xiUPCwk3DVR"
      },
      "execution_count": null,
      "outputs": []
    },
    {
      "cell_type": "code",
      "source": [
        "#corrected infinite loop\n",
        "count = 1\n",
        "\n",
        "# Loop continues as long as count is 3 or less\n",
        "while count <= 3:\n",
        "    print(\"I am inside a loop.\")\n",
        "    print(\"Looping is interesting.\")\n",
        "\n",
        "    # Increment count by 1 in each iteration\n",
        "    count = count + 1\n",
        "\n",
        "print(\"OUTSIDE THE LOOP\")"
      ],
      "metadata": {
        "colab": {
          "base_uri": "https://localhost:8080/"
        },
        "id": "2QcSVbPm3Qa9",
        "outputId": "65481421-96a1-4def-9555-04d7fbe06675"
      },
      "execution_count": 1,
      "outputs": [
        {
          "output_type": "stream",
          "name": "stdout",
          "text": [
            "I am inside a loop.\n",
            "Looping is interesting.\n",
            "I am inside a loop.\n",
            "Looping is interesting.\n",
            "I am inside a loop.\n",
            "Looping is interesting.\n",
            "OUTSIDE THE LOOP\n"
          ]
        }
      ]
    },
    {
      "cell_type": "code",
      "source": [
        "#Print Multiple Times with while Loop\n",
        "# Take integer input\n",
        "n = int(input(\"Times to print 'Python': \"))\n",
        "i = 1\n",
        "\n",
        "# Loop until i is less than or equal to n\n",
        "while i <= n:\n",
        "    print(\"Python\")\n",
        "    i = i + 1"
      ],
      "metadata": {
        "colab": {
          "base_uri": "https://localhost:8080/"
        },
        "id": "BapuneT73_hO",
        "outputId": "32aae290-2390-46df-f1aa-c44a06e80a20"
      },
      "execution_count": 3,
      "outputs": [
        {
          "output_type": "stream",
          "name": "stdout",
          "text": [
            "Times to print 'Python': 5\n",
            "Python\n",
            "Python\n",
            "Python\n",
            "Python\n",
            "Python\n"
          ]
        }
      ]
    },
    {
      "cell_type": "markdown",
      "source": [
        "Write a program to print numbers from n to 1 using a while loop.\n",
        "\n",
        "Get an integer input from the user and store it in variable n.\n",
        "Use a while loop to print values from n to 1.\n",
        "Assumption: The user will always enter a positive integer."
      ],
      "metadata": {
        "id": "bVloJLHe5TVj"
      }
    },
    {
      "cell_type": "code",
      "source": [
        "# Get integer input\n",
        "n = int(input(\"Enter the value of n: \"))\n",
        "while n>=1:\n",
        "    print(n);\n",
        "    n=n-1;"
      ],
      "metadata": {
        "colab": {
          "base_uri": "https://localhost:8080/"
        },
        "id": "etXE0px65Xbq",
        "outputId": "7559f744-8617-4379-b0a2-bb34f605157d"
      },
      "execution_count": 4,
      "outputs": [
        {
          "output_type": "stream",
          "name": "stdout",
          "text": [
            "Enter the value of n: 2\n",
            "2\n",
            "1\n"
          ]
        }
      ]
    },
    {
      "cell_type": "markdown",
      "source": [
        "Problem Description\n",
        "Write a program to simulate a rocket launch countdown.\n",
        "\n",
        "The program should display the countdown timer alongside the seconds elapsed at each step.\n",
        "\n",
        "Write a program that:\n",
        "\n",
        "Take the starting countdown value (in seconds) as input.\n",
        "Use a while loop to display the remaining countdown time and elapsed time at each step. The loop should terminate when countdown becomes less than 0.\n",
        "Print a separator (---) after every update for better readability.\n",
        "End the program with the message: \"Liftoff!\".\n",
        "Hint: You need to update both the countdown and elapsed variables inside the loop."
      ],
      "metadata": {
        "id": "oNSz3_nZ5-J7"
      }
    },
    {
      "cell_type": "code",
      "source": [
        "\n",
        "# Take integer input\n",
        "countdown = int(input(\"Enter starting countdown number: \"))\n",
        "\n",
        "elapsed = 0\n",
        "\n",
        "while countdown>=0:\n",
        "    print(f\"Time left: {countdown} seconds\")\n",
        "    print(f\"Elapsed: {elapsed} seconds\")\n",
        "    print(\"---\")\n",
        "    countdown -= 1\n",
        "    elapsed += 1\n",
        "\n",
        "# Print the \"Liftoff!\" message\n",
        "print(\"Liftoff!\");\n"
      ],
      "metadata": {
        "colab": {
          "base_uri": "https://localhost:8080/"
        },
        "id": "SSdnpM-56anD",
        "outputId": "c59ddd82-3c42-4868-cc0e-5db2786055c7"
      },
      "execution_count": 5,
      "outputs": [
        {
          "output_type": "stream",
          "name": "stdout",
          "text": [
            "Enter starting countdown number: 5\n",
            "Time left: 5 seconds\n",
            "Elapsed: 0 seconds\n",
            "---\n",
            "Time left: 4 seconds\n",
            "Elapsed: 1 seconds\n",
            "---\n",
            "Time left: 3 seconds\n",
            "Elapsed: 2 seconds\n",
            "---\n",
            "Time left: 2 seconds\n",
            "Elapsed: 3 seconds\n",
            "---\n",
            "Time left: 1 seconds\n",
            "Elapsed: 4 seconds\n",
            "---\n",
            "Time left: 0 seconds\n",
            "Elapsed: 5 seconds\n",
            "---\n",
            "Liftoff!\n"
          ]
        }
      ]
    },
    {
      "cell_type": "code",
      "source": [
        "# Complete program\n",
        "\n",
        "n = int(input(\"Enter a number: \"))\n",
        "\n",
        "while n != 0:\n",
        "   print(n)\n",
        "   n = int(input(\"Enter a number: \"))"
      ],
      "metadata": {
        "colab": {
          "base_uri": "https://localhost:8080/"
        },
        "id": "S6o1Y5Ff6sIi",
        "outputId": "164071a2-1be4-48ba-da54-d5338e5b71d3"
      },
      "execution_count": 6,
      "outputs": [
        {
          "name": "stdout",
          "output_type": "stream",
          "text": [
            "Enter a number: 5\n",
            "5\n",
            "Enter a number: 4\n",
            "4\n",
            "Enter a number: 6\n",
            "6\n",
            "Enter a number: 1\n",
            "1\n",
            "Enter a number: 2\n",
            "2\n",
            "Enter a number: 0\n"
          ]
        }
      ]
    },
    {
      "cell_type": "code",
      "source": [
        "#sum\n",
        "# Take user input\n",
        "n = int(input(\"Enter a number: \"))\n",
        "\n",
        "# Loop as long as number is not 0\n",
        "while n != 0:\n",
        "\n",
        "    # The initial value of total will be 0\n",
        "    total = 0\n",
        "\n",
        "    # Add the value of n to total\n",
        "    total = total + n\n",
        "\n",
        "    # Take the input again\n",
        "    n = int(input(\"Enter a number: \"))\n",
        "\n",
        "# Display the total\n",
        "print(f\"Total: {total}\")"
      ],
      "metadata": {
        "colab": {
          "base_uri": "https://localhost:8080/"
        },
        "id": "ljzMVQYA6zxn",
        "outputId": "724ce483-9ed8-484e-b6c5-6f981b76afdb"
      },
      "execution_count": 7,
      "outputs": [
        {
          "output_type": "stream",
          "name": "stdout",
          "text": [
            "Enter a number: 10\n",
            "Enter a number: 20\n",
            "Enter a number: 0\n",
            "Total: 20\n"
          ]
        }
      ]
    },
    {
      "cell_type": "markdown",
      "source": [
        "Problem Description\n",
        "Write a program to calculate the sum of positive numbers entered by the user.\n",
        "\n",
        "The program should accept input as long as the user enters positive numbers.\n",
        "If the user enters a negative number or zero, the loop should terminate.\n",
        "Don't include the final number (0 or negative number)."
      ],
      "metadata": {
        "id": "vaGfg9HQ7axr"
      }
    },
    {
      "cell_type": "code",
      "source": [
        "# Initialize sum to 0\n",
        "total_sum = 0.0\n",
        "\n",
        "# Loop to accept input\n",
        "while True:\n",
        "    number = float(input(\"Enter a number: \"))\n",
        "\n",
        "    if number < 0:  # If the number is negative, exit the loop\n",
        "        break\n",
        "\n",
        "    total_sum += number  # Add the positive number to the total sum\n",
        "\n",
        "# Output the sum of positive numbers\n",
        "print(f\"The sum of positive numbers is: {total_sum}\")\n"
      ],
      "metadata": {
        "colab": {
          "base_uri": "https://localhost:8080/"
        },
        "id": "yFTLkM5z8Ujy",
        "outputId": "e616c341-8501-45f9-eae6-edcef3a93fe3"
      },
      "execution_count": 8,
      "outputs": [
        {
          "output_type": "stream",
          "name": "stdout",
          "text": [
            "Enter a number: 5\n",
            "Enter a number: 5\n",
            "Enter a number: -5\n",
            "The sum of positive numbers is: 10.0\n"
          ]
        }
      ]
    },
    {
      "cell_type": "code",
      "source": [
        "#another method\n",
        "# Take user input\n",
        "n = float(input())  # Accept input without prompt\n",
        "\n",
        "# Initialize total as 0\n",
        "total = 0\n",
        "\n",
        "# Loop as long as the number is positive\n",
        "while n > 0:  # Continue loop as long as n is positive\n",
        "\n",
        "    # Add the value of n to total\n",
        "    total += n\n",
        "\n",
        "    # Take the input again\n",
        "    n = float(input())  # Accept next input\n",
        "\n",
        "# Display the total\n",
        "print(total)\n"
      ],
      "metadata": {
        "colab": {
          "base_uri": "https://localhost:8080/"
        },
        "id": "fVaI1QdL9mcO",
        "outputId": "64618f69-54d8-4dc5-e42d-aa1df53325d9"
      },
      "execution_count": 9,
      "outputs": [
        {
          "output_type": "stream",
          "name": "stdout",
          "text": [
            "5\n",
            "10\n",
            "2\n",
            "0\n",
            "17.0\n"
          ]
        }
      ]
    }
  ]
}