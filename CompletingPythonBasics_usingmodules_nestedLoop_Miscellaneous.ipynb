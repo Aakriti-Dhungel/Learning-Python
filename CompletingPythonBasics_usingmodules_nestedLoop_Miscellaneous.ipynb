{
  "nbformat": 4,
  "nbformat_minor": 0,
  "metadata": {
    "colab": {
      "provenance": [],
      "authorship_tag": "ABX9TyNgwMQB67wbuU9TJ9dG9WcS"
    },
    "kernelspec": {
      "name": "python3",
      "display_name": "Python 3"
    },
    "language_info": {
      "name": "python"
    }
  },
  "cells": [
    {
      "cell_type": "markdown",
      "source": [
        "# **Modules Introduction**"
      ],
      "metadata": {
        "id": "dZl-ShwWaT0y"
      }
    },
    {
      "cell_type": "markdown",
      "source": [
        "# built-in functions such as sum(), max(), len(), etc.\n",
        "\n",
        "# using a module provides more functions that we can use in our program."
      ],
      "metadata": {
        "id": "1HysZ1SSair1"
      }
    },
    {
      "cell_type": "markdown",
      "source": [
        "# what is a module?\n",
        "\n",
        "A module is a file containing a set of functions that we might want to use in our application. Once we import a module, we can use all the functions defined inside that module."
      ],
      "metadata": {
        "id": "aOV6TwLOaqcX"
      }
    },
    {
      "cell_type": "markdown",
      "source": [
        "# Why modules?\n",
        "\n",
        "You might have heard that Python is used for data analytics, web development, automation, etc.\n",
        "\n",
        "To solve these tasks, we take the help of modules rather than writing code from scratch.\n",
        "\n",
        "For example, if we need to perform tasks related to\n",
        "\n",
        "data analytics, we will use modules such as NumPy, pandas, etc.\n",
        "web development, we will use modules such as Django, Flask, etc.\n",
        "csv files, we will use modules such as csv, pandas, etc."
      ],
      "metadata": {
        "id": "ekm2uAw_a5DA"
      }
    },
    {
      "cell_type": "markdown",
      "source": [
        "# Importing Modules\n",
        "## import math\n"
      ],
      "metadata": {
        "id": "0T2c8XDjbBFr"
      }
    },
    {
      "cell_type": "code",
      "source": [
        "import math\n",
        "\n",
        "number = 25\n",
        "\n",
        "# compute square root\n",
        "result = math.sqrt(number)\n",
        "\n",
        "print(result)   # 5.0"
      ],
      "metadata": {
        "colab": {
          "base_uri": "https://localhost:8080/"
        },
        "id": "2146SNbqbIiP",
        "outputId": "6ad66c1e-9c71-4248-ad38-fbf71dfe9d71"
      },
      "execution_count": null,
      "outputs": [
        {
          "output_type": "stream",
          "name": "stdout",
          "text": [
            "5.0\n"
          ]
        }
      ]
    },
    {
      "cell_type": "code",
      "source": [
        "import math\n",
        "\n",
        "number = 3.6\n",
        "\n",
        "# round a number down to the nearest integer\n",
        "result = math.floor(number)\n",
        "\n",
        "print(result)   # 3"
      ],
      "metadata": {
        "colab": {
          "base_uri": "https://localhost:8080/"
        },
        "id": "T2qywethbZZX",
        "outputId": "a8fe9668-8f1c-45f4-b15a-eeb59c28ef40"
      },
      "execution_count": null,
      "outputs": [
        {
          "output_type": "stream",
          "name": "stdout",
          "text": [
            "3\n"
          ]
        }
      ]
    },
    {
      "cell_type": "markdown",
      "source": [
        "There are many other useful functions defined inside the math module such as sin(), cos(), log(), etc."
      ],
      "metadata": {
        "id": "Gu9CbnK1beVD"
      }
    },
    {
      "cell_type": "code",
      "source": [
        "# What happens when you import the same module twice?\n",
        "\n",
        "import math\n",
        "import math\n",
        "\n",
        "result = math.sqrt(9)\n",
        "print(result)"
      ],
      "metadata": {
        "colab": {
          "base_uri": "https://localhost:8080/"
        },
        "id": "uFn6sf0vbrHV",
        "outputId": "1cbb7669-ecd9-4189-d6c5-ec9ac073d573"
      },
      "execution_count": null,
      "outputs": [
        {
          "output_type": "stream",
          "name": "stdout",
          "text": [
            "3.0\n"
          ]
        }
      ]
    },
    {
      "cell_type": "markdown",
      "source": [
        "# Renaming Modules\n"
      ],
      "metadata": {
        "id": "fpCB2vRubvFR"
      }
    },
    {
      "cell_type": "code",
      "source": [
        "import math as m\n",
        "\n",
        "number = 25\n",
        "\n",
        "# compute square root\n",
        "result = m.sqrt(number)\n",
        "\n",
        "print(result)   # 5.0"
      ],
      "metadata": {
        "colab": {
          "base_uri": "https://localhost:8080/"
        },
        "id": "k93iRPR6byJy",
        "outputId": "f61ba6a0-95e3-4ff8-ef0f-9e03192e0408"
      },
      "execution_count": null,
      "outputs": [
        {
          "output_type": "stream",
          "name": "stdout",
          "text": [
            "5.0\n"
          ]
        }
      ]
    },
    {
      "cell_type": "markdown",
      "source": [
        "#### Note: If we use math.sqrt() instead of m.sqrt() in the above code, we will get an error.\n"
      ],
      "metadata": {
        "id": "aZjLkSGXb3K8"
      }
    },
    {
      "cell_type": "markdown",
      "source": [
        "# from...import Statement\n"
      ],
      "metadata": {
        "id": "TAMYAPcJb8Dk"
      }
    },
    {
      "cell_type": "code",
      "source": [
        "from math import sqrt, floor\n",
        "\n",
        "number = 25\n",
        "\n",
        "# compute square root\n",
        "result = sqrt(number)\n",
        "\n",
        "print(result)   # 5.0"
      ],
      "metadata": {
        "colab": {
          "base_uri": "https://localhost:8080/"
        },
        "id": "BPOfW3IscCcb",
        "outputId": "8865d684-faa8-443f-f00f-d97508163ddd"
      },
      "execution_count": null,
      "outputs": [
        {
          "output_type": "stream",
          "name": "stdout",
          "text": [
            "5.0\n"
          ]
        }
      ]
    },
    {
      "cell_type": "markdown",
      "source": [
        "#### this statement from math import sqrt, floor imports only two functions — sqrt() and floor() — from the math module.\n",
        "\n",
        "Note: If we use math.sqrt() in the above example, we will get an error because only two functions sqrt() and floor() are imported; math is not imported.\n"
      ],
      "metadata": {
        "id": "Y4xWBwcDcIx8"
      }
    },
    {
      "cell_type": "markdown",
      "source": [
        "# Calculate GCD using Modules\n",
        "Problem Description\n",
        "\n",
        "Write a program to find the greater common divisor of two numbers using the gcd() function defined inside the math module.\n",
        "\n",
        "Import the math module.\n",
        "Get two integer inputs from the user.\n",
        "Call the gcd() function with two numbers as arguments. The function returns the greatest common divisor.\n",
        "Print the result."
      ],
      "metadata": {
        "id": "lBYYrh4gcoij"
      }
    },
    {
      "cell_type": "code",
      "source": [
        "# import the math module\n",
        "import math\n",
        "\n",
        "# get two integer inputs\n",
        "n1 = int(input())\n",
        "n2 = int(input())\n",
        "\n",
        "# compute gcd\n",
        "# call the gcd() function defined in the math module\n",
        "# use n1 and n2 as arguments\n",
        "result = math.gcd(n1,n2)\n",
        "\n",
        "# print the result\n",
        "print(result)"
      ],
      "metadata": {
        "colab": {
          "base_uri": "https://localhost:8080/"
        },
        "id": "6DKzyRk5cutn",
        "outputId": "cdd6f3c6-7694-41ed-8dac-0535eb0ff98c"
      },
      "execution_count": null,
      "outputs": [
        {
          "output_type": "stream",
          "name": "stdout",
          "text": [
            "10\n",
            "50\n",
            "10\n"
          ]
        }
      ]
    },
    {
      "cell_type": "markdown",
      "source": [
        "# Random Module\n",
        "Note: You may get a different result as we are generating a random number."
      ],
      "metadata": {
        "id": "QK7a7VLXc1R2"
      }
    },
    {
      "cell_type": "code",
      "source": [
        "import random\n",
        "\n",
        "# random number between 1 and 100 (both inclusive)\n",
        "random_number = random.randint(1, 100)\n",
        "\n",
        "print(random_number)"
      ],
      "metadata": {
        "colab": {
          "base_uri": "https://localhost:8080/"
        },
        "id": "c4RrC0twc4ro",
        "outputId": "b2316348-3bfd-4975-a304-59883178d722"
      },
      "execution_count": null,
      "outputs": [
        {
          "output_type": "stream",
          "name": "stdout",
          "text": [
            "30\n"
          ]
        }
      ]
    },
    {
      "cell_type": "markdown",
      "source": [
        "# **Nested Loops**\n",
        "It's possible to put a loop inside another loop. This is known as a nested loop.\n",
        "\n"
      ],
      "metadata": {
        "id": "ZXtOWYPBdf4S"
      }
    },
    {
      "cell_type": "code",
      "source": [
        "attributes = ['Electric', 'Fast']\n",
        "cars = ['Tesla', 'Porsche', 'Mercedes']\n",
        "\n",
        "for attribute in attributes:\n",
        "    for car in cars:\n",
        "        print(attribute, car)"
      ],
      "metadata": {
        "colab": {
          "base_uri": "https://localhost:8080/"
        },
        "id": "AA0mV2p4drjl",
        "outputId": "5c67ea4c-a006-402f-e286-4ed4e6b0a439"
      },
      "execution_count": null,
      "outputs": [
        {
          "output_type": "stream",
          "name": "stdout",
          "text": [
            "Electric Tesla\n",
            "Electric Porsche\n",
            "Electric Mercedes\n",
            "Fast Tesla\n",
            "Fast Porsche\n",
            "Fast Mercedes\n"
          ]
        }
      ]
    },
    {
      "cell_type": "code",
      "source": [
        "# Slightly modify\n",
        "attributes = ['Electric', 'Fast']\n",
        "cars = ['Tesla', 'Porsche', 'Mercedes']\n",
        "\n",
        "for attribute in attributes:\n",
        "\n",
        "    for car in cars:\n",
        "        print(attribute, car)\n",
        "\n",
        "    print(\"----\")"
      ],
      "metadata": {
        "colab": {
          "base_uri": "https://localhost:8080/"
        },
        "id": "1A-p19U7dxZN",
        "outputId": "28c5f097-9595-473d-f52a-edd159d980d1"
      },
      "execution_count": null,
      "outputs": [
        {
          "output_type": "stream",
          "name": "stdout",
          "text": [
            "Electric Tesla\n",
            "Electric Porsche\n",
            "Electric Mercedes\n",
            "----\n",
            "Fast Tesla\n",
            "Fast Porsche\n",
            "Fast Mercedes\n",
            "----\n"
          ]
        }
      ]
    },
    {
      "cell_type": "code",
      "source": [
        "# outer loop iterates from i = 0 to 2\n",
        "for i in range(3):\n",
        "    # inner loop iterates from j = 0 to 1\n",
        "    for j in range(2):\n",
        "        print(f\"i = {i}, j = {j}\")"
      ],
      "metadata": {
        "colab": {
          "base_uri": "https://localhost:8080/"
        },
        "id": "OSgshQM3d_GZ",
        "outputId": "c319e174-2595-4510-c344-3ece1b1385fc"
      },
      "execution_count": null,
      "outputs": [
        {
          "output_type": "stream",
          "name": "stdout",
          "text": [
            "i = 0, j = 0\n",
            "i = 0, j = 1\n",
            "i = 1, j = 0\n",
            "i = 1, j = 1\n",
            "i = 2, j = 0\n",
            "i = 2, j = 1\n"
          ]
        }
      ]
    },
    {
      "cell_type": "code",
      "source": [
        "for i in range(2):\n",
        "    for i in range(1):\n",
        "        print(\"*\")"
      ],
      "metadata": {
        "colab": {
          "base_uri": "https://localhost:8080/"
        },
        "id": "KynsSG9DeM0w",
        "outputId": "2b9b8134-da5b-44b2-da9e-2637fe0f4e6b"
      },
      "execution_count": null,
      "outputs": [
        {
          "output_type": "stream",
          "name": "stdout",
          "text": [
            "*\n",
            "*\n"
          ]
        }
      ]
    },
    {
      "cell_type": "markdown",
      "source": [
        "### Nested Loops\n",
        "\n",
        "Problem Description\n",
        "\n",
        "Take integer input from the user and store it in variable n.\n",
        "Create a nested loop. The outer loop should iterate n times.\n",
        "In each iteration of the outer loop, iterate the inner loop 2 times.\n",
        "Inside the inner loop, print \"*\".\n",
        "\n",
        "Note: We will assume that the user will always enter a positive integer."
      ],
      "metadata": {
        "id": "26C1DCHlegao"
      }
    },
    {
      "cell_type": "code",
      "source": [
        "# get integer input\n",
        "n = int(input())\n",
        "\n",
        "# iterate the outer loop n times\n",
        "for number in range(n):\n",
        "    # iterate the inner loop 2 times\n",
        "    for num in range(2):\n",
        "        # print \"*\"\n",
        "        print('*')"
      ],
      "metadata": {
        "colab": {
          "base_uri": "https://localhost:8080/"
        },
        "id": "vqJL8jo3erIa",
        "outputId": "b408ad4a-ef16-4a49-bb8d-77bc89ba8705"
      },
      "execution_count": null,
      "outputs": [
        {
          "output_type": "stream",
          "name": "stdout",
          "text": [
            "5\n",
            "*\n",
            "*\n",
            "*\n",
            "*\n",
            "*\n",
            "*\n",
            "*\n",
            "*\n",
            "*\n",
            "*\n"
          ]
        }
      ]
    },
    {
      "cell_type": "markdown",
      "source": [
        "#**Miscellaneous**\n",
        "\n",
        "we will learn about four small concepts:\n",
        "\n",
        "Assignment Operators\n",
        "\n",
        "None\n",
        "\n",
        "Truthy and Falsy\n",
        "\n",
        "pass Statement"
      ],
      "metadata": {
        "id": "UWJJDy14gUcU"
      }
    },
    {
      "cell_type": "markdown",
      "source": [
        "####Assignment Operators\n"
      ],
      "metadata": {
        "id": "k5hAiUnUgnEo"
      }
    },
    {
      "cell_type": "code",
      "source": [
        "# assign 3.1415 to the pi variable\n",
        "pi = 3.1415"
      ],
      "metadata": {
        "id": "k8edrWrsgbIY"
      },
      "execution_count": 14,
      "outputs": []
    },
    {
      "cell_type": "markdown",
      "source": [
        "+=\tx += 5\tx = x + 5\n",
        "\n",
        "-=\tx -= 5\tx = x - 5\n",
        "\n",
        "*=\tx *= 5\tx = x * 5\n",
        "\n",
        "/=\tx /= 5\tx = x / 5\n",
        "\n",
        "%=\tx %= 5\tx = x % 5\n",
        "\n",
        "//=\tx //= 5\tx = x // 5\n",
        "\n",
        "**= x **= 5\tx = x ** 5"
      ],
      "metadata": {
        "id": "qz0miS2vgvJD"
      }
    },
    {
      "cell_type": "code",
      "source": [
        "total = 100\n",
        "\n",
        "total += 10   # total = total + 10\n",
        "print(total)\n"
      ],
      "metadata": {
        "colab": {
          "base_uri": "https://localhost:8080/"
        },
        "id": "MoIfgNw2g4vH",
        "outputId": "2bf05ebd-390f-4e61-d031-8b9db93d2cc6"
      },
      "execution_count": 15,
      "outputs": [
        {
          "output_type": "stream",
          "name": "stdout",
          "text": [
            "110\n"
          ]
        }
      ]
    },
    {
      "cell_type": "code",
      "source": [
        "x = 10\n",
        "\n",
        "x //= 4   # x = x // 4\n",
        "print(x)\n"
      ],
      "metadata": {
        "colab": {
          "base_uri": "https://localhost:8080/"
        },
        "id": "SorGZ2-3g8TC",
        "outputId": "01e18807-9959-4c5f-d5ae-ae9683afe25a"
      },
      "execution_count": 16,
      "outputs": [
        {
          "output_type": "stream",
          "name": "stdout",
          "text": [
            "2\n"
          ]
        }
      ]
    },
    {
      "cell_type": "markdown",
      "source": [
        "#### None\n"
      ],
      "metadata": {
        "id": "078nM_HPhBTy"
      }
    },
    {
      "cell_type": "code",
      "source": [
        "x = None\n",
        "print(x)    # None"
      ],
      "metadata": {
        "colab": {
          "base_uri": "https://localhost:8080/"
        },
        "id": "7rLr4LSChEY-",
        "outputId": "43048681-93a9-45b6-c1ed-027fe8a73bc7"
      },
      "execution_count": 17,
      "outputs": [
        {
          "output_type": "stream",
          "name": "stdout",
          "text": [
            "None\n"
          ]
        }
      ]
    },
    {
      "cell_type": "code",
      "source": [
        "def greet():\n",
        "    print(\"Hey\")\n",
        "\n",
        "result = greet()\n",
        "print(result)"
      ],
      "metadata": {
        "colab": {
          "base_uri": "https://localhost:8080/"
        },
        "id": "ExUgegUthGl5",
        "outputId": "27b13538-9459-447d-9baa-586d786370d0"
      },
      "execution_count": 18,
      "outputs": [
        {
          "output_type": "stream",
          "name": "stdout",
          "text": [
            "Hey\n",
            "None\n"
          ]
        }
      ]
    },
    {
      "cell_type": "markdown",
      "source": [
        "#### Truthy and Falsy\n"
      ],
      "metadata": {
        "id": "txflk0BKhJ8M"
      }
    },
    {
      "cell_type": "code",
      "source": [
        "x = 5\n",
        "\n",
        "if x:\n",
        "    print(x)   # 5"
      ],
      "metadata": {
        "colab": {
          "base_uri": "https://localhost:8080/"
        },
        "id": "ZcWNiPi8hNaB",
        "outputId": "1209f9ee-3fa5-4b30-ec5e-021de8511132"
      },
      "execution_count": 19,
      "outputs": [
        {
          "output_type": "stream",
          "name": "stdout",
          "text": [
            "5\n"
          ]
        }
      ]
    },
    {
      "cell_type": "code",
      "source": [
        "x = 0\n",
        "\n",
        "if x:\n",
        "    print(x)\n",
        "\n",
        "# No output"
      ],
      "metadata": {
        "id": "3Q1PXr_PhQNs"
      },
      "execution_count": 20,
      "outputs": []
    },
    {
      "cell_type": "markdown",
      "source": [
        "In Python these values are considered falsy.\n",
        "\n",
        "None\n",
        "\n",
        "False\n",
        "\n",
        "0\n",
        "\n",
        "0.0\n",
        "\n",
        "empty strings, lists, dictionaries etc."
      ],
      "metadata": {
        "id": "1zhP5E1zhUpQ"
      }
    },
    {
      "cell_type": "code",
      "source": [
        "n1 = 20\n",
        "n2 = 10\n",
        "n3 = 30\n",
        "\n",
        "if n1 > n2 and n3:\n",
        "    print(n1)\n",
        "elif n2 > n1 and n3:\n",
        "    print(n2)\n",
        "else:\n",
        "    print(n3)"
      ],
      "metadata": {
        "colab": {
          "base_uri": "https://localhost:8080/"
        },
        "id": "hcaPbyauhZz3",
        "outputId": "c763cf7a-0569-4722-b0f1-f4436c8cb904"
      },
      "execution_count": 21,
      "outputs": [
        {
          "output_type": "stream",
          "name": "stdout",
          "text": [
            "20\n"
          ]
        }
      ]
    },
    {
      "cell_type": "code",
      "source": [
        "n = 10\n",
        "if n == 10 and 100:\n",
        "    print(\"Hello\")"
      ],
      "metadata": {
        "colab": {
          "base_uri": "https://localhost:8080/"
        },
        "id": "HjdD4K2yhjCR",
        "outputId": "12b28cdc-729d-41e5-b894-7616c6b3df9f"
      },
      "execution_count": 22,
      "outputs": [
        {
          "output_type": "stream",
          "name": "stdout",
          "text": [
            "Hello\n"
          ]
        }
      ]
    },
    {
      "cell_type": "markdown",
      "source": [
        "Here, n == 10 and 100 evaluates to True because both n == 10 and 100 evaluate to True. Thus, the print(\"Hello\") statement is executed."
      ],
      "metadata": {
        "id": "DrYxt9qchhyD"
      }
    },
    {
      "cell_type": "markdown",
      "source": [
        "#### pass Statement\n"
      ],
      "metadata": {
        "id": "gT7Vob81hn4h"
      }
    },
    {
      "cell_type": "code",
      "source": [
        "n = 10\n",
        "\n",
        "if n > 10:\n",
        "    # write code later\n",
        "\n",
        "print(\"Hello\")"
      ],
      "metadata": {
        "colab": {
          "base_uri": "https://localhost:8080/",
          "height": 106
        },
        "id": "2nPKcc8Lhqc9",
        "outputId": "2b4b76e1-c241-4c1f-c7c9-0662f1271f7e"
      },
      "execution_count": 23,
      "outputs": [
        {
          "output_type": "error",
          "ename": "IndentationError",
          "evalue": "expected an indented block after 'if' statement on line 3 (<ipython-input-23-07c4b85cd341>, line 6)",
          "traceback": [
            "\u001b[0;36m  File \u001b[0;32m\"<ipython-input-23-07c4b85cd341>\"\u001b[0;36m, line \u001b[0;32m6\u001b[0m\n\u001b[0;31m    print(\"Hello\")\u001b[0m\n\u001b[0m    ^\u001b[0m\n\u001b[0;31mIndentationError\u001b[0m\u001b[0;31m:\u001b[0m expected an indented block after 'if' statement on line 3\n"
          ]
        }
      ]
    },
    {
      "cell_type": "code",
      "source": [
        "n = 10\n",
        "\n",
        "# notice the use of pass inside the if statement\n",
        "if n > 10:\n",
        "    pass\n",
        "\n",
        "print(\"Hello\")"
      ],
      "metadata": {
        "colab": {
          "base_uri": "https://localhost:8080/"
        },
        "id": "m3ICUpeehtvV",
        "outputId": "7492678e-94a6-4672-b734-f27951a271d2"
      },
      "execution_count": 24,
      "outputs": [
        {
          "output_type": "stream",
          "name": "stdout",
          "text": [
            "Hello\n"
          ]
        }
      ]
    }
  ]
}