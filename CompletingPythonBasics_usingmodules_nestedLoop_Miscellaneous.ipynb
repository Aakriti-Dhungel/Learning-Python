{
  "nbformat": 4,
  "nbformat_minor": 0,
  "metadata": {
    "colab": {
      "provenance": [],
      "authorship_tag": "ABX9TyMfS2EWc/zESb1T7fSpJkEC"
    },
    "kernelspec": {
      "name": "python3",
      "display_name": "Python 3"
    },
    "language_info": {
      "name": "python"
    }
  },
  "cells": [
    {
      "cell_type": "markdown",
      "source": [
        "# **Modules Introduction**"
      ],
      "metadata": {
        "id": "dZl-ShwWaT0y"
      }
    },
    {
      "cell_type": "markdown",
      "source": [
        "# built-in functions such as sum(), max(), len(), etc.\n",
        "\n",
        "# using a module provides more functions that we can use in our program."
      ],
      "metadata": {
        "id": "1HysZ1SSair1"
      }
    },
    {
      "cell_type": "markdown",
      "source": [
        "# what is a module?\n",
        "\n",
        "A module is a file containing a set of functions that we might want to use in our application. Once we import a module, we can use all the functions defined inside that module."
      ],
      "metadata": {
        "id": "aOV6TwLOaqcX"
      }
    },
    {
      "cell_type": "markdown",
      "source": [
        "# Why modules?\n",
        "\n",
        "You might have heard that Python is used for data analytics, web development, automation, etc.\n",
        "\n",
        "To solve these tasks, we take the help of modules rather than writing code from scratch.\n",
        "\n",
        "For example, if we need to perform tasks related to\n",
        "\n",
        "data analytics, we will use modules such as NumPy, pandas, etc.\n",
        "web development, we will use modules such as Django, Flask, etc.\n",
        "csv files, we will use modules such as csv, pandas, etc."
      ],
      "metadata": {
        "id": "ekm2uAw_a5DA"
      }
    },
    {
      "cell_type": "markdown",
      "source": [
        "# Importing Modules\n",
        "## import math\n"
      ],
      "metadata": {
        "id": "0T2c8XDjbBFr"
      }
    },
    {
      "cell_type": "code",
      "source": [
        "import math\n",
        "\n",
        "number = 25\n",
        "\n",
        "# compute square root\n",
        "result = math.sqrt(number)\n",
        "\n",
        "print(result)   # 5.0"
      ],
      "metadata": {
        "colab": {
          "base_uri": "https://localhost:8080/"
        },
        "id": "2146SNbqbIiP",
        "outputId": "6ad66c1e-9c71-4248-ad38-fbf71dfe9d71"
      },
      "execution_count": 1,
      "outputs": [
        {
          "output_type": "stream",
          "name": "stdout",
          "text": [
            "5.0\n"
          ]
        }
      ]
    },
    {
      "cell_type": "code",
      "source": [
        "import math\n",
        "\n",
        "number = 3.6\n",
        "\n",
        "# round a number down to the nearest integer\n",
        "result = math.floor(number)\n",
        "\n",
        "print(result)   # 3"
      ],
      "metadata": {
        "colab": {
          "base_uri": "https://localhost:8080/"
        },
        "id": "T2qywethbZZX",
        "outputId": "a8fe9668-8f1c-45f4-b15a-eeb59c28ef40"
      },
      "execution_count": 2,
      "outputs": [
        {
          "output_type": "stream",
          "name": "stdout",
          "text": [
            "3\n"
          ]
        }
      ]
    },
    {
      "cell_type": "markdown",
      "source": [
        "There are many other useful functions defined inside the math module such as sin(), cos(), log(), etc."
      ],
      "metadata": {
        "id": "Gu9CbnK1beVD"
      }
    },
    {
      "cell_type": "code",
      "source": [
        "# What happens when you import the same module twice?\n",
        "\n",
        "import math\n",
        "import math\n",
        "\n",
        "result = math.sqrt(9)\n",
        "print(result)"
      ],
      "metadata": {
        "colab": {
          "base_uri": "https://localhost:8080/"
        },
        "id": "uFn6sf0vbrHV",
        "outputId": "1cbb7669-ecd9-4189-d6c5-ec9ac073d573"
      },
      "execution_count": 3,
      "outputs": [
        {
          "output_type": "stream",
          "name": "stdout",
          "text": [
            "3.0\n"
          ]
        }
      ]
    },
    {
      "cell_type": "markdown",
      "source": [
        "# Renaming Modules\n"
      ],
      "metadata": {
        "id": "fpCB2vRubvFR"
      }
    },
    {
      "cell_type": "code",
      "source": [
        "import math as m\n",
        "\n",
        "number = 25\n",
        "\n",
        "# compute square root\n",
        "result = m.sqrt(number)\n",
        "\n",
        "print(result)   # 5.0"
      ],
      "metadata": {
        "colab": {
          "base_uri": "https://localhost:8080/"
        },
        "id": "k93iRPR6byJy",
        "outputId": "f61ba6a0-95e3-4ff8-ef0f-9e03192e0408"
      },
      "execution_count": 4,
      "outputs": [
        {
          "output_type": "stream",
          "name": "stdout",
          "text": [
            "5.0\n"
          ]
        }
      ]
    },
    {
      "cell_type": "markdown",
      "source": [
        "#### Note: If we use math.sqrt() instead of m.sqrt() in the above code, we will get an error.\n"
      ],
      "metadata": {
        "id": "aZjLkSGXb3K8"
      }
    },
    {
      "cell_type": "markdown",
      "source": [
        "# from...import Statement\n"
      ],
      "metadata": {
        "id": "TAMYAPcJb8Dk"
      }
    },
    {
      "cell_type": "code",
      "source": [
        "from math import sqrt, floor\n",
        "\n",
        "number = 25\n",
        "\n",
        "# compute square root\n",
        "result = sqrt(number)\n",
        "\n",
        "print(result)   # 5.0"
      ],
      "metadata": {
        "colab": {
          "base_uri": "https://localhost:8080/"
        },
        "id": "BPOfW3IscCcb",
        "outputId": "8865d684-faa8-443f-f00f-d97508163ddd"
      },
      "execution_count": 5,
      "outputs": [
        {
          "output_type": "stream",
          "name": "stdout",
          "text": [
            "5.0\n"
          ]
        }
      ]
    },
    {
      "cell_type": "markdown",
      "source": [
        "#### this statement from math import sqrt, floor imports only two functions — sqrt() and floor() — from the math module.\n",
        "\n",
        "Note: If we use math.sqrt() in the above example, we will get an error because only two functions sqrt() and floor() are imported; math is not imported.\n"
      ],
      "metadata": {
        "id": "Y4xWBwcDcIx8"
      }
    },
    {
      "cell_type": "markdown",
      "source": [
        "# Calculate GCD using Modules\n",
        "Problem Description\n",
        "\n",
        "Write a program to find the greater common divisor of two numbers using the gcd() function defined inside the math module.\n",
        "\n",
        "Import the math module.\n",
        "Get two integer inputs from the user.\n",
        "Call the gcd() function with two numbers as arguments. The function returns the greatest common divisor.\n",
        "Print the result."
      ],
      "metadata": {
        "id": "lBYYrh4gcoij"
      }
    },
    {
      "cell_type": "code",
      "source": [
        "# import the math module\n",
        "import math\n",
        "\n",
        "# get two integer inputs\n",
        "n1 = int(input())\n",
        "n2 = int(input())\n",
        "\n",
        "# compute gcd\n",
        "# call the gcd() function defined in the math module\n",
        "# use n1 and n2 as arguments\n",
        "result = math.gcd(n1,n2)\n",
        "\n",
        "# print the result\n",
        "print(result)"
      ],
      "metadata": {
        "colab": {
          "base_uri": "https://localhost:8080/"
        },
        "id": "6DKzyRk5cutn",
        "outputId": "cdd6f3c6-7694-41ed-8dac-0535eb0ff98c"
      },
      "execution_count": 6,
      "outputs": [
        {
          "output_type": "stream",
          "name": "stdout",
          "text": [
            "10\n",
            "50\n",
            "10\n"
          ]
        }
      ]
    },
    {
      "cell_type": "markdown",
      "source": [
        "# Random Module\n",
        "Note: You may get a different result as we are generating a random number."
      ],
      "metadata": {
        "id": "QK7a7VLXc1R2"
      }
    },
    {
      "cell_type": "code",
      "source": [
        "import random\n",
        "\n",
        "# random number between 1 and 100 (both inclusive)\n",
        "random_number = random.randint(1, 100)\n",
        "\n",
        "print(random_number)"
      ],
      "metadata": {
        "colab": {
          "base_uri": "https://localhost:8080/"
        },
        "id": "c4RrC0twc4ro",
        "outputId": "b2316348-3bfd-4975-a304-59883178d722"
      },
      "execution_count": 7,
      "outputs": [
        {
          "output_type": "stream",
          "name": "stdout",
          "text": [
            "30\n"
          ]
        }
      ]
    }
  ]
}