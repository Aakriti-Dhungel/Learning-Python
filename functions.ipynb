{
  "nbformat": 4,
  "nbformat_minor": 0,
  "metadata": {
    "colab": {
      "provenance": [],
      "authorship_tag": "ABX9TyOW4vHLHz8YvWln6uJFfP6g"
    },
    "kernelspec": {
      "name": "python3",
      "display_name": "Python 3"
    },
    "language_info": {
      "name": "python"
    }
  },
  "cells": [
    {
      "cell_type": "markdown",
      "source": [
        "# **Functions**"
      ],
      "metadata": {
        "id": "DszP5Djccpb2"
      }
    },
    {
      "cell_type": "code",
      "execution_count": 1,
      "metadata": {
        "id": "naEm475xcidJ",
        "colab": {
          "base_uri": "https://localhost:8080/"
        },
        "outputId": "c5e1bb97-c1c9-43f2-a1a8-71ff1263eb37"
      },
      "outputs": [
        {
          "output_type": "stream",
          "name": "stdout",
          "text": [
            "Total? 200\n",
            "The final amount to pay is: $190.0\n"
          ]
        }
      ],
      "source": [
        "# simple\n",
        "total = float(input(\"Total? \"))\n",
        "discount_percent = 10\n",
        "\n",
        "if total > 100:\n",
        "    excess = total - 100\n",
        "    discount = (discount_percent / 100) * excess\n",
        "    total = total - discount\n",
        "\n",
        "print(f\"The final amount to pay is: ${total}\")"
      ]
    },
    {
      "cell_type": "code",
      "source": [
        "# creating function\n",
        "def greet():\n",
        "    print(\"Hello\")\n",
        "    print(\"How do you do?\")"
      ],
      "metadata": {
        "id": "ZWAamyXHhUdl"
      },
      "execution_count": null,
      "outputs": []
    },
    {
      "cell_type": "code",
      "source": [
        "# call a function\n",
        "\n",
        "# Function definition\n",
        "def greet():\n",
        "    print(\"Hello\")\n",
        "    print(\"How do you do?\")\n",
        "\n",
        "# Function call\n",
        "greet()\n",
        "\n",
        "print(\"Next statement\")"
      ],
      "metadata": {
        "colab": {
          "base_uri": "https://localhost:8080/"
        },
        "id": "K0YQ5PUZha-y",
        "outputId": "ecc69e62-c335-4aca-df27-c7d5d7af3667"
      },
      "execution_count": 2,
      "outputs": [
        {
          "output_type": "stream",
          "name": "stdout",
          "text": [
            "Hello\n",
            "How do you do?\n",
            "Next statement\n"
          ]
        }
      ]
    },
    {
      "cell_type": "markdown",
      "source": [
        "Unless we call a function, the code inside its function definition will not be executed.\n",
        "\n"
      ],
      "metadata": {
        "id": "TeqTTVpRhmVn"
      }
    },
    {
      "cell_type": "code",
      "source": [
        "# using function multiple times\n",
        "\n",
        "# Function definition\n",
        "def greet():\n",
        "    print(\"Hello\")\n",
        "    print(\"How do you do?\")\n",
        "\n",
        "# Call the greet() function\n",
        "greet()\n",
        "\n",
        "print(\"------\")\n",
        "\n",
        "# Call the greet() function again\n",
        "greet()"
      ],
      "metadata": {
        "colab": {
          "base_uri": "https://localhost:8080/"
        },
        "id": "6Y5PcMqIhuii",
        "outputId": "98339954-d274-431d-d035-5d3f8f96927b"
      },
      "execution_count": 3,
      "outputs": [
        {
          "output_type": "stream",
          "name": "stdout",
          "text": [
            "Hello\n",
            "How do you do?\n",
            "------\n",
            "Hello\n",
            "How do you do?\n"
          ]
        }
      ]
    },
    {
      "cell_type": "markdown",
      "source": [
        "Function Call Inside a Loop in PHP\n",
        "\n",
        "\n",
        "A function can be defined only once but can be called multiple times, including inside a loop. This helps in code reusability and better organization."
      ],
      "metadata": {
        "id": "XIzUS3xmh5ip"
      }
    },
    {
      "cell_type": "code",
      "source": [
        "# Function definition\n",
        "def greet():\n",
        "    print(\"Hello\")\n",
        "    print(\"How do you do?\")\n",
        "\n",
        "# Run the loop five times\n",
        "for i in range(1, 6):\n",
        "    greet()"
      ],
      "metadata": {
        "colab": {
          "base_uri": "https://localhost:8080/"
        },
        "id": "CWxHZAqph5Ha",
        "outputId": "85b4a560-dc7a-4368-e292-b4ffeb3cc705"
      },
      "execution_count": 4,
      "outputs": [
        {
          "output_type": "stream",
          "name": "stdout",
          "text": [
            "Hello\n",
            "How do you do?\n",
            "Hello\n",
            "How do you do?\n",
            "Hello\n",
            "How do you do?\n",
            "Hello\n",
            "How do you do?\n",
            "Hello\n",
            "How do you do?\n"
          ]
        }
      ]
    },
    {
      "cell_type": "code",
      "source": [
        "def display_stars():\n",
        "    print(\"*\")\n",
        "\n",
        "display_stars()\n",
        "\n",
        "for i in range(0, 2):\n",
        "    display_stars()"
      ],
      "metadata": {
        "colab": {
          "base_uri": "https://localhost:8080/"
        },
        "id": "s06vDmw7ifQC",
        "outputId": "bd34d820-44e6-4c41-ba4d-41daf5641c57"
      },
      "execution_count": 5,
      "outputs": [
        {
          "output_type": "stream",
          "name": "stdout",
          "text": [
            "*\n",
            "*\n",
            "*\n"
          ]
        }
      ]
    },
    {
      "cell_type": "code",
      "source": [
        "# Define the print_numbers() function\n",
        "def print_numbers():\n",
        "    print(5)\n",
        "    print(100)\n",
        "\n",
        "# Call the function twice\n",
        "print_numbers()\n",
        "print_numbers()"
      ],
      "metadata": {
        "colab": {
          "base_uri": "https://localhost:8080/"
        },
        "id": "8h4JCjwni0nW",
        "outputId": "c42feaa7-1dc2-4e32-9943-b83f05db6150"
      },
      "execution_count": 6,
      "outputs": [
        {
          "output_type": "stream",
          "name": "stdout",
          "text": [
            "5\n",
            "100\n",
            "5\n",
            "100\n"
          ]
        }
      ]
    },
    {
      "cell_type": "markdown",
      "source": [
        "Making Functions Dynamic\n",
        "\n",
        "\n",
        "Argument: Refers to the input passed to the function.\n",
        "\n",
        "\n",
        "Return value: Refers to the output produced by the function."
      ],
      "metadata": {
        "id": "JlJVzmRli4To"
      }
    },
    {
      "cell_type": "markdown",
      "source": [
        "Function Arguments"
      ],
      "metadata": {
        "id": "mTOZDXXMjMHa"
      }
    },
    {
      "cell_type": "code",
      "source": [
        "# Function definition\n",
        "def greet(name):\n",
        "    print(\"Hello\", name)\n",
        "    print(\"How do you do?\")\n",
        "\n",
        "# Function call with \"Emma\" as argument\n",
        "greet(\"Emma\")\n",
        "\n",
        "# Function call with \"Adam\" as argument\n",
        "greet(\"Adam\")"
      ],
      "metadata": {
        "colab": {
          "base_uri": "https://localhost:8080/"
        },
        "id": "cZIxRte7jOyM",
        "outputId": "915807f7-2ccd-4245-df75-5f468ecceed4"
      },
      "execution_count": 8,
      "outputs": [
        {
          "output_type": "stream",
          "name": "stdout",
          "text": [
            "Hello Emma\n",
            "How do you do?\n",
            "Hello Adam\n",
            "How do you do?\n"
          ]
        }
      ]
    },
    {
      "cell_type": "markdown",
      "source": [
        "Passing Multiple Arguments\n"
      ],
      "metadata": {
        "id": "LP66h1i9jbbv"
      }
    },
    {
      "cell_type": "code",
      "source": [
        "# Define a function\n",
        "def add_numbers(n1, n2):\n",
        "    total = n1 + n2\n",
        "    print(f\"The sum is {total}\")\n",
        "\n",
        "number1 = 5\n",
        "number2 = 6\n",
        "\n",
        "# Call the function with two arguments\n",
        "add_numbers(number1, number2)"
      ],
      "metadata": {
        "colab": {
          "base_uri": "https://localhost:8080/"
        },
        "id": "nGLmnqR3jef4",
        "outputId": "86613497-14bd-4669-c190-a28b7eab9e8c"
      },
      "execution_count": 9,
      "outputs": [
        {
          "output_type": "stream",
          "name": "stdout",
          "text": [
            "The sum is 11\n"
          ]
        }
      ]
    },
    {
      "cell_type": "markdown",
      "source": [
        "Note: The argument's name during the function call and in the function definition can be different.\n"
      ],
      "metadata": {
        "id": "C5zPrun6jlef"
      }
    },
    {
      "cell_type": "markdown",
      "source": [
        "Create a function to print a person's information.\n",
        "\n",
        "Step 1\n",
        "\n",
        "Create a function named display_info().\n",
        "This function must accept two arguments: name and location.\n",
        "Print name and location in two separate lines.\n",
        "Step 2\n",
        "\n",
        "Outside of the function:\n",
        "\n",
        "Get a string input from the user and assign it to the country variable.\n",
        "Call the display_info() with arguments: the \"Taylor\" string and the country variable, respectively."
      ],
      "metadata": {
        "id": "Jw32QUZMk-2r"
      }
    },
    {
      "cell_type": "code",
      "source": [
        "# Define the display_info() function\n",
        "def display_info(name,location):\n",
        "    print(name)\n",
        "    print(location)\n",
        "# Take the user input for country\n",
        "country = input(\"Enter your country: \")\n",
        "\n",
        "# Call the function with arguments \"Taylor\" and country\n",
        "display_info(\"Taylor\",country)"
      ],
      "metadata": {
        "colab": {
          "base_uri": "https://localhost:8080/"
        },
        "id": "5o9glJ50lBWq",
        "outputId": "f4459877-7a2a-45c8-8690-5164a0e1510e"
      },
      "execution_count": 10,
      "outputs": [
        {
          "output_type": "stream",
          "name": "stdout",
          "text": [
            "Enter your country: USA\n",
            "Taylor\n",
            "USA\n"
          ]
        }
      ]
    },
    {
      "cell_type": "markdown",
      "source": [
        "Write a program to add three numbers entered by the user.\n",
        "\n",
        "Step 1\n",
        "\n",
        "Define a function add_three_numbers() that takes three arguments n1, n2, and n3.\n",
        "Inside the function, find the sum of n1, n2, and n3 and store it in a variable.\n",
        "Print the result inside the function.\n",
        "Step 2\n",
        "\n",
        "Outside the function,\n",
        "\n",
        "Take three integer inputs from the user.\n",
        "Call the function with these three numbers."
      ],
      "metadata": {
        "id": "CdDRrNp-l8d-"
      }
    },
    {
      "cell_type": "code",
      "source": [
        "# Define the function\n",
        "def add_three_numbers(n1,n2,n3):\n",
        "    sum = n1 + n2 + n3\n",
        "    print(sum)\n",
        "# Take integer inputs\n",
        "num1 = int(input(\"Enter a number: \"))\n",
        "num2 = int(input(\"Enter a number: \"))\n",
        "num3 = int(input(\"Enter a number: \"))\n",
        "\n",
        "# Call the function with num1, num2 and num3 arguments\n",
        "add_three_numbers(num1,num2,num3)"
      ],
      "metadata": {
        "colab": {
          "base_uri": "https://localhost:8080/"
        },
        "id": "sw_DB_phl_FX",
        "outputId": "40edd3f7-46b4-4215-9dde-107b4b58e441"
      },
      "execution_count": 11,
      "outputs": [
        {
          "output_type": "stream",
          "name": "stdout",
          "text": [
            "Enter a number: 10\n",
            "Enter a number: 20\n",
            "Enter a number: 30\n",
            "60\n"
          ]
        }
      ]
    },
    {
      "cell_type": "markdown",
      "source": [
        "# The return Statement\n"
      ],
      "metadata": {
        "id": "F5k1hBH_nDtT"
      }
    },
    {
      "cell_type": "code",
      "source": [
        "# previous\n",
        "def greet(name):\n",
        "    print(\"Hello\", name)\n",
        "    print(\"How do you do?\")\n",
        "\n",
        "greet(\"Mia\")"
      ],
      "metadata": {
        "colab": {
          "base_uri": "https://localhost:8080/"
        },
        "id": "Qc6BzPlynJi_",
        "outputId": "65c745bb-df88-4c6e-af79-c42be36a4dd0"
      },
      "execution_count": 12,
      "outputs": [
        {
          "output_type": "stream",
          "name": "stdout",
          "text": [
            "Hello Mia\n",
            "How do you do?\n"
          ]
        }
      ]
    },
    {
      "cell_type": "code",
      "source": [
        "# using return\n",
        "def greet(name):\n",
        "    print(\"Hello\", name)\n",
        "\n",
        "    # The return statement\n",
        "    return\n",
        "    print(\"How do you do?\")\n",
        "\n",
        "greet(\"Mia\")\n",
        "\n",
        "print(\"Next Statement\")"
      ],
      "metadata": {
        "colab": {
          "base_uri": "https://localhost:8080/"
        },
        "id": "M_me1XoInOWj",
        "outputId": "558583e5-0230-476b-e081-8c37e8cc9923"
      },
      "execution_count": 13,
      "outputs": [
        {
          "output_type": "stream",
          "name": "stdout",
          "text": [
            "Hello Mia\n",
            "Next Statement\n"
          ]
        }
      ]
    },
    {
      "cell_type": "code",
      "source": [
        "# simple\n",
        "def add_numbers(n1, n2):\n",
        "    total = n1 + n2\n",
        "    print(f\"The sum is {total}\")\n",
        "\n",
        "number1 = 5\n",
        "number2 = 6\n",
        "\n",
        "add_numbers(number1, number2)"
      ],
      "metadata": {
        "colab": {
          "base_uri": "https://localhost:8080/"
        },
        "id": "UmbkdmD2np0j",
        "outputId": "3c0add67-b5cc-4965-9322-4708f07c34df"
      },
      "execution_count": 14,
      "outputs": [
        {
          "output_type": "stream",
          "name": "stdout",
          "text": [
            "The sum is 11\n"
          ]
        }
      ]
    },
    {
      "cell_type": "code",
      "source": [
        "# using return\n",
        "\n",
        "def add_numbers(n1, n2):\n",
        "    result = n1 + n2\n",
        "\n",
        "    # Return the value of result\n",
        "    return result\n",
        "\n",
        "total = add_numbers(5, 6)\n",
        "print(total)    # Output: 11"
      ],
      "metadata": {
        "colab": {
          "base_uri": "https://localhost:8080/"
        },
        "id": "Mg5v0ztxntas",
        "outputId": "62b14854-fafc-474c-8fc0-3eda256eb95c"
      },
      "execution_count": 15,
      "outputs": [
        {
          "output_type": "stream",
          "name": "stdout",
          "text": [
            "11\n"
          ]
        }
      ]
    },
    {
      "cell_type": "code",
      "source": [
        "# practice\n",
        "def add_num(a, b):\n",
        "    return a + b\n",
        "\n",
        "total = add_num(3, 4)  # Nothing is displayed on the screen because we haven't printed the value stored in total."
      ],
      "metadata": {
        "id": "Chp0HIven7Qy"
      },
      "execution_count": 16,
      "outputs": []
    },
    {
      "cell_type": "markdown",
      "source": [
        "Write a program to find the product of two numbers.\n",
        "\n",
        "Step 1\n",
        "\n",
        "Define a function named get_product() that accepts two parameters: number1 and number2.\n",
        "Inside the function, multiply number1 by number2 and return the result.\n",
        "Step 2\n",
        "\n",
        "Outside of the function:\n",
        "\n",
        "Get two integer inputs from the user and store them in n1 and n2.\n",
        "Call the get_product() function with arguments n1 and n2 and store the return value in the total variable.\n",
        "Print the total variable."
      ],
      "metadata": {
        "id": "-LkmS7wIocvB"
      }
    },
    {
      "cell_type": "code",
      "source": [
        "# Define the get_product() function\n",
        "def get_product(number1,number2):\n",
        "    result = number1 * number2\n",
        "    return result\n",
        "\n",
        "\n",
        "# Get integer inputs from the user\n",
        "n1 = int(input(\"Enter an integer: \"))\n",
        "n2 = int(input(\"Enter another integer: \"))\n",
        "\n",
        "# Call the function with arguments: n1 and n2\n",
        "# Print the total\n",
        "total = get_product(n1,n2)\n",
        "print(total)"
      ],
      "metadata": {
        "colab": {
          "base_uri": "https://localhost:8080/"
        },
        "id": "fW5vXdk6oge-",
        "outputId": "e02bf16d-6c4c-49e7-8c37-6b4047b87951"
      },
      "execution_count": 17,
      "outputs": [
        {
          "output_type": "stream",
          "name": "stdout",
          "text": [
            "Enter an integer: 10\n",
            "Enter another integer: 50\n",
            "500\n"
          ]
        }
      ]
    },
    {
      "cell_type": "markdown",
      "source": [
        "# Why Use Arguments and Return Value?\n",
        "# Using arguments and return values makes a function both independent and reusable.\n",
        "\n"
      ],
      "metadata": {
        "id": "tIEZhnYmonFJ"
      }
    },
    {
      "cell_type": "code",
      "source": [
        "def add_numbers(n1, n2):\n",
        "    result = n1 + n2\n",
        "    return result\n",
        "total = add_numbers(5,10)\n",
        "print(total)"
      ],
      "metadata": {
        "colab": {
          "base_uri": "https://localhost:8080/"
        },
        "id": "AcmIqIKpoxxh",
        "outputId": "46c56725-bd80-4b47-e0b3-4cc845db69f9"
      },
      "execution_count": 22,
      "outputs": [
        {
          "output_type": "stream",
          "name": "stdout",
          "text": [
            "15\n"
          ]
        }
      ]
    },
    {
      "cell_type": "code",
      "source": [
        "# discount calculate\n",
        "def calculate_total_after_discount(total):\n",
        "    discount_percent = 10\n",
        "\n",
        "    if total > 100:\n",
        "        excess = total - 100\n",
        "        discount = (discount_percent / 100) * excess\n",
        "        total = total - discount\n",
        "\n",
        "    return total\n",
        "\n",
        "# For the first customer\n",
        "total = float(input(\"Total? \"))\n",
        "total = calculate_total_after_discount(total)\n",
        "print(f\"The final amount to pay is: ${total}\")\n",
        "\n",
        "# For the second customer\n",
        "total = float(input(\"Total? \"))\n",
        "total = calculate_total_after_discount(total)\n",
        "print(f\"The final amount to pay is: ${total}\")"
      ],
      "metadata": {
        "colab": {
          "base_uri": "https://localhost:8080/"
        },
        "id": "u375kTvCo8jE",
        "outputId": "cfb27309-59af-4073-f9d2-6696aeaa028e"
      },
      "execution_count": 19,
      "outputs": [
        {
          "output_type": "stream",
          "name": "stdout",
          "text": [
            "Total? 200\n",
            "The final amount to pay is: $190.0\n",
            "Total? 500\n",
            "The final amount to pay is: $460.0\n"
          ]
        }
      ]
    },
    {
      "cell_type": "markdown",
      "source": [
        " # The Discount Problem with Variable Discount\n"
      ],
      "metadata": {
        "id": "GBD90yz2pQUo"
      }
    },
    {
      "cell_type": "code",
      "source": [
        "def calculate_total_after_discount(total, discount_percent):\n",
        "    if total > 100:\n",
        "        excess = total - 100\n",
        "        discount = (discount_percent / 100) * excess\n",
        "        total -= discount\n",
        "\n",
        "    return total\n",
        "\n",
        "# For the first customer\n",
        "total = float(input(\"Total? \"))\n",
        "discount_percent = float(input(\"Discount percentage? \"))\n",
        "total = calculate_total_after_discount(total, discount_percent)\n",
        "print(f\"The final amount to pay is: ${total}\")\n",
        "\n",
        "# For the second customer\n",
        "total = float(input(\"Total? \"))\n",
        "discount_percent = float(input(\"Discount percentage? \"))\n",
        "total = calculate_total_after_discount(total, discount_percent)\n",
        "print(f\"The final amount to pay is: ${total}\")"
      ],
      "metadata": {
        "colab": {
          "base_uri": "https://localhost:8080/"
        },
        "id": "QPKADz15pUbj",
        "outputId": "a0a4e006-6276-43d9-bded-389691efbf52"
      },
      "execution_count": 23,
      "outputs": [
        {
          "output_type": "stream",
          "name": "stdout",
          "text": [
            "Total? 10\n",
            "Discount percentage? 2\n",
            "The final amount to pay is: $10.0\n",
            "Total? 5\n",
            "Discount percentage? 10\n",
            "The final amount to pay is: $5.0\n"
          ]
        }
      ]
    },
    {
      "cell_type": "markdown",
      "source": [
        "Takeaway: A function is simply a tool to structure your code. Depending on the situation, you can adjust the number of arguments it takes and how it behaves.\n"
      ],
      "metadata": {
        "id": "G6i5evpZpeJX"
      }
    },
    {
      "cell_type": "markdown",
      "source": [
        "# Common Issues That Trouble Beginners\n",
        "# 1. Not Using the Returned Value Properly\n",
        "Note: If a function returns a value, always assign it to a variable or use it in some way. Otherwise, the returned value will be lost and serve no purpose.\n",
        "\n"
      ],
      "metadata": {
        "id": "EDMycoHzphyW"
      }
    },
    {
      "cell_type": "code",
      "source": [
        "def add_numbers(n1, n2):\n",
        "    result = n1 + n2\n",
        "    return result\n",
        "\n",
        "# Assigning the returned value to a variable\n",
        "total = add_numbers(10, 20)\n",
        "print(total)  # Output: 30\n",
        "\n",
        "# Printing the returned value directly\n",
        "print(add_numbers(20, 30))  # Output: 50"
      ],
      "metadata": {
        "colab": {
          "base_uri": "https://localhost:8080/"
        },
        "id": "jUzPZyQUpq2k",
        "outputId": "c60e58e4-e878-4cdd-c028-feaca9438ef4"
      },
      "execution_count": 24,
      "outputs": [
        {
          "output_type": "stream",
          "name": "stdout",
          "text": [
            "30\n",
            "50\n"
          ]
        }
      ]
    },
    {
      "cell_type": "markdown",
      "source": [
        "# 2. Wrong number of arguments\n",
        "\n"
      ],
      "metadata": {
        "id": "oPQDJCQQp3om"
      }
    },
    {
      "cell_type": "code",
      "source": [
        "def add_numbers(n1, n2):\n",
        "    result = n1 + n2\n",
        "    return result\n",
        "\n",
        "total = add_numbers(100)\n",
        "print(total)\n",
        "\n",
        "# TypeError: add_numbers() missing 1 required\n",
        "# positional argument: 'n2'"
      ],
      "metadata": {
        "id": "oOFGeMmGp2yH"
      },
      "execution_count": null,
      "outputs": []
    },
    {
      "cell_type": "markdown",
      "source": [
        "# 3. Wrong Indentation\n",
        "\n"
      ],
      "metadata": {
        "id": "s5MG1--kp-ER"
      }
    },
    {
      "cell_type": "code",
      "source": [
        "def print_hello():\n",
        "print(\"Hello dear\")\n",
        "\n",
        "print_hello()\n",
        "\n",
        "# IndentationError: expected an indented block\n",
        "# after function definition on line 1"
      ],
      "metadata": {
        "id": "bOWyORfaqCWe"
      },
      "execution_count": null,
      "outputs": []
    },
    {
      "cell_type": "markdown",
      "source": [
        "# **Local Variables Introduction**"
      ],
      "metadata": {
        "id": "K8uR5jRiqMM7"
      }
    },
    {
      "cell_type": "code",
      "source": [
        "def add_numbers(n1, n2):\n",
        "    result = n1 + n2\n",
        "    print(result)\n",
        "\n",
        "add_numbers(2, 5)"
      ],
      "metadata": {
        "colab": {
          "base_uri": "https://localhost:8080/"
        },
        "id": "9h_GtjAJrAF5",
        "outputId": "0e44fd37-e049-4922-8114-a383a48f4d83"
      },
      "execution_count": 25,
      "outputs": [
        {
          "output_type": "stream",
          "name": "stdout",
          "text": [
            "7\n"
          ]
        }
      ]
    },
    {
      "cell_type": "markdown",
      "source": [
        "Any variable that is created inside a function definition is local to that function. In other words, the variable doesn't exist outside the function. For example:\n",
        "\n"
      ],
      "metadata": {
        "id": "LEQcnIf4rIzx"
      }
    },
    {
      "cell_type": "code",
      "source": [
        "def add_numbers(n1, n2):\n",
        "    result = n1 + n2\n",
        "\n",
        "add_numbers(2, 5)\n",
        "print(result)\n",
        "\n",
        "# NameError: name 'result' is not defined"
      ],
      "metadata": {
        "id": "fnNG_SkVrDqi"
      },
      "execution_count": null,
      "outputs": []
    },
    {
      "cell_type": "code",
      "source": [
        "########\n",
        "def add_numbers(n1, n2):\n",
        "    result = n1 + n2\n",
        "    return result\n",
        "\n",
        "output = add_numbers(2, 5)\n",
        "print(output)"
      ],
      "metadata": {
        "colab": {
          "base_uri": "https://localhost:8080/"
        },
        "id": "J-zu-X6XrM-c",
        "outputId": "2a65c9c2-5b05-4329-cb11-05260d870e34"
      },
      "execution_count": 26,
      "outputs": [
        {
          "output_type": "stream",
          "name": "stdout",
          "text": [
            "7\n"
          ]
        }
      ]
    },
    {
      "cell_type": "markdown",
      "source": [
        "Why Are Local Variables Important?\n",
        "\n",
        "\n",
        "Local variables are important because they make functions self-contained, independent, and versatile."
      ],
      "metadata": {
        "id": "vNgf_HQ5rVdK"
      }
    },
    {
      "cell_type": "code",
      "source": [
        "def add_numbers(n1, n2):\n",
        "    result = n1 + n2\n",
        "    return result\n",
        "\n",
        "n1 = 2\n",
        "n2 = 5\n",
        "result = add_numbers(n1, n2)\n",
        "print(result)    # Output: 7"
      ],
      "metadata": {
        "colab": {
          "base_uri": "https://localhost:8080/"
        },
        "id": "Q3Jv02pzrbD7",
        "outputId": "23de5f95-6757-4808-f1e6-5a02973e1d8d"
      },
      "execution_count": 27,
      "outputs": [
        {
          "output_type": "stream",
          "name": "stdout",
          "text": [
            "7\n"
          ]
        }
      ]
    },
    {
      "cell_type": "code",
      "source": [
        "def add(\"a\", \"b\"):\n",
        "    total = a + b\n",
        "    return total\n",
        "\n",
        "total = add(3, 4)\n",
        "print(total)"
      ],
      "metadata": {
        "id": "XBXWhldHrpwQ"
      },
      "execution_count": null,
      "outputs": []
    },
    {
      "cell_type": "markdown",
      "source": [
        "Using strings as arguments.\n",
        "\n",
        "\n",
        "When you define a function, you should use variable names as arguments, not strings. Variable names don't belong inside quotes."
      ],
      "metadata": {
        "id": "9PSLYpUcrtHH"
      }
    },
    {
      "cell_type": "markdown",
      "source": [
        "Define Function Before Using it\n",
        "\n",
        "\n"
      ],
      "metadata": {
        "id": "vTVaP5tbryrC"
      }
    },
    {
      "cell_type": "code",
      "source": [
        "# Function call\n",
        "greet()\n",
        "\n",
        "# Function definition\n",
        "def greet():\n",
        "    print(\"Hello\")"
      ],
      "metadata": {
        "colab": {
          "base_uri": "https://localhost:8080/",
          "height": 211
        },
        "collapsed": true,
        "id": "jI_eKv4Yr4iK",
        "outputId": "65621cb4-edc7-424b-c813-518df712671e"
      },
      "execution_count": 28,
      "outputs": [
        {
          "output_type": "error",
          "ename": "TypeError",
          "evalue": "greet() missing 1 required positional argument: 'name'",
          "traceback": [
            "\u001b[0;31m---------------------------------------------------------------------------\u001b[0m",
            "\u001b[0;31mTypeError\u001b[0m                                 Traceback (most recent call last)",
            "\u001b[0;32m<ipython-input-28-0c7a8b546d7b>\u001b[0m in \u001b[0;36m<cell line: 0>\u001b[0;34m()\u001b[0m\n\u001b[1;32m      1\u001b[0m \u001b[0;31m# Function call\u001b[0m\u001b[0;34m\u001b[0m\u001b[0;34m\u001b[0m\u001b[0m\n\u001b[0;32m----> 2\u001b[0;31m \u001b[0mgreet\u001b[0m\u001b[0;34m(\u001b[0m\u001b[0;34m)\u001b[0m\u001b[0;34m\u001b[0m\u001b[0;34m\u001b[0m\u001b[0m\n\u001b[0m\u001b[1;32m      3\u001b[0m \u001b[0;34m\u001b[0m\u001b[0m\n\u001b[1;32m      4\u001b[0m \u001b[0;31m# Function definition\u001b[0m\u001b[0;34m\u001b[0m\u001b[0;34m\u001b[0m\u001b[0m\n\u001b[1;32m      5\u001b[0m \u001b[0;32mdef\u001b[0m \u001b[0mgreet\u001b[0m\u001b[0;34m(\u001b[0m\u001b[0;34m)\u001b[0m\u001b[0;34m:\u001b[0m\u001b[0;34m\u001b[0m\u001b[0;34m\u001b[0m\u001b[0m\n",
            "\u001b[0;31mTypeError\u001b[0m: greet() missing 1 required positional argument: 'name'"
          ]
        }
      ]
    },
    {
      "cell_type": "markdown",
      "source": [
        "Beginner Tip: If you are working on a project, place all the function definitions at the beginning of the file. This keeps your code organized and easy to follow.\n"
      ],
      "metadata": {
        "id": "rvInrg4VsALG"
      }
    },
    {
      "cell_type": "code",
      "source": [
        "# Function definition\n",
        "def greet():\n",
        "    print(\"Hello\")\n",
        "\n",
        "# Function call\n",
        "greet()"
      ],
      "metadata": {
        "colab": {
          "base_uri": "https://localhost:8080/"
        },
        "id": "G7ofL2wor9dV",
        "outputId": "d0ad0e0e-88f5-430c-e05a-bd23ea05522a"
      },
      "execution_count": 29,
      "outputs": [
        {
          "output_type": "stream",
          "name": "stdout",
          "text": [
            "Hello\n"
          ]
        }
      ]
    },
    {
      "cell_type": "markdown",
      "source": [
        "**Sum of Natural Numbers From 1 to n**"
      ],
      "metadata": {
        "id": "PqsKDimnsJ8X"
      }
    },
    {
      "cell_type": "code",
      "source": [
        "def compute_sum(number):\n",
        "    total = 0\n",
        "\n",
        "    # Iterate loop from 1 to number\n",
        "    for i in range(1, number + 1):\n",
        "        total = total + i\n",
        "\n",
        "    return total\n",
        "\n",
        "\n",
        "total = compute_sum(10)\n",
        "print(total)   # Output: 55\n",
        "\n",
        "total = compute_sum(100)\n",
        "print(total)   # Output: 5050"
      ],
      "metadata": {
        "colab": {
          "base_uri": "https://localhost:8080/"
        },
        "id": "Rjycilc2sTu0",
        "outputId": "83505a19-0c86-49f9-cec9-6a5ec6687638"
      },
      "execution_count": 30,
      "outputs": [
        {
          "output_type": "stream",
          "name": "stdout",
          "text": [
            "55\n",
            "5050\n"
          ]
        }
      ]
    },
    {
      "cell_type": "markdown",
      "source": [
        "Write a program to compute the factorial of a number.\n",
        "\n",
        "The factorial of a positive integer n is equal to:\n",
        "\n",
        "factorial = 1 * 2 * 3 * ... * n\n",
        "Step 1\n",
        "\n",
        "Define a function named compute_factorial() that takes a single parameter n.\n",
        "Inside the function, compute the factorial.\n",
        "Return the factorial.\n",
        "Step 2\n",
        "\n",
        "Outside of the function:\n",
        "\n",
        "Get an integer input from the user and store it in the number variable.\n",
        "Call compute_factorial() with number as an argument, and assign the returned value to the total variable.\n",
        "Print the total variable.\n",
        "We will assume that the user will enter a non-negative integer."
      ],
      "metadata": {
        "id": "cB6ZrkortPBE"
      }
    },
    {
      "cell_type": "code",
      "source": [
        "# Replace ___ with your code below\n",
        "\n",
        "# Define the compute_factorial() function\n",
        "def compute_factorial(n):\n",
        "    factorial = 1\n",
        "    for i in range(1,n+1):\n",
        "        factorial = factorial * i\n",
        "    return factorial\n",
        "\n",
        "\n",
        "# Get the user input\n",
        "number = int(input(\"Enter a positive integer: \"))\n",
        "\n",
        "fact = compute_factorial(number)\n",
        "print(fact)"
      ],
      "metadata": {
        "colab": {
          "base_uri": "https://localhost:8080/"
        },
        "id": "_tcQhmEptRm-",
        "outputId": "da36f1fc-4f3d-4593-9af6-436d1f12fd98"
      },
      "execution_count": 31,
      "outputs": [
        {
          "output_type": "stream",
          "name": "stdout",
          "text": [
            "Enter a positive integer: 5\n",
            "120\n"
          ]
        }
      ]
    },
    {
      "cell_type": "markdown",
      "source": [
        "Largest Number Among Three Numbers"
      ],
      "metadata": {
        "id": "pAzr4KoitWSx"
      }
    },
    {
      "cell_type": "code",
      "source": [
        "def get_largest_number(n1, n2, n3):\n",
        "    # Return n1 if it's the largest number\n",
        "    if n1 >= n2 and n1 >= n3:\n",
        "        return n1\n",
        "\n",
        "    # Return n2 if it's the largest number\n",
        "    elif n2 >= n1 and n2 >= n3:\n",
        "        return n2\n",
        "\n",
        "    # Else return n3\n",
        "    else:\n",
        "        return n3\n",
        "\n",
        "\n",
        "largest_number = get_largest_number(3, 55, -5)\n",
        "print(largest_number)    # Output: 55\n",
        "\n",
        "largest_number = get_largest_number(0, 12, 20)\n",
        "print(largest_number)    # Output: 20"
      ],
      "metadata": {
        "colab": {
          "base_uri": "https://localhost:8080/"
        },
        "id": "7SFuZmcvtZFI",
        "outputId": "a7dc53de-9d7b-4313-c5e2-89bad8631895"
      },
      "execution_count": 32,
      "outputs": [
        {
          "output_type": "stream",
          "name": "stdout",
          "text": [
            "55\n",
            "20\n"
          ]
        }
      ]
    },
    {
      "cell_type": "markdown",
      "source": [
        "Using a Temporary Variable"
      ],
      "metadata": {
        "id": "krIFOKkitiaE"
      }
    },
    {
      "cell_type": "code",
      "source": [
        "def get_largest_number(n1, n2, n3):\n",
        "    # Return n1 if it's the largest number\n",
        "    if n1 >= n2 and n1 >= n3:\n",
        "        return n1\n",
        "\n",
        "    # Return n2 if it's the largest number\n",
        "    elif n2 >= n1 and n2 >= n3:\n",
        "        return n2\n",
        "\n",
        "    # Else return n3\n",
        "    else:\n",
        "        return n3\n",
        "\n",
        "\n",
        "largest_number = get_largest_number(3, 55, -5)\n",
        "print(largest_number)    # Output: 55\n",
        "\n",
        "largest_number = get_largest_number(0, 12, 20)\n",
        "print(largest_number)    # Output: 20"
      ],
      "metadata": {
        "colab": {
          "base_uri": "https://localhost:8080/"
        },
        "id": "QA6BGVdCtlGe",
        "outputId": "f164fc90-df47-47b5-9660-cef64b39dfab"
      },
      "execution_count": 33,
      "outputs": [
        {
          "output_type": "stream",
          "name": "stdout",
          "text": [
            "55\n",
            "20\n"
          ]
        }
      ]
    },
    {
      "cell_type": "markdown",
      "source": [
        "# Check Odd/Even\n",
        "## Note: In programs where the result is always one of two values, it's a good practice to return a Boolean value (True or False) from the function."
      ],
      "metadata": {
        "id": "CSVob6KottLd"
      }
    },
    {
      "cell_type": "code",
      "source": [
        "# Function to check even or odd\n",
        "def is_even(number):\n",
        "    if number % 2 == 0:\n",
        "        return True\n",
        "    else:\n",
        "        return False\n",
        "\n",
        "# Input from user\n",
        "n = int(input(\"Enter an integer: \"))\n",
        "\n",
        "# Call the function and store the result\n",
        "result = is_even(n)\n",
        "\n",
        "# Check the result and print output\n",
        "if result:\n",
        "    print(f\"{n} is even\")\n",
        "else:\n",
        "    print(f\"{n} is odd\")"
      ],
      "metadata": {
        "colab": {
          "base_uri": "https://localhost:8080/"
        },
        "id": "x4L_itwPt3EP",
        "outputId": "ced637e9-fa8e-4c4c-df86-f3fd29dd337b"
      },
      "execution_count": 34,
      "outputs": [
        {
          "output_type": "stream",
          "name": "stdout",
          "text": [
            "Enter an integer: 5\n",
            "5 is odd\n"
          ]
        }
      ]
    },
    {
      "cell_type": "markdown",
      "source": [
        "Note: Though the use of functions has made this program a bit longer, it's still recommended to create functions to handle such tasks. It's because functions make our code more readable, and we can reuse them if needed.\n"
      ],
      "metadata": {
        "id": "z-ZJCFgwt8VI"
      }
    },
    {
      "cell_type": "markdown",
      "source": [
        "# **Project**\n",
        "List\n",
        "\n",
        "\n",
        "languages = ['English', 'German', 'French']\n",
        "\n",
        "1. The len() Function\n",
        "\n"
      ],
      "metadata": {
        "id": "41mBV4rDuLKs"
      }
    },
    {
      "cell_type": "code",
      "source": [
        "scores = [55, 64, 75, 80]\n",
        "count = len(scores)\n",
        "print(count)    # Output: 4"
      ],
      "metadata": {
        "colab": {
          "base_uri": "https://localhost:8080/"
        },
        "id": "05ziWxTfuX3C",
        "outputId": "11c7e75c-a868-448c-acc7-f5f67fe83d34"
      },
      "execution_count": 35,
      "outputs": [
        {
          "output_type": "stream",
          "name": "stdout",
          "text": [
            "4\n"
          ]
        }
      ]
    },
    {
      "cell_type": "markdown",
      "source": [
        "2. The sum() Function\n"
      ],
      "metadata": {
        "id": "PnKbqteFuaJx"
      }
    },
    {
      "cell_type": "code",
      "source": [
        "scores = [55, 64, 75, 80]\n",
        "total = sum(scores)\n",
        "print(total)    # Output: 274"
      ],
      "metadata": {
        "colab": {
          "base_uri": "https://localhost:8080/"
        },
        "id": "EuOesFaVucqi",
        "outputId": "f4b204c0-552c-4128-d33f-d2a520844499"
      },
      "execution_count": 36,
      "outputs": [
        {
          "output_type": "stream",
          "name": "stdout",
          "text": [
            "274\n"
          ]
        }
      ]
    },
    {
      "cell_type": "markdown",
      "source": [
        "Project description\n",
        "\n",
        "cores = [55, 64, 75, 80, 65]\n",
        "\n",
        "The grading rule is as follows:\n",
        "\n",
        "Grade A: If the average score is equal to or above 80.\n",
        "\n",
        "\n",
        "Grade B: If the average score is equal to or above 60 and less than 80.\n",
        "\n",
        "\n",
        "Grade C: If the average score is equal to or above 50 and less than 60.\n",
        "\n",
        "\n",
        "Grade F: If the average score is less than 50.\n",
        "\n",
        "\n",
        "Thought Process\n",
        "\n",
        "\n",
        "This project has two distinct tasks:\n",
        "\n",
        "calculating average marks\n",
        "\n",
        "\n",
        "calculating grade"
      ],
      "metadata": {
        "id": "hRj-C9EyupBW"
      }
    },
    {
      "cell_type": "code",
      "source": [
        "# Calculate the average score and return it\n",
        "def get_average_score(scores):\n",
        "    # Compute the sum of scores\n",
        "    total = sum(scores)\n",
        "\n",
        "    # Calculate the number of subjects\n",
        "    subject_count = len(scores)\n",
        "\n",
        "    # Compute the average score\n",
        "    average_score = total / subject_count\n",
        "\n",
        "    return average_score\n",
        "\n",
        "scores = [55, 64, 75, 80, 65]\n",
        "average_score = get_average_score(scores)\n",
        "\n",
        "print(average_score)   # Output: 67.8"
      ],
      "metadata": {
        "colab": {
          "base_uri": "https://localhost:8080/"
        },
        "id": "-3c9MPs-u7fW",
        "outputId": "3d10ddcc-00c8-4552-d347-f66c28250834"
      },
      "execution_count": 37,
      "outputs": [
        {
          "output_type": "stream",
          "name": "stdout",
          "text": [
            "67.8\n"
          ]
        }
      ]
    },
    {
      "cell_type": "markdown",
      "source": [
        "Compute Student's Grade\n"
      ],
      "metadata": {
        "id": "pB_w2d_5vI3O"
      }
    },
    {
      "cell_type": "code",
      "source": [
        "# Function to compute grade\n",
        "def compute_grade(average_score):\n",
        "    if average_score >= 80.0:\n",
        "        grade = \"A\"\n",
        "    elif average_score >= 60.0:\n",
        "        grade = \"B\"\n",
        "    elif average_score >= 50.0:\n",
        "        grade = \"C\"\n",
        "    else:\n",
        "        grade = \"F\"\n",
        "\n",
        "    return grade\n",
        "\n",
        "average_score = 67.8\n",
        "grade = compute_grade(average_score)\n",
        "print(grade)    # Output: B"
      ],
      "metadata": {
        "colab": {
          "base_uri": "https://localhost:8080/"
        },
        "id": "mk-qn4v5vLQ1",
        "outputId": "61bf3021-6b57-4fb9-a61d-ae5591ea3313"
      },
      "execution_count": 38,
      "outputs": [
        {
          "output_type": "stream",
          "name": "stdout",
          "text": [
            "B\n"
          ]
        }
      ]
    },
    {
      "cell_type": "markdown",
      "source": [
        "complete in one"
      ],
      "metadata": {
        "id": "Bly6J51VvO2Y"
      }
    },
    {
      "cell_type": "code",
      "source": [
        "# Function to get the average score of a student\n",
        "def get_average_score(scores):\n",
        "    # Compute the sum of scores\n",
        "    total = sum(scores)\n",
        "\n",
        "    # Get the number of subjects\n",
        "    subject_count = len(scores)\n",
        "\n",
        "    # Compute the average score\n",
        "    average_score = total / subject_count\n",
        "\n",
        "    return average_score\n",
        "\n",
        "# Function to compute the grade based on the average score\n",
        "def compute_grade(average_score):\n",
        "    if average_score >= 80.0:\n",
        "        grade = \"A\"\n",
        "    elif average_score >= 60.0:\n",
        "        grade = \"B\"\n",
        "    elif average_score >= 50.0:\n",
        "        grade = \"C\"\n",
        "    else:\n",
        "        grade = \"F\"\n",
        "\n",
        "    return grade\n",
        "\n",
        "# Student scores\n",
        "student_scores = [55, 64, 75, 80, 65]\n",
        "\n",
        "# Compute the average score\n",
        "average_score = get_average_score(student_scores)\n",
        "\n",
        "# Compute the grade\n",
        "grade = compute_grade(average_score)\n",
        "\n",
        "# Print the results\n",
        "print(f\"Average Score: {average_score}\")\n",
        "print(f\"Grade: {grade}\")"
      ],
      "metadata": {
        "colab": {
          "base_uri": "https://localhost:8080/"
        },
        "id": "AQhF_HSGvQ9e",
        "outputId": "0387d0d9-44f6-4b8a-f5e6-63d2c13d4eec"
      },
      "execution_count": 39,
      "outputs": [
        {
          "output_type": "stream",
          "name": "stdout",
          "text": [
            "Average Score: 67.8\n",
            "Grade: B\n"
          ]
        }
      ]
    },
    {
      "cell_type": "markdown",
      "source": [
        "# Recap (I)\n"
      ],
      "metadata": {
        "id": "Iql1ZhZkvW3j"
      }
    },
    {
      "cell_type": "markdown",
      "source": [
        "Define function"
      ],
      "metadata": {
        "id": "TwWe9Vk5vgZw"
      }
    },
    {
      "cell_type": "code",
      "source": [
        "# Define the function\n",
        "def calculate_product():\n",
        "    n1 = int(input(\"Enter a number: \"))\n",
        "    n2 = int(input(\"Enter a number: \"))\n",
        "\n",
        "    total = n1 * n2\n",
        "    print(total)"
      ],
      "metadata": {
        "id": "Vx1yD0CmvcwH"
      },
      "execution_count": null,
      "outputs": []
    },
    {
      "cell_type": "markdown",
      "source": [
        "Function call"
      ],
      "metadata": {
        "id": "4l461M3IviM9"
      }
    },
    {
      "cell_type": "code",
      "source": [
        "# Define the function\n",
        "def calculate_product():\n",
        "    n1 = int(input(\"Enter a number: \"))\n",
        "    n2 = int(input(\"Enter a number: \"))\n",
        "\n",
        "    total = n1 * n2\n",
        "    print(total)\n",
        "\n",
        "# Call the function\n",
        "calculate_product()"
      ],
      "metadata": {
        "id": "mMexAcHXvfHD"
      },
      "execution_count": null,
      "outputs": []
    },
    {
      "cell_type": "markdown",
      "source": [
        "# Recap (II)\n",
        "\n",
        "\n",
        "Arguments and Return Value\n",
        "\n"
      ],
      "metadata": {
        "id": "EYoIxBcQvld2"
      }
    },
    {
      "cell_type": "code",
      "source": [
        "# Define the function\n",
        "def calculate_product(a, b):\n",
        "    total = a * b\n",
        "    return total\n",
        "\n",
        "# Get inputs\n",
        "n1 = int(input(\"Enter a number: \"))\n",
        "n2 = int(input(\"Enter a number: \"))\n",
        "\n",
        "# Call the function with arguments\n",
        "result = calculate_product(n1, n2)\n",
        "\n",
        "print(result)"
      ],
      "metadata": {
        "colab": {
          "base_uri": "https://localhost:8080/"
        },
        "id": "8epXP2KovuXW",
        "outputId": "cb545d42-fce1-405b-b24e-57713e700ed6"
      },
      "execution_count": 40,
      "outputs": [
        {
          "output_type": "stream",
          "name": "stdout",
          "text": [
            "Enter a number: 5\n",
            "Enter a number: 10\n",
            "50\n"
          ]
        }
      ]
    },
    {
      "cell_type": "markdown",
      "source": [
        "Local Variables\n"
      ],
      "metadata": {
        "id": "SQ93dytEvytA"
      }
    },
    {
      "cell_type": "code",
      "source": [
        "def say_hello():\n",
        "    greeting = \"Hello\"\n",
        "\n",
        "# Error! greeting is not defined\n",
        "print(greeting)"
      ],
      "metadata": {
        "id": "W5hyg2Jkv1AM"
      },
      "execution_count": null,
      "outputs": []
    }
  ]
}